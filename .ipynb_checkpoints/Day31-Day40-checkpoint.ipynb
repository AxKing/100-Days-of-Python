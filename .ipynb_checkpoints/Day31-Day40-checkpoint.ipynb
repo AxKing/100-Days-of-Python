{
 "cells": [
  {
   "cell_type": "markdown",
   "id": "837898d0",
   "metadata": {},
   "source": [
    "#### Day 31 Create a User Interface\n",
    "#### 13MAR24"
   ]
  },
  {
   "cell_type": "code",
   "execution_count": 17,
   "id": "5b763ef7",
   "metadata": {},
   "outputs": [
    {
     "name": "stdout",
     "output_type": "stream",
     "text": [
      "                \u001b[0;31m=\u001b[1;37m=\u001b[0;34m= \u001b[1;33m Music App \u001b[0;31m=\u001b[1;37m=\u001b[0;34m=                 \n",
      " \n",
      "     🔥▶️  \u001b[1;37m Radio Gaga\n",
      "          \u001b[1;33m Queen\n",
      " \n",
      " \n",
      "    \u001b[1;37m PREV\n",
      "           \u001b[1;32m NEXT\n",
      "                  \u001b[1;35m PAUSE\n"
     ]
    }
   ],
   "source": [
    "# Challenge\n",
    "# Recreate two user interfaces.\n",
    "\n",
    "title = \"\\033[0;31m=\\033[1;37m=\\033[0;34m= \\033[1;33m Music App \\033[0;31m=\\033[1;37m=\\033[0;34m=\"\n",
    "print(f\"{title:^100}\")\n",
    "print(\" \")\n",
    "radio = \"🔥▶️  \\033[1;37m Radio Gaga\"\n",
    "print(f\"{radio: >28}\")\n",
    "song = \"\\033[1;33m Queen\"\n",
    "print(f\"{song:>23}\")\n",
    "print(\" \")\n",
    "print(\" \")\n",
    "PREV = \"\\033[1;37m PREV\"\n",
    "NEXT = \"\\033[1;32m NEXT\"\n",
    "PAUSE = \"\\033[1;35m PAUSE\"\n",
    "print(f\"{PREV:>16}\")\n",
    "print(f\"{NEXT:>23}\")\n",
    "print(f\"{PAUSE:>31}\")\n",
    "\n"
   ]
  },
  {
   "cell_type": "code",
   "execution_count": 28,
   "id": "07795022",
   "metadata": {},
   "outputs": [
    {
     "name": "stdout",
     "output_type": "stream",
     "text": [
      "                    WELCOME TO                    \n",
      "\u001b[1;34m               --    ARMBOOK    --                \n",
      " \n",
      "\u001b[1;33m                Definitely not a rip off of\n",
      "\u001b[1;33m                     a certain other social\n",
      "\u001b[1;33m                           networking site.\n",
      " \n",
      "\u001b[1;31m                     Honest.                      \n",
      " \n",
      " \n",
      "\u001b[1;37m                    Username:                     \n",
      "\u001b[1;37m                    Password:                     \n"
     ]
    }
   ],
   "source": [
    "# Faceboook rip off\n",
    "welcome = \"WELCOME TO\"\n",
    "armbook = \"--    ARMBOOK    --\"\n",
    "text1 = \"Definitely not a rip off of\"\n",
    "text2 = \"a certain other social\"\n",
    "text3 = \"networking site.\"\n",
    "honest = \"Honest.\"\n",
    "username = \"Username:\"\n",
    "password = \"Password:\"\n",
    "\n",
    "print(f\"{welcome: ^50}\")\n",
    "print(f\"\\033[1;34m{armbook: ^50}\")\n",
    "print(\" \")\n",
    "print(f\"\\033[1;33m{text1:>43}\")\n",
    "print(f\"\\033[1;33m{text2:>43}\")\n",
    "print(f\"\\033[1;33m{text3:>43}\")\n",
    "print(\" \")\n",
    "print(f\"\\033[1;31m{honest:^50}\")\n",
    "print(\" \")\n",
    "print(\" \")\n",
    "print(f\"\\033[1;37m{username:^50}\")\n",
    "print(f\"\\033[1;37m{password:^50}\")\n"
   ]
  },
  {
   "cell_type": "markdown",
   "id": "6a9d4ce0",
   "metadata": {},
   "source": [
    "### Day 32 Make a list\n",
    "#### 14MAR24"
   ]
  },
  {
   "cell_type": "code",
   "execution_count": 31,
   "id": "9e17c27a",
   "metadata": {},
   "outputs": [
    {
     "name": "stdout",
     "output_type": "stream",
     "text": [
      "things\n",
      "stuff\n"
     ]
    }
   ],
   "source": [
    "# lists start with index 0\n",
    "myList = [\"lots\", \"of\", \"things\", 1024, True]\n",
    "print(myList[2]) # index 2\n",
    "myList[2] = \"stuff\"\n",
    "print(myList[2])\n"
   ]
  },
  {
   "cell_type": "code",
   "execution_count": 33,
   "id": "83820cc9",
   "metadata": {},
   "outputs": [
    {
     "name": "stdout",
     "output_type": "stream",
     "text": [
      "['Computer Science', 'Math', 'English', 'Art', 'Sport']\n"
     ]
    }
   ],
   "source": [
    "timetable = [\"Computer Science\", \"Math\", \"English\", \"Art\", \"Sport\"]\n",
    "print(timetable)"
   ]
  },
  {
   "cell_type": "code",
   "execution_count": 36,
   "id": "40d69ec3",
   "metadata": {},
   "outputs": [
    {
     "name": "stdout",
     "output_type": "stream",
     "text": [
      "Computer Science\n",
      "Math\n",
      "English\n",
      "Art\n",
      "Sport\n"
     ]
    }
   ],
   "source": [
    "# print math\n",
    "print(timetable[0])\n",
    "print(timetable[1])\n",
    "print(timetable[2])\n",
    "print(timetable[3])\n",
    "print(timetable[4])"
   ]
  },
  {
   "cell_type": "code",
   "execution_count": 38,
   "id": "a165c83e",
   "metadata": {},
   "outputs": [],
   "source": [
    "timetable[4] = \"Watch TV\""
   ]
  },
  {
   "cell_type": "code",
   "execution_count": 39,
   "id": "86c84de6",
   "metadata": {},
   "outputs": [
    {
     "name": "stdout",
     "output_type": "stream",
     "text": [
      "Computer Science\n",
      "Math\n",
      "English\n",
      "Art\n",
      "Watch TV\n"
     ]
    }
   ],
   "source": [
    "print(timetable[0])\n",
    "print(timetable[1])\n",
    "print(timetable[2])\n",
    "print(timetable[3])\n",
    "print(timetable[4])"
   ]
  },
  {
   "cell_type": "code",
   "execution_count": 41,
   "id": "90394f3d",
   "metadata": {},
   "outputs": [
    {
     "name": "stdout",
     "output_type": "stream",
     "text": [
      "Computer Science\n",
      "Math\n",
      "English\n",
      "Art\n",
      "Watch TV\n"
     ]
    }
   ],
   "source": [
    "for subject in timetable:\n",
    "    print(subject)"
   ]
  },
  {
   "cell_type": "code",
   "execution_count": 45,
   "id": "05212dbf",
   "metadata": {},
   "outputs": [
    {
     "name": "stdout",
     "output_type": "stream",
     "text": [
      "The first color is Orange\n",
      "The last color is violet\n"
     ]
    }
   ],
   "source": [
    "# Common Errors\n",
    "colors = [\"Red\", \"Orange\", \"Yellow\", \"Green\", \"Blue\", \"violet\"]\n",
    "\n",
    "print(f\"The first color is {colors[1]}\") # The first color is at 0, not at 1.\n",
    "# print(f\"The last color is {colors[6]}\") # Throws an error because there is no entry at index 6.\n",
    "print(f\"The last color is {colors[5]}\")"
   ]
  },
  {
   "cell_type": "code",
   "execution_count": 48,
   "id": "7c359b20",
   "metadata": {},
   "outputs": [
    {
     "name": "stdout",
     "output_type": "stream",
     "text": [
      "The first grocery item to buy is bananas.\n"
     ]
    }
   ],
   "source": [
    "# Fix my Code\n",
    "\n",
    "grocery_list = [\"bananas\", \"bread\", \"milk\", \"eggs\", \"juice\", \"cheese\"]\n",
    "print(f\"The first grocery item to buy is {grocery_list[0]}.\")"
   ]
  },
  {
   "cell_type": "code",
   "execution_count": 4,
   "id": "078cbf98",
   "metadata": {},
   "outputs": [
    {
     "name": "stdout",
     "output_type": "stream",
     "text": [
      "Good Morning... or as they say in another part of the world 'Dzień dobry' \n"
     ]
    }
   ],
   "source": [
    "# Daily Challenge\n",
    "greetings = [\"Dzień dobry\", \"Buen día\", \"Guten Morgen\", \"Bom dia\", \"Доброе утро\", \"God morgon\", \"Bonjour\"]\n",
    "import random\n",
    "index = random.randint(0,6)\n",
    "print(f\"Good Morning... or as they say in another part of the world '{greetings[index]}' \")\n"
   ]
  },
  {
   "cell_type": "markdown",
   "id": "31880c71",
   "metadata": {},
   "source": [
    "#### Day 33 Dynamic Lists\n",
    "#### 15MAR24"
   ]
  },
  {
   "cell_type": "code",
   "execution_count": 6,
   "id": "ab190275",
   "metadata": {},
   "outputs": [
    {
     "name": "stdout",
     "output_type": "stream",
     "text": [
      "Add or Remove?: exit\n"
     ]
    }
   ],
   "source": [
    "myAgenda = []\n",
    "\n",
    "import os\n",
    "\n",
    "def printList():\n",
    "    print()\n",
    "    for item in myAgenda:\n",
    "        print(item)\n",
    "    print()\n",
    "\n",
    "# add an item to the list\n",
    "while True:\n",
    "    menu = input(\"Add, Remove or Exit?: \").lower()\n",
    "    if menu == \"add\":\n",
    "        item = input(\"What's next on the Agenda?: \")\n",
    "        myAgenda.append(item)\n",
    "    elif menu == \"remove\":\n",
    "        item = input(\"What do you want to remove?: \")\n",
    "        if item in myAgenda:\n",
    "            myAgenda.remove(item)\n",
    "        else:\n",
    "            print(f\"{item} was not on the list\")\n",
    "    else:\n",
    "        break\n",
    "    \n",
    "    os.system(\"clear\")\n",
    "    printList()\n",
    "    "
   ]
  },
  {
   "cell_type": "code",
   "execution_count": 12,
   "id": "a82df09b",
   "metadata": {},
   "outputs": [
    {
     "name": "stdout",
     "output_type": "stream",
     "text": [
      "add or remove?: add\n",
      "Who should I add to the party list?: plates\n",
      "\n",
      "plates\n",
      "\n",
      "add or remove?: add\n",
      "Who should I add to the party list?: napkins\n",
      "\n",
      "plates\n",
      "napkins\n",
      "\n",
      "add or remove?: remove\n",
      "Who should I remove from the party list?: napkins\n",
      "\n",
      "plates\n",
      "\n",
      "add or remove?: remove\n",
      "Who should I remove from the party list?: sodas\n",
      "sodas was not in the list\n",
      "\n",
      "plates\n",
      "\n",
      "add or remove?: exit\n"
     ]
    }
   ],
   "source": [
    "# Fix my code\n",
    "myPartyList = []\n",
    "\n",
    "def printList():\n",
    "    print() \n",
    "    for item in myPartyList:\n",
    "        print(item)\n",
    "    print() \n",
    "\n",
    "\n",
    "while True:\n",
    "    menu = input(\"add or remove?: \")\n",
    "    if menu == \"add\":\n",
    "        item = input(\"Who should I add to the party list?: \")\n",
    "        myPartyList.append(item)\n",
    "    elif menu == \"remove\":\n",
    "        item = input(\"Who should I remove from the party list?: \")\n",
    "        if item in myPartyList:\n",
    "            myPartyList.remove(item)\n",
    "        else:\n",
    "            print(f\"{item} was not in the list\")\n",
    "    else:\n",
    "       break\n",
    "                  \n",
    "    printList()"
   ]
  },
  {
   "cell_type": "code",
   "execution_count": 21,
   "id": "7ac92fee",
   "metadata": {},
   "outputs": [
    {
     "name": "stdout",
     "output_type": "stream",
     "text": [
      "To Do List\n",
      "You can \u001b[1;34mview\u001b[0m, \u001b[1;31madd\u001b[0m or \u001b[1;34medit\u001b[0m the list...\n",
      "enter anything else to exit.\n",
      ": exit\n",
      "\u001b[H\u001b[2J"
     ]
    }
   ],
   "source": [
    "# Daily Challenge\n",
    "# ToDo List Manager\n",
    "# Can view, add or edit the list.\n",
    "# If view, print it out\n",
    "# if add, they add it to the list\n",
    "# if edit, ask which item is done and remove it\n",
    "# add a title, color, alirgnment to the text or emojis\n",
    "\n",
    "toDoList = []\n",
    "def menu():\n",
    "    import os\n",
    "    print(\"To Do List\")\n",
    "    print(\"You can \\033[1;34mview\\033[0m, \\033[1;31madd\\033[0m or \\033[1;34medit\\033[0m the list...\")\n",
    "    print(\"enter anything else to exit.\")\n",
    "    choice = input(\": \")\n",
    "    os.system(\"clear\")\n",
    "    return choice\n",
    "\n",
    "def printList():\n",
    "    print()\n",
    "    for item in toDoList:\n",
    "        print(item)\n",
    "    print()\n",
    "    \n",
    "import time\n",
    "\n",
    "while True:\n",
    "    menuChoice = menu()\n",
    "    if menuChoice == \"view\":\n",
    "        printList()\n",
    "        time.sleep(5)\n",
    "    elif menuChoice == \"add\":\n",
    "        item = input(\"What task should I add to the list? :\")\n",
    "        toDoList.append(item)\n",
    "        printList()\n",
    "    elif menuChoice == \"edit\":\n",
    "        printList()\n",
    "        item = input(\"What task have you completed? :\")\n",
    "        if item in toDoList:\n",
    "            toDoList.remove(item)\n",
    "        else:\n",
    "            print(f\"\\033[1;31m{item}\\033[0m is not on the list.\")\n",
    "    else:\n",
    "        break\n",
    "    \n",
    "# red \\033[1;31m\n",
    "# blue \\033[1;34m\n",
    "# black \\033[0m"
   ]
  },
  {
   "cell_type": "markdown",
   "id": "a6261bed",
   "metadata": {},
   "source": [
    "#### Day 34 Pretty Print\n",
    "#### 16MAR24"
   ]
  },
  {
   "cell_type": "code",
   "execution_count": null,
   "id": "b2f11d2d",
   "metadata": {},
   "outputs": [
    {
     "name": "stdout",
     "output_type": "stream",
     "text": [
      "SPAMMER Inc.\n",
      "1. Add email\n",
      "2: Remove email\n",
      "3. Show emails\n",
      "4. Get SPAMMING\n",
      "> 1\n",
      "Email > asdflj\n",
      "\u001b[H\u001b[2JSPAMMER Inc.\n",
      "1. Add email\n",
      "2: Remove email\n",
      "3. Show emails\n",
      "4. Get SPAMMING\n",
      "> 1\n",
      "Email > as;dlkfj\n",
      "\u001b[H\u001b[2JSPAMMER Inc.\n",
      "1. Add email\n",
      "2: Remove email\n",
      "3. Show emails\n",
      "4. Get SPAMMING\n",
      "> 1\n",
      "Email > sa;dlfkj\n",
      "\u001b[H\u001b[2JSPAMMER Inc.\n",
      "1. Add email\n",
      "2: Remove email\n",
      "3. Show emails\n",
      "4. Get SPAMMING\n",
      "> 1\n",
      "Email > sal;kjd\n",
      "\u001b[H\u001b[2JSPAMMER Inc.\n",
      "1. Add email\n",
      "2: Remove email\n",
      "3. Show emails\n",
      "4. Get SPAMMING\n",
      "> 1\n",
      "Email > asd;flkj\n",
      "\u001b[H\u001b[2JSPAMMER Inc.\n",
      "1. Add email\n",
      "2: Remove email\n",
      "3. Show emails\n",
      "4. Get SPAMMING\n",
      "> 1\n",
      "Email > asfd;lkj\n",
      "\u001b[H\u001b[2JSPAMMER Inc.\n",
      "1. Add email\n",
      "2: Remove email\n",
      "3. Show emails\n",
      "4. Get SPAMMING\n",
      "> 1\n",
      "Email > sadfl;kj\n",
      "\u001b[H\u001b[2JSPAMMER Inc.\n",
      "1. Add email\n",
      "2: Remove email\n",
      "3. Show emails\n",
      "4. Get SPAMMING\n",
      "> 1\n",
      "Email > ;lkjsad\n",
      "\u001b[H\u001b[2JSPAMMER Inc.\n",
      "1. Add email\n",
      "2: Remove email\n",
      "3. Show emails\n",
      "4. Get SPAMMING\n",
      "> 1\n",
      "Email > asdf;\n",
      "\u001b[H\u001b[2JSPAMMER Inc.\n",
      "1. Add email\n",
      "2: Remove email\n",
      "3. Show emails\n",
      "4. Get SPAMMING\n",
      "> 1\n",
      "Email > sadf\n",
      "\u001b[H\u001b[2JSPAMMER Inc.\n",
      "1. Add email\n",
      "2: Remove email\n",
      "3. Show emails\n",
      "4. Get SPAMMING\n",
      "> 1\n",
      "Email > asdf\n",
      "\u001b[H\u001b[2JSPAMMER Inc.\n",
      "1. Add email\n",
      "2: Remove email\n",
      "3. Show emails\n",
      "4. Get SPAMMING\n",
      "> 4\n",
      "Email 1\n",
      "            \n",
      "            Dear asdflj,\n",
      "            It has come to our attention that you're missing out on the amazing Replit 100 days of code. \n",
      "            We insist you do it right away. \n",
      "            If you don't we will pass on your email address to every spammer we've ever encountered and \n",
      "            also sign you up to the My Little Pony newsletter, because that's neat. \n",
      "            We might just do that anyway.\n",
      "\n",
      "            Love and hugs,\n",
      "            Ian Spammington III\n",
      "\u001b[H\u001b[2JEmail 2\n",
      "            \n",
      "            Dear as;dlkfj,\n",
      "            It has come to our attention that you're missing out on the amazing Replit 100 days of code. \n",
      "            We insist you do it right away. \n",
      "            If you don't we will pass on your email address to every spammer we've ever encountered and \n",
      "            also sign you up to the My Little Pony newsletter, because that's neat. \n",
      "            We might just do that anyway.\n",
      "\n",
      "            Love and hugs,\n",
      "            Ian Spammington III\n",
      "\u001b[H\u001b[2JEmail 3\n",
      "            \n",
      "            Dear sa;dlfkj,\n",
      "            It has come to our attention that you're missing out on the amazing Replit 100 days of code. \n",
      "            We insist you do it right away. \n",
      "            If you don't we will pass on your email address to every spammer we've ever encountered and \n",
      "            also sign you up to the My Little Pony newsletter, because that's neat. \n",
      "            We might just do that anyway.\n",
      "\n",
      "            Love and hugs,\n",
      "            Ian Spammington III\n",
      "\u001b[H\u001b[2JEmail 4\n",
      "            \n",
      "            Dear sal;kjd,\n",
      "            It has come to our attention that you're missing out on the amazing Replit 100 days of code. \n",
      "            We insist you do it right away. \n",
      "            If you don't we will pass on your email address to every spammer we've ever encountered and \n",
      "            also sign you up to the My Little Pony newsletter, because that's neat. \n",
      "            We might just do that anyway.\n",
      "\n",
      "            Love and hugs,\n",
      "            Ian Spammington III\n",
      "\u001b[H\u001b[2JEmail 5\n",
      "            \n",
      "            Dear asd;flkj,\n",
      "            It has come to our attention that you're missing out on the amazing Replit 100 days of code. \n",
      "            We insist you do it right away. \n",
      "            If you don't we will pass on your email address to every spammer we've ever encountered and \n",
      "            also sign you up to the My Little Pony newsletter, because that's neat. \n",
      "            We might just do that anyway.\n",
      "\n",
      "            Love and hugs,\n",
      "            Ian Spammington III\n",
      "\u001b[H\u001b[2JEmail 6\n",
      "            \n",
      "            Dear asfd;lkj,\n",
      "            It has come to our attention that you're missing out on the amazing Replit 100 days of code. \n",
      "            We insist you do it right away. \n",
      "            If you don't we will pass on your email address to every spammer we've ever encountered and \n",
      "            also sign you up to the My Little Pony newsletter, because that's neat. \n",
      "            We might just do that anyway.\n",
      "\n",
      "            Love and hugs,\n",
      "            Ian Spammington III\n",
      "\u001b[H\u001b[2JEmail 7\n",
      "            \n",
      "            Dear sadfl;kj,\n",
      "            It has come to our attention that you're missing out on the amazing Replit 100 days of code. \n",
      "            We insist you do it right away. \n",
      "            If you don't we will pass on your email address to every spammer we've ever encountered and \n",
      "            also sign you up to the My Little Pony newsletter, because that's neat. \n",
      "            We might just do that anyway.\n",
      "\n",
      "            Love and hugs,\n",
      "            Ian Spammington III\n",
      "\u001b[H\u001b[2JEmail 8\n",
      "            \n",
      "            Dear ;lkjsad,\n",
      "            It has come to our attention that you're missing out on the amazing Replit 100 days of code. \n",
      "            We insist you do it right away. \n",
      "            If you don't we will pass on your email address to every spammer we've ever encountered and \n",
      "            also sign you up to the My Little Pony newsletter, because that's neat. \n",
      "            We might just do that anyway.\n",
      "\n",
      "            Love and hugs,\n",
      "            Ian Spammington III\n",
      "\u001b[H\u001b[2JEmail 9\n",
      "            \n",
      "            Dear asdf;,\n",
      "            It has come to our attention that you're missing out on the amazing Replit 100 days of code. \n",
      "            We insist you do it right away. \n",
      "            If you don't we will pass on your email address to every spammer we've ever encountered and \n",
      "            also sign you up to the My Little Pony newsletter, because that's neat. \n",
      "            We might just do that anyway.\n",
      "\n",
      "            Love and hugs,\n",
      "            Ian Spammington III\n",
      "\u001b[H\u001b[2JEmail 10\n",
      "            \n",
      "            Dear sadf,\n",
      "            It has come to our attention that you're missing out on the amazing Replit 100 days of code. \n",
      "            We insist you do it right away. \n",
      "            If you don't we will pass on your email address to every spammer we've ever encountered and \n",
      "            also sign you up to the My Little Pony newsletter, because that's neat. \n",
      "            We might just do that anyway.\n",
      "\n",
      "            Love and hugs,\n",
      "            Ian Spammington III\n",
      "\u001b[H\u001b[2JEmail 11\n",
      "            \n",
      "            Dear asdf,\n",
      "            It has come to our attention that you're missing out on the amazing Replit 100 days of code. \n",
      "            We insist you do it right away. \n",
      "            If you don't we will pass on your email address to every spammer we've ever encountered and \n",
      "            also sign you up to the My Little Pony newsletter, because that's neat. \n",
      "            We might just do that anyway.\n",
      "\n",
      "            Love and hugs,\n",
      "            Ian Spammington III\n",
      "\u001b[H\u001b[2J\u001b[H\u001b[2JSPAMMER Inc.\n"
     ]
    }
   ],
   "source": [
    "import os, time\n",
    "listOfEmail = []\n",
    "\n",
    "def prettyPrint():\n",
    "    os.system(\"clear\")\n",
    "    print(\"ListOFEmail\")\n",
    "    print()\n",
    "    for index in len(listOfEmail):\n",
    "        print(f\"{counter}: {listOfEmail[index]}\")\n",
    "    time.sleep(1)\n",
    "\n",
    "def getSpamming():\n",
    "    if len(listOfEmail) > 5:\n",
    "        for index in range(5):\n",
    "            print(f\"\"\"Email {index + 1}\n",
    "            \n",
    "            Dear {listOfEmail[index]},\n",
    "            It has come to our attention that you're missing out on the amazing Replit 100 days of code. \n",
    "            We insist you do it right away. \n",
    "            If you don't we will pass on your email address to every spammer we've ever encountered and \n",
    "            also sign you up to the My Little Pony newsletter, because that's neat. \n",
    "            We might just do that anyway.\n",
    "\n",
    "            Love and hugs,\n",
    "            Ian Spammington III\"\"\")\n",
    "            time.sleep(1)\n",
    "            os.system(\"clear\")\n",
    "    \n",
    "    else:\n",
    "        print(\"There are not enough emails to send spam.\")\n",
    "\n",
    "\n",
    "while True:\n",
    "    print(\"SPAMMER Inc.\")\n",
    "    menu = input(\"1. Add email\\n2: Remove email\\n3. Show emails\\n4. Get SPAMMING\\n> \")\n",
    "    if menu == \"1\":\n",
    "        email = input(\"Email > \")\n",
    "        listOfEmail.append(email)\n",
    "    elif menu ==\"2\":\n",
    "        email = input (\"Email > \")\n",
    "        if email in listOfEmail:\n",
    "            listOfEmail.remove(email)\n",
    "    elif menu == \"3\":\n",
    "        prettyPrint()\n",
    "    elif menu == \"4\":\n",
    "        getSpamming()\n",
    "        \n",
    "    time.sleep(1)\n",
    "    os.system(\"clear\")\n",
    "    "
   ]
  },
  {
   "cell_type": "code",
   "execution_count": 4,
   "id": "03310aff",
   "metadata": {},
   "outputs": [
    {
     "name": "stdout",
     "output_type": "stream",
     "text": [
      "SPAMMER Inc.\n",
      "1. Add email\n",
      "2: Remove email\n",
      "3. Show emails\n",
      "4. Get SPAMMING\n",
      "> 1\n",
      "Email > amain@gnaicl\n",
      "\u001b[H\u001b[2JSPAMMER Inc.\n",
      "1. Add email\n",
      "2: Remove email\n",
      "3. Show emails\n",
      "4. Get SPAMMING\n",
      "> 1\n",
      "Email > asl;djf@gnaic..com\n",
      "\u001b[H\u001b[2JSPAMMER Inc.\n",
      "1. Add email\n",
      "2: Remove email\n",
      "3. Show emails\n",
      "4. Get SPAMMING\n",
      "> 4\n"
     ]
    }
   ],
   "source": [
    "# Fix my Code\n",
    "import os, time\n",
    "listOfEmail = []\n",
    "\n",
    "def prettyPrint():\n",
    "    os.system(\"clear\") \n",
    "    print(\"listofEmail\") \n",
    "    print()\n",
    "    for index in range(len(listOfEmail)): \n",
    "        print(f\"{index}: {listOfEmail[index]}\") \n",
    "    time.sleep(1)\n",
    "\n",
    "\n",
    "while True:\n",
    "    print(\"SPAMMER Inc.\")\n",
    "    menu = input(\"1. Add email\\n2: Remove email\\n3. Show emails\\n4. Get SPAMMING\\n> \")\n",
    "    if menu == \"1\":\n",
    "        email = input(\"Email > \")\n",
    "        listOfEmail.append(email)\n",
    "    elif menu ==\"2\":\n",
    "        email = input (\"Email > \")\n",
    "        if email in listOfEmail:\n",
    "            listOfEmail.remove(email)\n",
    "    elif menu == \"3\":\n",
    "        prettyPrint()\n",
    "    elif menu == \"4\":\n",
    "        break\n",
    "    time.sleep(1)\n",
    "    os.system(\"clear\")"
   ]
  },
  {
   "cell_type": "markdown",
   "id": "368aeae7",
   "metadata": {},
   "source": [
    "#### Day 35 To Do List Manager\n",
    "#### 17MAR24"
   ]
  },
  {
   "cell_type": "code",
   "execution_count": 25,
   "id": "0d9b04cd",
   "metadata": {},
   "outputs": [
    {
     "name": "stdout",
     "output_type": "stream",
     "text": [
      "\u001b[H\u001b[2JWhat would you like to do to the list?\n",
      "To \u001b[1;34mview\u001b[0m the list enter: \u001b[1;34mview\u001b[0m\n",
      "To \u001b[1;34madd\u001b[0m something to the list enter: \u001b[1;34madd\u001b[0m\n",
      "To \u001b[1;34medit\u001b[0m something to the list enter: \u001b[1;34medit\u001b[0m\n",
      "To \u001b[1;34mremove\u001b[0m an item enter: \u001b[1;34mremove\u001b[0m\n",
      "To \u001b[1;31mclear\u001b[0m the entire list enter: \u001b[1;31m clear list\u001b[0m\n",
      "Enter your selection: \n",
      ":exit\n",
      " \n",
      "You entered exit.\n",
      "\u001b[H\u001b[2J"
     ]
    }
   ],
   "source": [
    "# Challenge\n",
    "# Create a menu where the user can view, add, or remove an item.\n",
    "# The user should be able to edit the text of an item on the list too.\n",
    "# Don't allow the user to add duplicates.\n",
    "# Double check with the user they want to remove an item from the list before it is actually removed. \n",
    "    # (Is this the item they really want to remove?)\n",
    "# Give the user the option to completely erase the to do list. \n",
    "    # (You should be able to do this in one line of code!)\n",
    "\n",
    "import os, time\n",
    "toDoList = []\n",
    "\n",
    "def displayMenu():\n",
    "    os.system(\"clear\")\n",
    "    print(\"What would you like to do to the list?\")\n",
    "    print(\"To \\033[1;34mview\\033[0m the list enter: \\033[1;34mview\\033[0m\")\n",
    "    print(\"To \\033[1;34madd\\033[0m something to the list enter: \\033[1;34madd\\033[0m\")\n",
    "    print(\"To \\033[1;34medit\\033[0m something to the list enter: \\033[1;34medit\\033[0m\")\n",
    "    print(\"To \\033[1;34mremove\\033[0m an item enter: \\033[1;34mremove\\033[0m\")\n",
    "    print(\"To \\033[1;31mclear\\033[0m the entire list enter: \\033[1;31m clear list\\033[0m\")\n",
    "    print(\"Enter your selection: \")\n",
    "    choice = input(\":\")\n",
    "    print(\" \")\n",
    "    print(f\"You entered {choice}.\")\n",
    "    time.sleep(3)\n",
    "    os.system(\"clear\")\n",
    "    return choice\n",
    "\n",
    "def displayList(toDoList):\n",
    "    os.system(\"clear\")\n",
    "    print(\"The Mighty To Do List\")\n",
    "    print(\" \")\n",
    "    if len(toDoList) == 0:\n",
    "        print(\"You have not added anything to the list...\")\n",
    "    else:\n",
    "        for index in range(len(toDoList)):\n",
    "            print(f\"{index + 1}. {toDoList[index]}\")\n",
    "    print(\" \")\n",
    "    time.sleep(5)\n",
    "\n",
    "def addToList(toDoList):\n",
    "    while True:\n",
    "        os.system(\"clear\")\n",
    "        print(\"Enter the name of an item you'd like to add to the list.\")\n",
    "        print(\"Type \\033[1;31mdone\\033[0m when you're finished.\")\n",
    "        print(\"What would you like to add to the list? \")\n",
    "        add_item = input(\": \")\n",
    "        os.system(\"clear\")\n",
    "        if add_item == \"done\":\n",
    "            break\n",
    "        elif add_item not in toDoList:\n",
    "            toDoList.append(add_item)\n",
    "            print(f\"{add_item} has been added to the list.\")\n",
    "            time.sleep(2)\n",
    "        else:\n",
    "            print(f\"{add_item} is already on the list.\")\n",
    "            time.sleep(2)\n",
    "    return toDoList\n",
    "    \n",
    "\n",
    "def editList(toDoList):\n",
    "    os.system(\"clear\")\n",
    "    print(\"Edit the list\")\n",
    "    print(\"\")\n",
    "    displayList(toDoList)\n",
    "    indexToChange = int(input(\"Which entry number would you like to update?: \")) - 1\n",
    "    updateToThis = input(\"What would you like to change it to? \")\n",
    "    print(\" \")\n",
    "    print(f\"I have updated {toDoList[indexToChange]} and replaced it with {updateToThis}.\")\n",
    "    toDoList[indexToChange] = updateToThis\n",
    "    time.sleep(3)\n",
    "    return toDoList\n",
    "\n",
    "def removeItem(toDoList):\n",
    "    os.system(\"clear\")\n",
    "    print(\"Remove and item from the list\")\n",
    "    print(\"\")\n",
    "    displayList(toDoList)\n",
    "    indexToRemove = int(input(\"Which entry number would you like to remove?: \")) - 1\n",
    "    os.system(\"clear\")\n",
    "    print(f\"Enter y to confirm, you'd like to remove {toDoList[indexToRemove]}\")\n",
    "    confirm = input(\"y to confirm: \")\n",
    "    if confirm == \"y\":\n",
    "        print(f\"I have removed {toDoList[indexToRemove]}.\")\n",
    "        toDoList.remove(toDoList[indexToRemove])\n",
    "    else:\n",
    "        print(\"I didn't understand that...\")\n",
    "        print(\"Let's go back to the main menu.\")\n",
    "    time.sleep(3)\n",
    "    return toDoList\n",
    "\n",
    "def clearList(toDoList):\n",
    "    os.system(\"clear\")\n",
    "    print(\"Clear the list...\")\n",
    "    print(\" \")\n",
    "    print(\"Are sure you want to clear the list?\")\n",
    "    confirm = input(\"enter y to confirm:\")\n",
    "    if confirm == \"y\":\n",
    "        print(\"Are you REALLY sure you want to clear the list?\")\n",
    "        reallySure = input(\"y to REALLY confirm:\")\n",
    "        if reallySure == \"y\":\n",
    "            print(\"Alright. I have cleared the list.\")\n",
    "            toDoList = []\n",
    "            time.sleep(2)\n",
    "        else:\n",
    "            print(\"False Alarm\")\n",
    "    else:\n",
    "        print(\"False Alarm\")\n",
    "    return toDoList\n",
    "    \n",
    "while True:\n",
    "    choice = displayMenu()\n",
    "    if choice == \"view\":\n",
    "        displayList(toDoList)\n",
    "    elif choice ==\"add\":\n",
    "        toDoList = addToList(toDoList)\n",
    "    elif choice == \"edit\":\n",
    "        editList(toDoList)\n",
    "    elif choice ==\"remove\":\n",
    "        toDoList = removeItem(toDoList)\n",
    "    elif choice == \"clear list\":\n",
    "        toDoList = clearList(toDoList)\n",
    "    elif choice == \"exit\":\n",
    "        break"
   ]
  },
  {
   "cell_type": "markdown",
   "id": "1bf01f22",
   "metadata": {},
   "source": [
    "#### Day 36 String Manipulation \n",
    "#### 18MAR24"
   ]
  },
  {
   "cell_type": "code",
   "execution_count": 5,
   "id": "bd51da23",
   "metadata": {},
   "outputs": [
    {
     "name": "stdout",
     "output_type": "stream",
     "text": [
      "What's your name?     davId     \n",
      "Hello Baldy\n"
     ]
    }
   ],
   "source": [
    "name = input(\"What's your name? \")\n",
    "if name.lower().strip() == \"david\":\n",
    "    print(\"Hello Baldy\")\n",
    "else:\n",
    "    print(\"What beautiful head of hair\")"
   ]
  },
  {
   "cell_type": "code",
   "execution_count": 9,
   "id": "9bc11df9",
   "metadata": {},
   "outputs": [
    {
     "name": "stdout",
     "output_type": "stream",
     "text": [
      "Item > exit\n"
     ]
    }
   ],
   "source": [
    "myList = []\n",
    "\n",
    "def printList():\n",
    "  print()\n",
    "  for i in myList:\n",
    "    print(i)\n",
    "  print()\n",
    "\n",
    "while True:\n",
    "  addItem = input(\"Item > \").strip().capitalize()\n",
    "  if addItem not in myList:\n",
    "    myList.append(addItem) \n",
    "  if addItem == \"Exit\":\n",
    "    break\n",
    "  printList()"
   ]
  },
  {
   "cell_type": "code",
   "execution_count": 14,
   "id": "7ab3a138",
   "metadata": {},
   "outputs": [
    {
     "name": "stdout",
     "output_type": "stream",
     "text": [
      "What do you fancy for dinner? pasta\n",
      "Get out the pasta maker.\n"
     ]
    }
   ],
   "source": [
    "whatToEat = input(\"What do you fancy for dinner? \").strip().lower()\n",
    "if whatToEat == \"pasta\": \n",
    "    print(\"Get out the pasta maker.\")\n",
    "elif whatToEat == \"tacos\":\n",
    "    print(\"Let's do Taco Tuesday!\")\n",
    "else: \n",
    "    print(\"Go search the fridge.\")"
   ]
  },
  {
   "cell_type": "code",
   "execution_count": 23,
   "id": "2b8d24a0",
   "metadata": {},
   "outputs": [
    {
     "name": "stdout",
     "output_type": "stream",
     "text": [
      "What is your first name? tony\n",
      "What is your last name? medina\n",
      "Here is the most updated list of people: \n",
      "['Tony Medina']\n",
      "What is your first name? Reeduh\n",
      "What is your last name? sticks\n",
      "Here is the most updated list of people: \n",
      "['Tony Medina', 'Reeduh Sticks']\n",
      "What is your first name? exit\n"
     ]
    }
   ],
   "source": [
    "# Daily Challenge\n",
    "people = []\n",
    "while True:\n",
    "    first = input(\"What is your first name? \").strip().capitalize()\n",
    "    if first == \"Exit\":\n",
    "        break\n",
    "    last = input(\"What is your last name? \").strip().capitalize()\n",
    "    combinedName = f\"{first} {last}\"\n",
    "    if combinedName not in people:\n",
    "        people.append(combinedName)\n",
    "        print(\"Here is the most updated list of people: \")\n",
    "        print(people)"
   ]
  },
  {
   "cell_type": "markdown",
   "id": "a3abbd7e",
   "metadata": {},
   "source": [
    "#### Day 37 String Slicing\n",
    "#### 19MAR24"
   ]
  },
  {
   "cell_type": "code",
   "execution_count": 3,
   "id": "714ca330",
   "metadata": {},
   "outputs": [
    {
     "name": "stdout",
     "output_type": "stream",
     "text": [
      "H\n"
     ]
    }
   ],
   "source": [
    "myString = \"Hello there my friend!\"\n",
    "print(myString[0])"
   ]
  },
  {
   "cell_type": "code",
   "execution_count": 15,
   "id": "5c60c234",
   "metadata": {},
   "outputs": [
    {
     "name": "stdout",
     "output_type": "stream",
     "text": [
      "\n",
      "Hello\n",
      "there\n",
      "Hello there\n",
      " my friend!\n",
      "Hello there my friend!\n",
      "!dneirf ym ereht olleH\n",
      "['Hello', 'there', 'my', 'friend!']\n",
      "\n"
     ]
    }
   ],
   "source": [
    "print(f\"\"\"\n",
    "{myString[0:5]}\n",
    "{myString[6:11]}\n",
    "{myString[0:11]}\n",
    "{myString[11:]}\n",
    "{myString[:]}\n",
    "{myString[::-1]}\n",
    "{myString.split()}\n",
    "\"\"\")"
   ]
  },
  {
   "cell_type": "code",
   "execution_count": 16,
   "id": "4f35b685",
   "metadata": {},
   "outputs": [
    {
     "data": {
      "text/plain": [
       "['Hello', 'there', 'my', 'friend!']"
      ]
     },
     "execution_count": 16,
     "metadata": {},
     "output_type": "execute_result"
    }
   ],
   "source": [
    "myString.split()"
   ]
  },
  {
   "cell_type": "code",
   "execution_count": 18,
   "id": "1521baf8",
   "metadata": {},
   "outputs": [
    {
     "name": "stdout",
     "output_type": "stream",
     "text": [
      "Hello there\n"
     ]
    }
   ],
   "source": [
    "# This code should output 'Hello there'\n",
    "myString = \"Hello there my friend.\"\n",
    "print(myString[0:11])"
   ]
  },
  {
   "cell_type": "code",
   "execution_count": 24,
   "id": "72a9491e",
   "metadata": {},
   "outputs": [
    {
     "name": "stdout",
     "output_type": "stream",
     "text": [
      "- - - Star Wars Name Generator - - -\n",
      "\n",
      "I'll ask a series of questions and then generate your Star Wars name!\n",
      "\n",
      "First name: Tony\n",
      "Last name: Medina\n",
      "Mother's maiden name: Dickinson\n",
      "City of birth: Claremont\n",
      "Tonmed\n",
      "Diont\n",
      "Your Star Wars name is Tonmed Diont\n"
     ]
    }
   ],
   "source": [
    "# Daily Challenge\n",
    "# Generate a Star Wars Name\n",
    "print(\"- - - Star Wars Name Generator - - -\")\n",
    "print(\"\")\n",
    "print(\"I'll ask a series of questions and then generate your Star Wars name!\")\n",
    "print(\"\")\n",
    "first = input(\"First name: \")\n",
    "last = input(\"Last name: \")\n",
    "maid = input(\"Mother's maiden name: \")\n",
    "city = input(\"City of birth: \")\n",
    "\n",
    "newFirst = (first[:3] + last[:3]).capitalize()\n",
    "newLast = (maid[:2]+ city[len(city)-3:]).capitalize()\n",
    "print(newFirst)\n",
    "print(newLast)\n",
    "print(f\"Your Star Wars name is {newFirst} {newLast}\")"
   ]
  },
  {
   "cell_type": "markdown",
   "id": "706990cb",
   "metadata": {},
   "source": [
    "#### Day 38 Code the Rainbow\n",
    "#### 20MAR24"
   ]
  },
  {
   "cell_type": "code",
   "execution_count": 26,
   "id": "145939e7",
   "metadata": {},
   "outputs": [
    {
     "name": "stdout",
     "output_type": "stream",
     "text": [
      "D\n",
      "a\n",
      "y\n",
      " \n",
      "3\n",
      "8\n"
     ]
    }
   ],
   "source": [
    "myString = \"Day 38\"\n",
    "for letter in myString:\n",
    "  print(letter)\n",
    "\n",
    "# This code outputs:\n",
    "#D\n",
    "#a\n",
    "#y\n",
    "\n",
    "#3\n",
    "#8\n",
    "# this is a comment in the code, the computer will ignore it"
   ]
  },
  {
   "cell_type": "code",
   "execution_count": 36,
   "id": "8f776947",
   "metadata": {},
   "outputs": [
    {
     "name": "stdout",
     "output_type": "stream",
     "text": [
      "D\n",
      "\u001b[0m\u001b[33ma\n",
      "\u001b[0my\n",
      "\u001b[0m \n",
      "\u001b[0m3\n",
      "\u001b[0m8\n",
      "\u001b[0m"
     ]
    }
   ],
   "source": [
    "myString = \"Day 38\"\n",
    "for letter in myString:\n",
    "  if letter.lower() == \"a\":\n",
    "    print('\\033[33m', end='') #yellow\n",
    "  print(letter)\n",
    "  print('\\033[0m', end='') #back to default\n",
    "\n",
    "# This code outputs (with a yellow 'a'):\n",
    "#D\n",
    "#a\n",
    "#y\n",
    "\n",
    "#3\n",
    "#8"
   ]
  },
  {
   "cell_type": "code",
   "execution_count": 30,
   "id": "55d46968",
   "metadata": {},
   "outputs": [
    {
     "name": "stdout",
     "output_type": "stream",
     "text": [
      "W\u001b[0m\u001b[33mi\u001b[0ml\u001b[0ml\u001b[0m \u001b[0mm\u001b[0my\u001b[0m \u001b[0mv\u001b[0m\u001b[33mo\u001b[0mw\u001b[0m\u001b[33me\u001b[0ml\u001b[0ms\u001b[0m \u001b[0mn\u001b[0m\u001b[33mo\u001b[0mw\u001b[0m \u001b[0mb\u001b[0m\u001b[33me\u001b[0m \u001b[0my\u001b[0m\u001b[33me\u001b[0ml\u001b[0ml\u001b[0m\u001b[33mo\u001b[0mw\u001b[0m?\u001b[0m"
     ]
    }
   ],
   "source": [
    "vowels = [\"a\",\"e\",\"i\",\"o\",\"u\"]\n",
    "\n",
    "myString = \"Will my vowels now be yellow?\"\n",
    "for letter in myString:\n",
    "  \n",
    "  if letter.lower() in vowels:\n",
    "    print('\\033[33m', end='') #yellow\n",
    "    \n",
    "  print(letter, end=\"\")\n",
    "  print('\\033[0m', end='') #back to default"
   ]
  },
  {
   "cell_type": "code",
   "execution_count": 6,
   "id": "9c6299ab",
   "metadata": {},
   "outputs": [
    {
     "name": "stdout",
     "output_type": "stream",
     "text": [
      "Type in any sentence you'd like: A much shorter sentence\n",
      " \n",
      "printing string\n",
      "\n",
      "\n",
      "\n",
      "\n",
      "\u001b[0mA\u001b[0m \u001b[0mm\u001b[0mu\u001b[0mc\u001b[0mh\u001b[0m \u001b[0ms\u001b[0mh\u001b[0mo\u001b[1;31mr\u001b[1;31mt\u001b[1;31me\u001b[1;31mr\u001b[0m \u001b[0ms\u001b[0me\u001b[0mn\u001b[0mt\u001b[0me\u001b[0mn\u001b[0mc\u001b[0me"
     ]
    }
   ],
   "source": [
    "# challenge\n",
    "# ask the user for a sentence\n",
    "# r for red, \n",
    "# b for blue, \n",
    "# y for yellow\n",
    "# g for green\n",
    "# p for purple\n",
    "\n",
    "inputString = input(\"Type in any sentence you'd like: \")\n",
    "print(\" \")\n",
    "print(\"printing string\")\n",
    "print(\"\"\"\n",
    "\n",
    "\n",
    "\"\"\")\n",
    "colorCode = \"\\033[0m\"\n",
    "# inputString = \"Today is Kaylee's Birthday. We're going to have a BUNCH of fun!First off, we're going to get some 85*C, then an Escape Room, then Kung Fu Panda 4!!!\"\n",
    "for letter in inputString:\n",
    "    if letter.lower() == \"y\":\n",
    "        colorCode = '\\033[33m'\n",
    "    elif letter.lower() == \"b\":\n",
    "        colorCode = \"\\033[1;34m\"\n",
    "    elif letter.lower() == \"r\":\n",
    "        colorCode = \"\\033[1;31m\"\n",
    "    elif letter.lower() == \"p\":\n",
    "        color = \"purple\"\n",
    "        colorCode = \"\\033[0;35m\"\n",
    "    elif letter.lower() == \"g\":\n",
    "        colorCode = \"\\033[0;32m\"\n",
    "    elif letter.lower() == \" \":\n",
    "        color = \"black\"\n",
    "        colorCode = \"\\033[0m\"\n",
    "\n",
    "    \n",
    "    print(colorCode+letter, end=\"\")"
   ]
  },
  {
   "cell_type": "markdown",
   "id": "acb85d49",
   "metadata": {},
   "source": [
    "#### Day 39 Hangman\n",
    "#### 21MAR24"
   ]
  },
  {
   "cell_type": "code",
   "execution_count": 66,
   "id": "0f503306",
   "metadata": {},
   "outputs": [
    {
     "name": "stdout",
     "output_type": "stream",
     "text": [
      "_ _ _ _ _ _ Guess a letter: o\n",
      "Oops. You have 5 left.\n",
      "_ _ _ _ _ _ Guess a letter: a\n",
      "Good guess.\n",
      "_ a _ _ a _ Guess a letter: b\n",
      "Good guess.\n",
      "b a _ _ a _ Guess a letter: t\n",
      "Good guess.\n",
      "b a t _ a _ Guess a letter: m\n",
      "Good guess.\n",
      "b a t m a _ Guess a letter: n\n",
      "Good guess.\n",
      "You win!\n",
      " \n",
      "b a t m a n "
     ]
    }
   ],
   "source": [
    "import random\n",
    "wordList = [\"british\", \"suave\", \"integrity\", \"accent\", \"evil\", \"genius\", \"downton\", \"lantern\", \"batman\"]\n",
    "\n",
    "myWord = random.choice(wordList)\n",
    "\n",
    "missedGuesses = 6\n",
    "guessedLetters = []\n",
    "correctLetters = []\n",
    "\n",
    "def displayWord(myWord, correctLetters):\n",
    "    for letter in myWord:\n",
    "        if letter in correctLetters:\n",
    "            print(letter, end=\" \")\n",
    "        else:\n",
    "            print(\"_\", end=\" \")\n",
    "\n",
    "def winGame(myWord, correctLetters):\n",
    "    for letter in myWord:\n",
    "        if letter not in correctLetters:\n",
    "            return False\n",
    "    return True\n",
    "    \n",
    "while missedGuesses > 0:\n",
    "    displayWord(myWord, correctLetters)\n",
    "    guess = input(\"Guess a letter: \")\n",
    "    if guess in guessedLetters:\n",
    "        print(\"You already guessed that letter.\")\n",
    "    elif guess in myWord:\n",
    "        guessedLetters.append(guess)\n",
    "        correctLetters.append(guess)\n",
    "        print(\"Good guess.\")\n",
    "        if winGame(myWord, correctLetters):\n",
    "            print(\"You win!\")\n",
    "            print(\" \")\n",
    "            displayWord(myWord, correctLetters)\n",
    "            break\n",
    "    elif guess not in myWord:\n",
    "        guessedLetters.append(guess)\n",
    "        missedGuesses -= 1\n",
    "        print(f\"Oops. You have {missedGuesses} left.\")\n",
    "        if missedGuesses == 0:\n",
    "            print(\"Oof... you lose the game.\")\n",
    "            print(f\"The word was {myWord}\")\n",
    "            break\n",
    "        "
   ]
  },
  {
   "cell_type": "markdown",
   "id": "93df8c01",
   "metadata": {},
   "source": [
    "#### Day 40 Dictionaries\n",
    "#### 22MAR24"
   ]
  },
  {
   "cell_type": "code",
   "execution_count": 13,
   "id": "cd340836",
   "metadata": {},
   "outputs": [
    {
     "name": "stdout",
     "output_type": "stream",
     "text": [
      "I am 128 years old\n",
      "128\n"
     ]
    }
   ],
   "source": [
    "myUser = {\"name\": \"David\", \"age\": 128 }\n",
    "\n",
    "print(f\"I am {myUser['age']} years old\")\n",
    "print(myUser[\"age\"])"
   ]
  },
  {
   "cell_type": "code",
   "execution_count": 14,
   "id": "dde4e196",
   "metadata": {},
   "outputs": [],
   "source": [
    "myUser['name'] = \"The Legendary Tony\""
   ]
  },
  {
   "cell_type": "code",
   "execution_count": 15,
   "id": "a28e49fc",
   "metadata": {},
   "outputs": [
    {
     "data": {
      "text/plain": [
       "'The Legendary Tony'"
      ]
     },
     "execution_count": 15,
     "metadata": {},
     "output_type": "execute_result"
    }
   ],
   "source": [
    "myUser['name']"
   ]
  },
  {
   "cell_type": "code",
   "execution_count": 16,
   "id": "d689636b",
   "metadata": {},
   "outputs": [
    {
     "name": "stdout",
     "output_type": "stream",
     "text": [
      "Andy\n"
     ]
    }
   ],
   "source": [
    "# Fix my code\n",
    "myUser = {'name':\"Andy\", \"age\":128}\n",
    "\n",
    "print(myUser[\"name\"])"
   ]
  },
  {
   "cell_type": "code",
   "execution_count": 21,
   "id": "de71e8ee",
   "metadata": {},
   "outputs": [
    {
     "name": "stdout",
     "output_type": "stream",
     "text": [
      "Please input your name:  Tony\n",
      "Please input your date of birth:  July 22nd\n",
      "Please input your telephone number:  818-918-3925\n",
      "Please input your email:  MxPxFan532@aol.com\n",
      "Please input your address:  16121 Dubesor St.\n",
      "Here is the contact card for Tony: \n",
      "- - - - - - - - - -\n",
      "- - - - - - - - - -\n",
      "Your name is Tony.\n",
      "Your date of birth is July 22nd.\n",
      "Your telephone number is 818-918-3925.\n",
      "Your email is MxPxFan532@aol.com.\n",
      "Your address is 16121 Dubesor St..\n"
     ]
    }
   ],
   "source": [
    "# Daily Challenge\n",
    "# ask for name, DOB, telephone, email, address in a dictionary\n",
    "# Print it all out in a nice way\n",
    "asks = [\"name\", \"date of birth\", \"telephone number\", \"email\", \"address\"]\n",
    "person = {}\n",
    "for ask in asks:\n",
    "    person[ask] = input(f\"Please input your {ask}:  \")\n",
    "    \n",
    "\n",
    "print(f\"Here is the contact card for {person['name']}: \")\n",
    "print(\"- - - - - - - - - -\")\n",
    "print(\"- - - - - - - - - -\")\n",
    "for ask in asks:\n",
    "    print(f\"Your {ask} is {person[ask]}.\")"
   ]
  }
 ],
 "metadata": {
  "kernelspec": {
   "display_name": "Python 3 (ipykernel)",
   "language": "python",
   "name": "python3"
  },
  "language_info": {
   "codemirror_mode": {
    "name": "ipython",
    "version": 3
   },
   "file_extension": ".py",
   "mimetype": "text/x-python",
   "name": "python",
   "nbconvert_exporter": "python",
   "pygments_lexer": "ipython3",
   "version": "3.9.18"
  }
 },
 "nbformat": 4,
 "nbformat_minor": 5
}
