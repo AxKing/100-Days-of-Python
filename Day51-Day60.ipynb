{
 "cells": [
  {
   "cell_type": "markdown",
   "id": "871077fc",
   "metadata": {},
   "source": [
    "#### Day 51 Saving and Loading data\n",
    "#### 1APR24"
   ]
  },
  {
   "cell_type": "code",
   "execution_count": null,
   "id": "3f551b3c",
   "metadata": {},
   "outputs": [],
   "source": [
    "myEvents = []\n",
    "\n",
    "def prettyPrint():\n",
    "    print()\n",
    "    for row in myEvents:\n",
    "        print(f\"{row[0] :^15} {row[1] :^15}\")\n",
    "    print()\n",
    "\n",
    "while True:\n",
    "    menu = input(\"1: Add, 2: Remove\\n\")\n",
    "\n",
    "    if menu == \"1\":\n",
    "        event = input(\"What event?: \").capitalize()\n",
    "        date = input(\"What date?: \")\n",
    "        row = [event,date]\n",
    "        myEvents.append(row)\n",
    "        prettyPrint()\n",
    "\n",
    "    else:\n",
    "        criteria = input(\"What event do you want to remove?: \").title()\n",
    "        for row in myEvents:\n",
    "            if criteria in row:\n",
    "                myEvents.remove(row)"
   ]
  },
  {
   "cell_type": "code",
   "execution_count": null,
   "id": "bbd80d0b",
   "metadata": {},
   "outputs": [],
   "source": [
    "myEvents = []\n",
    "\n",
    "f = open(\"calendar.txt\", \"r\")\n",
    "myEvents = eval(f.read())\n",
    "f.close()\n",
    "\n",
    "def prettyPrint():\n",
    "    print()\n",
    "    for row in myEvents:\n",
    "        print(f\"{row[0] :^15} {row[1] :^15}\")\n",
    "    print()\n",
    "\n",
    "while True:\n",
    "    menu = input(\"1: Add, 2: Remove\\n\")\n",
    "\n",
    "    if menu == \"1\":\n",
    "        event = input(\"What event?: \").capitalize()\n",
    "        date = input(\"What date?: \")\n",
    "        row = [event,date]\n",
    "        myEvents.append(row)\n",
    "        prettyPrint()\n",
    "    elif menu == \"exit\":\n",
    "        break\n",
    "\n",
    "    else:\n",
    "        criteria = input(\"What event do you want to remove?: \").title()\n",
    "        for row in myEvents:\n",
    "            if criteria in row:\n",
    "                myEvents.remove(row)\n",
    "\n",
    "  ########### THIS IS THE NEW BIT ########\n",
    "    f = open(\"calendar.txt\", \"w\") # Permissions set to 'w' because we are deleting the file and replacing it with the whole 2D list every time.\n",
    "    f.write(str(myEvents)) # Need to cast the list to a single string\n",
    "    f.close()\n",
    "  #########################################"
   ]
  },
  {
   "cell_type": "code",
   "execution_count": null,
   "id": "253cb620",
   "metadata": {},
   "outputs": [],
   "source": [
    "myEvents = []\n",
    "\n",
    "f = open(\"calendar.txt\",\"r\")\n",
    "myEvents = eval(f.read())\n",
    "f.close()\n",
    "\n",
    "def prettyPrint():\n",
    "    print()\n",
    "    for row in myEvents:\n",
    "        print(f\"{row[0] :^15} {row[1] :^15}\")\n",
    "    print()\n",
    "\n",
    "while True:\n",
    "    menu = input(\"1: Add, 2: Remove\\n\")\n",
    "    if menu == \"1\":\n",
    "        event = input(\"What event?: \").capitalize()\n",
    "        date = input(\"What date?: \")\n",
    "        row = [event,date]\n",
    "        myEvents.append(row)\n",
    "        prettyPrint()\n",
    "    elif menu == \"exit\":\n",
    "        break\n",
    "    else:\n",
    "        criteria = input(\"What event do you want to remove?: \").title()\n",
    "        for row in myEvents:\n",
    "            if criteria in row:\n",
    "                myevents.remove(row)\n",
    "\n",
    "  \n",
    "    f = open(\"calendar.txt\", \"w\") \n",
    "    f.write(str(myEvents)) \n",
    "    f.close()"
   ]
  },
  {
   "cell_type": "code",
   "execution_count": 14,
   "id": "2f585576",
   "metadata": {},
   "outputs": [
    {
     "name": "stdout",
     "output_type": "stream",
     "text": [
      "To Do List\n",
      "You can \u001b[1;34mview\u001b[0m, \u001b[1;31madd\u001b[0m or \u001b[1;34medit\u001b[0m the list...\n",
      "enter anything else to exit.\n",
      ": view\n",
      "\u001b[H\u001b[2J\n",
      "[\"Maria's wedding\", '1/10/2024']\n",
      "['Nature walk', 'tomorrow']\n",
      "['Pack', 'today']\n",
      "Lunch with Lex\n",
      "\n",
      "To Do List\n",
      "You can \u001b[1;34mview\u001b[0m, \u001b[1;31madd\u001b[0m or \u001b[1;34medit\u001b[0m the list...\n",
      "enter anything else to exit.\n",
      ": exit\n",
      "\u001b[H\u001b[2J"
     ]
    }
   ],
   "source": [
    "# Daily Challenge\n",
    "# Go back to day 35.\n",
    "# Add autosave and autoload code\n",
    "# \n",
    "\n",
    "\n",
    "toDoList = []\n",
    "f = open(\"ToDo.txt\",\"r\")\n",
    "toDoList = eval(f.read())\n",
    "f.close()\n",
    "    \n",
    "    \n",
    "def menu():\n",
    "    import os\n",
    "    print(\"To Do List\")\n",
    "    print(\"You can \\033[1;34mview\\033[0m, \\033[1;31madd\\033[0m or \\033[1;34medit\\033[0m the list...\")\n",
    "    print(\"enter anything else to exit.\")\n",
    "    choice = input(\": \")\n",
    "    os.system(\"clear\")\n",
    "    return choice\n",
    "\n",
    "def printList():\n",
    "    print()\n",
    "    for item in toDoList:\n",
    "        print(item)\n",
    "    print()\n",
    "    \n",
    "import time\n",
    "\n",
    "while True:\n",
    "    menuChoice = menu()\n",
    "    if menuChoice == \"view\":\n",
    "        printList()\n",
    "        time.sleep(5)\n",
    "    elif menuChoice == \"add\":\n",
    "        item = input(\"What task should I add to the list? :\")\n",
    "        toDoList.append(item)\n",
    "        printList()\n",
    "    elif menuChoice == \"edit\":\n",
    "        printList()\n",
    "        item = input(\"What task have you completed? :\")\n",
    "        if item in toDoList:\n",
    "            toDoList.remove(item)\n",
    "        else:\n",
    "            print(f\"\\033[1;31m{item}\\033[0m is not on the list.\")\n",
    "    else:\n",
    "        break\n",
    "    f = open(\"ToDo.txt\", \"w\")\n",
    "    f.write(str(toDoList)) \n",
    "    f.close()"
   ]
  },
  {
   "cell_type": "markdown",
   "id": "58c39451",
   "metadata": {},
   "source": [
    "#### Day 52 Exception Handling\n",
    "#### 2APR24"
   ]
  },
  {
   "cell_type": "code",
   "execution_count": null,
   "id": "a2ae8626",
   "metadata": {},
   "outputs": [],
   "source": [
    "myStuff = []\n",
    "try:  \n",
    "    f = open(\"Stuff.mine\",\"r\")\n",
    "    myStuff = eval(f.read())\n",
    "    f.close()\n",
    "except Exception as err:\n",
    "    print(err)\n",
    "    \n",
    "for row in myStuff:\n",
    "    print(row)"
   ]
  },
  {
   "cell_type": "code",
   "execution_count": 2,
   "id": "f0897036",
   "metadata": {},
   "outputs": [
    {
     "name": "stdout",
     "output_type": "stream",
     "text": [
      "There are no orders yet... \n",
      "🍕 Tony's Pizza Place 🍕\n",
      "Can I get a name for the order? Anthony\n",
      "How many pies would you like? 2\n",
      "What would like on them? Cheese\n",
      "What size (s,m,l) pizza would you like?l\n",
      "Alright, I have your order. 2 pies with Cheese.\n",
      "That will be 29.98\n"
     ]
    }
   ],
   "source": [
    "# Write a program\n",
    "# number of pizzas\n",
    "# size of pizzas\n",
    "orders = []\n",
    "sizeCost= {'s': 9.99, 'm':12.99, 'l': 14.99}\n",
    "\n",
    "try:\n",
    "    f.open(orders.txt, \"r\")\n",
    "    orders = eval(f.read)\n",
    "    f.close()\n",
    "except:\n",
    "    print(\"There are no orders yet... \")\n",
    "    \n",
    "print(\"🍕 Tony's Pizza Place 🍕\")\n",
    "name = input(\"Can I get a name for the order? \")\n",
    "\n",
    "quantity = 'zero'\n",
    "\n",
    "while type(quantity) != type(17):\n",
    "    try:\n",
    "        quantity = input(\"How many pies would you like? \")\n",
    "        quantity = int(quantity)\n",
    "    except:\n",
    "        print(\"I don't understand the quantity.\")\n",
    "\n",
    "    \n",
    "topping = input(\"What would like on them? \")\n",
    "\n",
    "\n",
    "size = \"Tony\"\n",
    "while size not in list(sizeCost.keys()):\n",
    "    try:\n",
    "        size = input(\"What size (s,m,l) pizza would you like?\")\n",
    "        cost = round(quantity * sizeCost[size], 2)\n",
    "    except:\n",
    "        print(\"I didn't understand what size you wanted.\")\n",
    "        print(\"Please input s, m or l\")\n",
    "\n",
    "\n",
    "print(f\"Alright, I have your order. {quantity} pies with {topping}.\")\n",
    "print(f\"That will be {cost}\")\n",
    "\n",
    "orders.append([name, cost])\n",
    "\n",
    "try:\n",
    "    f = open(\"orders.txt\", \"a+\")\n",
    "    f.write(f\"{orders}\")\n",
    "    f.close()\n",
    "except:\n",
    "    print(\"Cannot write to file.\")"
   ]
  },
  {
   "cell_type": "code",
   "execution_count": null,
   "id": "8224e2c0",
   "metadata": {},
   "outputs": [],
   "source": [
    "\"\"\"\n",
    "Prompt the user to input the quantity and size of pizzas.\n",
    "Multiply the two inputs together to calculate the cost of the pizzas.\n",
    "Store that in a 2D list with the user's name.\n",
    "Use try.... except for two reasons:\n",
    "Include auto-save and auto-load. Use it with the auto-load.\n",
    "When casting the quantity of pizzas to an integer. Avoid the user crashing the program by typing 'three' instead of '3'. Or any other non-integer input. If they do, then prompt them to try again.\n",
    "\n",
    "Example:\n",
    "🌟Dave's Dodgy Pizzas🌟\n",
    "How many pizzas? > three\n",
    "You must input a numerical character, try again. > 3\n",
    "What size? > XXXXXX\n",
    "Name please > David\n",
    "Thanks David, your pizzas will cost XXXXX\n",
    "\"\"\"\n",
    "\n"
   ]
  },
  {
   "cell_type": "markdown",
   "id": "29fd1856",
   "metadata": {},
   "source": [
    "#### Day 53 A Video Game Inventory\n",
    "#### 3APR24"
   ]
  },
  {
   "cell_type": "code",
   "execution_count": 24,
   "id": "ec1b54ae",
   "metadata": {},
   "outputs": [
    {
     "name": "stdout",
     "output_type": "stream",
     "text": [
      "Successfully opened the file.\n",
      "\u001b[H\u001b[2JInventory Menu: \n",
      "To view the inventory, enter: v\n",
      "To add to the inventory, enter a\n",
      "To remove something from the inventory, enter r\n",
      ": v\n",
      "You have chosen v.\n",
      "\u001b[H\u001b[2JYou have 4 Mana potions in your inventory\n",
      "You have 2 Healing potions in your inventory\n",
      "You have 1 Long swords in your inventory\n",
      "inventory updated\n",
      "\u001b[H\u001b[2JInventory Menu: \n",
      "To view the inventory, enter: v\n",
      "To add to the inventory, enter a\n",
      "To remove something from the inventory, enter r\n",
      ": exit\n",
      "You have chosen exit.\n",
      "You are the weakest link...\n",
      "GOODBYE!\n"
     ]
    }
   ],
   "source": [
    "import os, time\n",
    "\n",
    "\n",
    "inventory = [\"Mana potion\", \"Healing potion\", \"Long sword\",\"Mana potion\", \"Healing potion\", \"Mana potion\"]\n",
    "\n",
    "try:\n",
    "    f = open(\"inventory.txt\", \"r\")\n",
    "    inventory = eval(f.read())\n",
    "    f.close()\n",
    "    print(\"Successfully opened the file.\")\n",
    "except:\n",
    "    print(\"There is no inventory file yet...\")\n",
    "    \n",
    "def menu():\n",
    "    os.system(\"clear\")\n",
    "    print(\"Inventory Menu: \")\n",
    "    print(\"To view the inventory, enter: v\")\n",
    "    print(\"To add to the inventory, enter a\")\n",
    "    print(\"To remove something from the inventory, enter r\")\n",
    "    choice = input(\": \")\n",
    "    return choice\n",
    "\n",
    "def viewInventory(inventory):\n",
    "    os.system(\"clear\")\n",
    "    setInventory = set(inventory)\n",
    "    for item in setInventory:\n",
    "        print(f\"You have {inventory.count(item)} {item}s in your inventory\")\n",
    "    time.sleep(5)\n",
    "\n",
    "def addInventory(inventory):\n",
    "    os.system(\"clear\")\n",
    "    print(\"What would you like to add to the inventory?\")\n",
    "    inputString = input(\": \").capitalize()\n",
    "    inventory.append(inputString)\n",
    "    print(f\"I have added {inputString} to the inventory\")\n",
    "    time.sleep(5)\n",
    "    return inventory\n",
    "\n",
    "def removeInventory(inventory):\n",
    "    os.system(\"clear\")\n",
    "    print(\"What item would you like to remove? \")\n",
    "    removeItem = input(\": \").capitalize()\n",
    "    if removeItem not in inventory:\n",
    "        print(f\"You don't have a {removeItem} to remove.\")\n",
    "        print(\"Back to the menu for you! \")\n",
    "    else:\n",
    "        inventory.remove(removeItem)\n",
    "        print(f\"I have removed {removeItem}.\")\n",
    "    time.sleep(5)\n",
    "    return inventory\n",
    "\n",
    "\n",
    "while True:\n",
    "    choice = menu()\n",
    "    print(f\"You have chosen {choice}.\")\n",
    "    if choice == \"exit\":\n",
    "        print(\"You are the weakest link...\")\n",
    "        print(\"GOODBYE!\")\n",
    "        time.sleep(5)\n",
    "        break\n",
    "    elif choice == 'v':\n",
    "        viewInventory(inventory)\n",
    "    elif choice == 'a':\n",
    "        inventory = addInventory(inventory)\n",
    "    elif choice == 'r':\n",
    "        inventory = removeInventory(inventory)\n",
    "        \n",
    "    try:\n",
    "        f = open(\"inventory.txt\", \"w\")\n",
    "        f.write(str(inventory))\n",
    "        f.close()\n",
    "        print(\"inventory updated\")\n",
    "    except Exception as e:\n",
    "        print(\"Cannot write to file.\")\n",
    "        raise e"
   ]
  },
  {
   "cell_type": "code",
   "execution_count": null,
   "id": "6a405580",
   "metadata": {},
   "outputs": [],
   "source": []
  },
  {
   "cell_type": "markdown",
   "id": "0b3fb110",
   "metadata": {},
   "source": [
    "#### Day 54 CSV Files\n",
    "#### 4APR24"
   ]
  },
  {
   "cell_type": "code",
   "execution_count": null,
   "id": "80f38627",
   "metadata": {},
   "outputs": [],
   "source": [
    "import csv # Imports the csv library\n",
    "\n",
    "with open(\"January.csv\") as file: # Opens the csv file\n",
    "    reader = csv.reader(file) # reads the contents of the csv file into the 'reader' variable\n",
    "    line = 0\n",
    "\n",
    "    for row in reader: # loop to output each row in the 'reader' variable one at a time.\n",
    "    print (row)"
   ]
  },
  {
   "cell_type": "code",
   "execution_count": null,
   "id": "29399b11",
   "metadata": {},
   "outputs": [],
   "source": [
    "import csv \n",
    "\n",
    "with open(\"January.csv\") as file: \n",
    "    reader = csv.reader(file) \n",
    "    line = 0\n",
    "\n",
    "    for row in reader: \n",
    "        print (\", \".join(row)) # adds a comma and space and then joins data, you could try joining with tabs too with `\\t`"
   ]
  },
  {
   "cell_type": "code",
   "execution_count": null,
   "id": "446959d0",
   "metadata": {},
   "outputs": [],
   "source": [
    "import csv # Imports the csv library\n",
    "\n",
    "with open(\"January.csv\") as file: \n",
    "    reader = csv.DictReader(file) # Treats the file as a dictionary \n",
    "    line = 0\n",
    "    for row in reader: \n",
    "        print (row[\"Net Total\"])"
   ]
  },
  {
   "cell_type": "code",
   "execution_count": 2,
   "id": "6784ec4e",
   "metadata": {},
   "outputs": [
    {
     "ename": "FileNotFoundError",
     "evalue": "[Errno 2] No such file or directory: 'Day54Totals.csv'",
     "output_type": "error",
     "traceback": [
      "\u001b[0;31m---------------------------------------------------------------------------\u001b[0m",
      "\u001b[0;31mFileNotFoundError\u001b[0m                         Traceback (most recent call last)",
      "Cell \u001b[0;32mIn[2], line 4\u001b[0m\n\u001b[1;32m      1\u001b[0m \u001b[38;5;28;01mimport\u001b[39;00m \u001b[38;5;21;01mcsv\u001b[39;00m \u001b[38;5;66;03m# Imports the csv library\u001b[39;00m\n\u001b[1;32m      2\u001b[0m total \u001b[38;5;241m=\u001b[39m \u001b[38;5;241m0.0\u001b[39m\n\u001b[0;32m----> 4\u001b[0m \u001b[38;5;28;01mwith\u001b[39;00m \u001b[38;5;28;43mopen\u001b[39;49m\u001b[43m(\u001b[49m\u001b[38;5;124;43m\"\u001b[39;49m\u001b[38;5;124;43mDay54Totals.csv\u001b[39;49m\u001b[38;5;124;43m\"\u001b[39;49m\u001b[43m)\u001b[49m \u001b[38;5;28;01mas\u001b[39;00m file:\n\u001b[1;32m      5\u001b[0m     reader \u001b[38;5;241m=\u001b[39m csv\u001b[38;5;241m.\u001b[39mDictReader(file) \n\u001b[1;32m      7\u001b[0m     \u001b[38;5;28;01mfor\u001b[39;00m row \u001b[38;5;129;01min\u001b[39;00m reader: \n\u001b[1;32m      8\u001b[0m     \u001b[38;5;66;03m# print (row)\u001b[39;00m\n",
      "File \u001b[0;32m~/opt/anaconda3/lib/python3.9/site-packages/IPython/core/interactiveshell.py:286\u001b[0m, in \u001b[0;36m_modified_open\u001b[0;34m(file, *args, **kwargs)\u001b[0m\n\u001b[1;32m    279\u001b[0m \u001b[38;5;28;01mif\u001b[39;00m file \u001b[38;5;129;01min\u001b[39;00m {\u001b[38;5;241m0\u001b[39m, \u001b[38;5;241m1\u001b[39m, \u001b[38;5;241m2\u001b[39m}:\n\u001b[1;32m    280\u001b[0m     \u001b[38;5;28;01mraise\u001b[39;00m \u001b[38;5;167;01mValueError\u001b[39;00m(\n\u001b[1;32m    281\u001b[0m         \u001b[38;5;124mf\u001b[39m\u001b[38;5;124m\"\u001b[39m\u001b[38;5;124mIPython won\u001b[39m\u001b[38;5;124m'\u001b[39m\u001b[38;5;124mt let you open fd=\u001b[39m\u001b[38;5;132;01m{\u001b[39;00mfile\u001b[38;5;132;01m}\u001b[39;00m\u001b[38;5;124m by default \u001b[39m\u001b[38;5;124m\"\u001b[39m\n\u001b[1;32m    282\u001b[0m         \u001b[38;5;124m\"\u001b[39m\u001b[38;5;124mas it is likely to crash IPython. If you know what you are doing, \u001b[39m\u001b[38;5;124m\"\u001b[39m\n\u001b[1;32m    283\u001b[0m         \u001b[38;5;124m\"\u001b[39m\u001b[38;5;124myou can use builtins\u001b[39m\u001b[38;5;124m'\u001b[39m\u001b[38;5;124m open.\u001b[39m\u001b[38;5;124m\"\u001b[39m\n\u001b[1;32m    284\u001b[0m     )\n\u001b[0;32m--> 286\u001b[0m \u001b[38;5;28;01mreturn\u001b[39;00m \u001b[43mio_open\u001b[49m\u001b[43m(\u001b[49m\u001b[43mfile\u001b[49m\u001b[43m,\u001b[49m\u001b[43m \u001b[49m\u001b[38;5;241;43m*\u001b[39;49m\u001b[43margs\u001b[49m\u001b[43m,\u001b[49m\u001b[43m \u001b[49m\u001b[38;5;241;43m*\u001b[39;49m\u001b[38;5;241;43m*\u001b[39;49m\u001b[43mkwargs\u001b[49m\u001b[43m)\u001b[49m\n",
      "\u001b[0;31mFileNotFoundError\u001b[0m: [Errno 2] No such file or directory: 'Day54Totals.csv'"
     ]
    }
   ],
   "source": [
    "import csv # Imports the csv library\n",
    "total = 0.0\n",
    "\n",
    "with open(\"Day54Totals.csv\") as file:\n",
    "    reader = csv.DictReader(file) \n",
    "\n",
    "    for row in reader: \n",
    "    # print (row)\n",
    "        total += float(row[\"Cost\"]) * int(row['Quantity'])\n",
    "total = round(total, 2)\n",
    "print(f\"Your shop took {total} pounds today.\")"
   ]
  },
  {
   "cell_type": "code",
   "execution_count": null,
   "id": "917e5c80",
   "metadata": {},
   "outputs": [],
   "source": []
  },
  {
   "cell_type": "markdown",
   "id": "c122ebf0",
   "metadata": {},
   "source": [
    "#### Day 55 Back the 'f' up\n",
    "#### 5APR24"
   ]
  },
  {
   "cell_type": "code",
   "execution_count": 3,
   "id": "dba5475b",
   "metadata": {},
   "outputs": [
    {
     "name": "stdout",
     "output_type": "stream",
     "text": [
      "['Day1-Day10.ipynb', 'Day11-Day20.ipynb', 'ToDo.txt', 'Day41-Day50.ipynb', 'Untitled.ipynb', 'savedFoal.txt', 'Day21-Day30.ipynb', 'inventory.txt', 'my.ideas.txt', 'savedFile.txt', 'ToDoList.txt', 'Day51-Day60.ipynb', '.gitattributes', 'orders.txt', 'Day31-Day40.ipynb', '.ipynb_checkpoints', '.git', 'calendar.txt', 'high.score.txt']\n"
     ]
    }
   ],
   "source": [
    "import os\n",
    "\n",
    "print(os.listdir())"
   ]
  },
  {
   "cell_type": "code",
   "execution_count": 4,
   "id": "7ae1fa00",
   "metadata": {},
   "outputs": [
    {
     "name": "stdout",
     "output_type": "stream",
     "text": [
      "['Day1-Day10.ipynb', 'Day11-Day20.ipynb', 'ToDo.txt', 'Day41-Day50.ipynb', 'Untitled.ipynb', 'savedFoal.txt', 'Day21-Day30.ipynb', 'inventory.txt', 'my.ideas.txt', 'savedFile.txt', 'ToDoList.txt', 'Day51-Day60.ipynb', '.gitattributes', 'orders.txt', 'Day31-Day40.ipynb', '.ipynb_checkpoints', '.git', 'calendar.txt', 'high.score.txt']\n",
      "Error: Quick Save not found.\n"
     ]
    }
   ],
   "source": [
    "import os\n",
    "\n",
    "print(os.listdir()) # Lists all the files in the current directory. Useful for checking that a file is in the folder we think it is.\n",
    "\n",
    "files = os.listdir()\n",
    "if \"quickSave.txt\" not in files:\n",
    "    print(\"Error: Quick Save not found.\")\n",
    "#Checks if a file is in a directory and outputs an error if not."
   ]
  },
  {
   "cell_type": "code",
   "execution_count": 7,
   "id": "5dae35a8",
   "metadata": {},
   "outputs": [
    {
     "ename": "FileExistsError",
     "evalue": "[Errno 17] File exists: 'Hello'",
     "output_type": "error",
     "traceback": [
      "\u001b[0;31m---------------------------------------------------------------------------\u001b[0m",
      "\u001b[0;31mFileExistsError\u001b[0m                           Traceback (most recent call last)",
      "Cell \u001b[0;32mIn[7], line 1\u001b[0m\n\u001b[0;32m----> 1\u001b[0m \u001b[43mos\u001b[49m\u001b[38;5;241;43m.\u001b[39;49m\u001b[43mmkdir\u001b[49m\u001b[43m(\u001b[49m\u001b[38;5;124;43m\"\u001b[39;49m\u001b[38;5;124;43mHello\u001b[39;49m\u001b[38;5;124;43m\"\u001b[39;49m\u001b[43m)\u001b[49m\n",
      "\u001b[0;31mFileExistsError\u001b[0m: [Errno 17] File exists: 'Hello'"
     ]
    }
   ],
   "source": [
    "# Make a directory\n",
    "os.mkdir(\"Hello\") "
   ]
  },
  {
   "cell_type": "code",
   "execution_count": 10,
   "id": "8d0fcaf0",
   "metadata": {},
   "outputs": [
    {
     "ename": "FileNotFoundError",
     "evalue": "[Errno 2] No such file or directory: 'savedFoal.txt' -> 'Oops.txt'",
     "output_type": "error",
     "traceback": [
      "\u001b[0;31m---------------------------------------------------------------------------\u001b[0m",
      "\u001b[0;31mFileNotFoundError\u001b[0m                         Traceback (most recent call last)",
      "Cell \u001b[0;32mIn[10], line 2\u001b[0m\n\u001b[1;32m      1\u001b[0m \u001b[38;5;66;03m# Rename a directory, (\"file name\", \"what you change it to\")\u001b[39;00m\n\u001b[0;32m----> 2\u001b[0m \u001b[43mos\u001b[49m\u001b[38;5;241;43m.\u001b[39;49m\u001b[43mrename\u001b[49m\u001b[43m(\u001b[49m\u001b[38;5;124;43m\"\u001b[39;49m\u001b[38;5;124;43msavedFoal.txt\u001b[39;49m\u001b[38;5;124;43m\"\u001b[39;49m\u001b[43m,\u001b[49m\u001b[43m \u001b[49m\u001b[38;5;124;43m\"\u001b[39;49m\u001b[38;5;124;43mOops.txt\u001b[39;49m\u001b[38;5;124;43m\"\u001b[39;49m\u001b[43m)\u001b[49m\n",
      "\u001b[0;31mFileNotFoundError\u001b[0m: [Errno 2] No such file or directory: 'savedFoal.txt' -> 'Oops.txt'"
     ]
    }
   ],
   "source": [
    "# Rename a directory, (\"file name\", \"what you change it to\")\n",
    "os.rename(\"savedFoal.txt\", \"Oops.txt\")"
   ]
  },
  {
   "cell_type": "code",
   "execution_count": 11,
   "id": "780661ee",
   "metadata": {},
   "outputs": [],
   "source": [
    "import os\n",
    "\n",
    "filename = os.path.join(\"Hello/\", \"newFile.txt\")\n",
    "\n",
    "f = open(filename, \"w\")\n",
    "f.write(\"Hi\")\n",
    "f.close()\n"
   ]
  },
  {
   "cell_type": "code",
   "execution_count": 17,
   "id": "a29f59d2",
   "metadata": {},
   "outputs": [
    {
     "name": "stdout",
     "output_type": "stream",
     "text": [
      "To Do List\n",
      "You can \u001b[1;34mview\u001b[0m, \u001b[1;31madd\u001b[0m or \u001b[1;34medit\u001b[0m the list...\n",
      "enter anything else to exit.\n",
      ": view\n",
      "\u001b[H\u001b[2J\n",
      "[\"Maria's wedding\", '1/10/2024']\n",
      "['Nature walk', 'tomorrow']\n",
      "['Pack', 'today']\n",
      "\n",
      "Cannot write to file.\n",
      "<class 'Exception'>\n",
      "Updated Backup file\n",
      "To Do List\n",
      "You can \u001b[1;34mview\u001b[0m, \u001b[1;31madd\u001b[0m or \u001b[1;34medit\u001b[0m the list...\n",
      "enter anything else to exit.\n",
      ": exit\n",
      "\u001b[H\u001b[2J"
     ]
    }
   ],
   "source": [
    "# Challenge\n",
    "import os\n",
    "\n",
    "toDoList = []\n",
    "f = open(\"ToDo.txt\",\"r\")\n",
    "toDoList = eval(f.read())\n",
    "f.close()\n",
    "    \n",
    "    \n",
    "def menu():\n",
    "    import os\n",
    "    print(\"To Do List\")\n",
    "    print(\"You can \\033[1;34mview\\033[0m, \\033[1;31madd\\033[0m or \\033[1;34medit\\033[0m the list...\")\n",
    "    print(\"enter anything else to exit.\")\n",
    "    choice = input(\": \")\n",
    "    os.system(\"clear\")\n",
    "    return choice\n",
    "\n",
    "def printList():\n",
    "    print()\n",
    "    for item in toDoList:\n",
    "        print(item)\n",
    "    print()\n",
    "\n",
    "def backup(backupName):\n",
    "    try:\n",
    "        os.mkdir(\"backUpFiles\")\n",
    "    except Exception as e:\n",
    "        print(\"Cannot write to file.\")\n",
    "        print(Exception)\n",
    "    filename = os.path.join(\"backUpFiles/\", backupName)\n",
    "    f = open(filename, \"w\")\n",
    "    f.write(str(toDoList))\n",
    "    print(\"Updated Backup file\")\n",
    "    f.close()\n",
    "\n",
    "\n",
    "import time\n",
    "\n",
    "while True:\n",
    "    menuChoice = menu()\n",
    "    if menuChoice == \"view\":\n",
    "        printList()\n",
    "        time.sleep(5)\n",
    "    elif menuChoice == \"add\":\n",
    "        item = input(\"What task should I add to the list? :\")\n",
    "        toDoList.append(item)\n",
    "        printList()\n",
    "    elif menuChoice == \"edit\":\n",
    "        printList()\n",
    "        item = input(\"What task have you completed? :\")\n",
    "        if item in toDoList:\n",
    "            toDoList.remove(item)\n",
    "        else:\n",
    "            print(f\"\\033[1;31m{item}\\033[0m is not on the list.\")\n",
    "    else:\n",
    "        break\n",
    "    backup(\"ToDoBackup.txt\")\n",
    "    f = open(\"ToDo.txt\", \"w\")\n",
    "    f.write(str(toDoList))\n",
    "    f.close()"
   ]
  },
  {
   "cell_type": "markdown",
   "id": "8fdd57a1",
   "metadata": {},
   "source": [
    "#### Day 56 MP3 Player\n",
    "#### 6APR24"
   ]
  },
  {
   "cell_type": "code",
   "execution_count": null,
   "id": "b066ffd9",
   "metadata": {},
   "outputs": [],
   "source": [
    "\"\"\"Read in the data.\n",
    "Categorize the songs by artist, like this:\n",
    "Create one empty folder per artist.\n",
    "Create one blank text file per song by that artist in the relevant folder. The file name of the text file should be the name of the song.\"\"\""
   ]
  },
  {
   "cell_type": "markdown",
   "id": "3dde131f",
   "metadata": {},
   "source": [
    "#### Day 57\n",
    "#### 7APR24"
   ]
  },
  {
   "cell_type": "code",
   "execution_count": null,
   "id": "309ca722",
   "metadata": {},
   "outputs": [],
   "source": []
  },
  {
   "cell_type": "markdown",
   "id": "9139098f",
   "metadata": {},
   "source": [
    "#### Day 58\n",
    "#### 8APR24"
   ]
  },
  {
   "cell_type": "code",
   "execution_count": null,
   "id": "e8d65f69",
   "metadata": {},
   "outputs": [],
   "source": []
  },
  {
   "cell_type": "markdown",
   "id": "2454feb2",
   "metadata": {},
   "source": [
    "#### Day 59\n",
    "#### 9APR24"
   ]
  },
  {
   "cell_type": "code",
   "execution_count": null,
   "id": "35f1de8c",
   "metadata": {},
   "outputs": [],
   "source": []
  },
  {
   "cell_type": "markdown",
   "id": "8252a2e9",
   "metadata": {},
   "source": [
    "#### Day 60\n",
    "#### 10APR24"
   ]
  }
 ],
 "metadata": {
  "kernelspec": {
   "display_name": "Python 3 (ipykernel)",
   "language": "python",
   "name": "python3"
  },
  "language_info": {
   "codemirror_mode": {
    "name": "ipython",
    "version": 3
   },
   "file_extension": ".py",
   "mimetype": "text/x-python",
   "name": "python",
   "nbconvert_exporter": "python",
   "pygments_lexer": "ipython3",
   "version": "3.9.18"
  }
 },
 "nbformat": 4,
 "nbformat_minor": 5
}
