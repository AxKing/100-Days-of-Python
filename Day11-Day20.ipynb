{
 "cells": [
  {
   "cell_type": "markdown",
   "id": "9ecfc6ad",
   "metadata": {},
   "source": [
    "### Day 11 - 20"
   ]
  },
  {
   "cell_type": "markdown",
   "id": "30c21a35",
   "metadata": {},
   "source": [
    "#### Day 11 525,600 minutes\n",
    "#### 22FEB24"
   ]
  },
  {
   "cell_type": "code",
   "execution_count": 3,
   "id": "1cb4fba8",
   "metadata": {},
   "outputs": [],
   "source": [
    "# Notes\n",
    "# I need to take an input from the user as to what year it is.\n",
    "# Once I have the year, determine if it's a leap year or not.\n",
    "# Then I'll need to calculate the number of seconds in the year."
   ]
  },
  {
   "cell_type": "code",
   "execution_count": 4,
   "id": "9f5df839",
   "metadata": {},
   "outputs": [
    {
     "name": "stdout",
     "output_type": "stream",
     "text": [
      "What year is it? \n",
      "2024\n",
      "In the year 2024 there are 31622400  seconds beacuse it is a leap year\n"
     ]
    }
   ],
   "source": [
    "year = int(input(\"What year is it? \\n\"))\n",
    "if year % 4 == 0:\n",
    "    leap = True\n",
    "    days = 366\n",
    "else:\n",
    "    leap = False\n",
    "    days = 365\n",
    "seconds = days * 86400\n",
    "if leap:\n",
    "    print(\"In the year\", year, \"there are\", seconds, \" seconds beacuse it is a leap year\")\n",
    "else:\n",
    "    print(\"In the year\", year, \"there are\", seconds, \"beacuse it is a standard non-leap year\")"
   ]
  },
  {
   "cell_type": "markdown",
   "id": "e76f518a",
   "metadata": {},
   "source": [
    "#### Day 12 FIND ALL THE BUGS!\n",
    "#### 23FEB24"
   ]
  },
  {
   "cell_type": "code",
   "execution_count": 5,
   "id": "5da0ba36",
   "metadata": {},
   "outputs": [],
   "source": [
    "# Notes\n",
    "# NO Notes just debug this snippet"
   ]
  },
  {
   "cell_type": "code",
   "execution_count": 6,
   "id": "175b3ba5",
   "metadata": {},
   "outputs": [
    {
     "name": "stdout",
     "output_type": "stream",
     "text": [
      "100 Days of Code QUIZ\n",
      "\n",
      "How many can you answer correctly?\n",
      "What language are we writing in?python\n",
      "Correct\n",
      "Which lesson number is this?12\n",
      "That's right!\n"
     ]
    }
   ],
   "source": [
    "print(\"100 Days of Code QUIZ\")\n",
    "print()\n",
    "print(\"How many can you answer correctly?\")\n",
    "ans1 = input(\"What language are we writing in?\")\n",
    "if ans1 == \"python\":\n",
    "    print(\"Correct\")\n",
    "else:\n",
    "    print(\"Nope🙈\")\n",
    "ans2 = int(input(\"Which lesson number is this?\"))\n",
    "if(ans2 > 12):\n",
    "    print(\"We're not quite that far yet\")\n",
    "elif(ans2==12):\n",
    "    print(\"That's right!\")\n",
    "else:\n",
    "    print(\"We've gone well past that!\")\n"
   ]
  },
  {
   "cell_type": "markdown",
   "id": "de76b348",
   "metadata": {},
   "source": [
    "#### Day 13 Gradebook Builder\n",
    "#### 24FEB24"
   ]
  },
  {
   "cell_type": "code",
   "execution_count": 8,
   "id": "399bf859",
   "metadata": {},
   "outputs": [
    {
     "name": "stdout",
     "output_type": "stream",
     "text": [
      "Exam Grade Calculator\n",
      "What is the name of the exam? Math Test\n",
      "What is the maximum possible score? 100\n",
      "What was your score? 89\n",
      "Out of a possible socre of 100 you earned 89.0.\n",
      "That is a A-\n"
     ]
    }
   ],
   "source": [
    "# Ask for the name of a test\n",
    "# Ask what was the max score\n",
    "# What did they get?\n",
    "\"\"\"\n",
    "90% A\n",
    "80% A-\n",
    "70% B\n",
    "60% C\n",
    "50% D\n",
    "40% U\n",
    "\"\"\"\n",
    "\n",
    "print(\"Exam Grade Calculator\")\n",
    "name = input(\"What is the name of the exam? \")\n",
    "max_score = int(input(\"What is the maximum possible score? \"))\n",
    "score = float(input(\"What was your score? \"))\n",
    "if score >= round(.9 * max_score, 2):\n",
    "    grade = \"A+\"\n",
    "elif score >= round(.8 * max_score, 2):\n",
    "    grade = \"A-\"\n",
    "elif score >= round(.7 * max_score, 2):\n",
    "    grade = \"B\"\n",
    "elif score >= round(.6 * max_score, 2):\n",
    "    grade = \"C\"\n",
    "elif score >= round(.5 * max_score, 2):\n",
    "    grade = \"D\"\n",
    "else:\n",
    "    grade = \"U\"\n",
    "print(\"Out of a possible socre of\", max_score, \"you earned\", str(score) +'.')\n",
    "print(\"That is a\", grade)"
   ]
  },
  {
   "cell_type": "markdown",
   "id": "cc46271a",
   "metadata": {},
   "source": [
    "#### Day 14 Rock, Paper, Scissors\n",
    "#### 25FEB24"
   ]
  },
  {
   "cell_type": "code",
   "execution_count": 10,
   "id": "619b84b8",
   "metadata": {},
   "outputs": [
    {
     "name": "stdout",
     "output_type": "stream",
     "text": [
      "Player 1 please choose: R, P or S? ········\n",
      "Player 2 please choose: R, P or S? ········\n",
      "Rock beats Scissor\n",
      "Player 1 chose R and Player 2 chose S. \n",
      " Player 1 is the winner!\n"
     ]
    }
   ],
   "source": [
    "# Notes\n",
    "from getpass import getpass as input\n",
    "\n",
    "p1 = input(\"Player 1 please choose: R, P or S? \").lower()\n",
    "p2 = input(\"Player 2 please choose: R, P or S? \").lower()\n",
    "if p1 == p2:\n",
    "    winner = \"No One\"\n",
    "    print(f\"You've both chosen {p1.upper()}. \\n {winner} is the winner\")\n",
    "if p1 == \"r\":\n",
    "    if p2 == \"p\":\n",
    "        winner = \"Player 2\"\n",
    "        print(\"Paper beats Rock\")\n",
    "        print(f\"Player 1 chose {p1.upper()} and Player 2 chose {p2.upper()}. \\n {winner} is the winner!\")\n",
    "    if p2 == \"s\":\n",
    "        winner = \"Player 1\"\n",
    "        print(\"Rock beats Scissor\")\n",
    "        print(f\"Player 1 chose {p1.upper()} and Player 2 chose {p2.upper()}. \\n {winner} is the winner!\")\n",
    "if p1 == \"p\":\n",
    "    if p2 == \"r\":\n",
    "        winner = \"Player 1\"\n",
    "        print(\"Paper beats Rock\")\n",
    "        print(f\"Player 1 chose {p1.upper()} and Player 2 chose {p2.upper()}. \\n {winner} is the winner!\")\n",
    "    if p2 == \"s\":\n",
    "        winner = \"Player 2\"\n",
    "        print(\"Scissor beats Paper\")\n",
    "        print(f\"Player 1 chose {p1.upper()} and Player 2 chose {p2.upper()}. \\n {winner} is the winner!\")\n",
    "if p1 == \"s\":\n",
    "    if p2 ==\"r\":\n",
    "        winner = \"Player 2\"\n",
    "        print(\"Rock beats Scissor\")\n",
    "        print(f\"Player 1 chose {p1.upper()} and Player 2 chose {p2.upper()}. \\n {winner} is the winner!\")\n",
    "    if p2 == \"p\":\n",
    "        winner = \"Player 1\"\n",
    "        print(\"Scissor beats Paper\")\n",
    "        print(f\"Player 1 chose {p1.upper()} and Player 2 chose {p2.upper()}. \\n {winner} is the winner!\")"
   ]
  },
  {
   "cell_type": "markdown",
   "id": "ff5569ba",
   "metadata": {},
   "source": [
    "#### Day 15 All About Loops\n",
    "#### 26FEB24"
   ]
  },
  {
   "cell_type": "code",
   "execution_count": 12,
   "id": "8c0674a0",
   "metadata": {},
   "outputs": [
    {
     "name": "stdout",
     "output_type": "stream",
     "text": [
      "1\n",
      "2\n",
      "3\n",
      "4\n",
      "5\n",
      "6\n",
      "7\n",
      "8\n",
      "9\n",
      "10\n"
     ]
    }
   ],
   "source": [
    "# Notes\n",
    "counter = 0\n",
    "while counter < 10:\n",
    "    counter += 1\n",
    "    print(counter)\n"
   ]
  },
  {
   "cell_type": "code",
   "execution_count": 13,
   "id": "a64ad8a6",
   "metadata": {},
   "outputs": [
    {
     "name": "stdout",
     "output_type": "stream",
     "text": [
      "0\n",
      "1\n",
      "2\n",
      "3\n",
      "4\n",
      "5\n",
      "6\n",
      "7\n",
      "8\n",
      "9\n",
      "10\n",
      "11\n",
      "12\n",
      "13\n",
      "14\n",
      "15\n",
      "16\n",
      "17\n",
      "18\n",
      "19\n",
      "20\n",
      "21\n",
      "22\n",
      "23\n",
      "24\n"
     ]
    }
   ],
   "source": [
    "# Fix My code\n",
    "counter = 0\n",
    "while counter < 25:\n",
    "    print(counter)\n",
    "    counter += 1"
   ]
  },
  {
   "cell_type": "code",
   "execution_count": 14,
   "id": "5b506622",
   "metadata": {},
   "outputs": [
    {
     "name": "stdout",
     "output_type": "stream",
     "text": [
      "0\n",
      "1\n",
      "2\n",
      "3\n",
      "4\n",
      "5\n",
      "6\n",
      "7\n",
      "8\n",
      "9\n",
      "10\n",
      "11\n",
      "12\n"
     ]
    }
   ],
   "source": [
    "counter = 0\n",
    "while counter <= 12:\n",
    "    print(counter)\n",
    "    counter += 1"
   ]
  },
  {
   "cell_type": "code",
   "execution_count": 15,
   "id": "37a32c87",
   "metadata": {},
   "outputs": [
    {
     "name": "stdout",
     "output_type": "stream",
     "text": [
      "🥳\n",
      "Exit?: ········\n"
     ]
    }
   ],
   "source": [
    "leave = \"\"\n",
    "while leave != \"yes\":\n",
    "    print(\"🥳\")\n",
    "    leave = input(\"Exit?: \")"
   ]
  },
  {
   "cell_type": "code",
   "execution_count": 16,
   "id": "4536e599",
   "metadata": {},
   "outputs": [
    {
     "name": "stdout",
     "output_type": "stream",
     "text": [
      "what animal sound would you like to hear from dict_keys(['cow', 'sheep', 'hamster', 'dog', 'cat'])?········\n",
      "The cow makes a moo sound.\n",
      "Please type yes or YES to exit: ········\n"
     ]
    }
   ],
   "source": [
    "animal_sounds = {}\n",
    "animal_sounds['cow'] = \"moo\"\n",
    "animal_sounds['sheep'] = 'baa'\n",
    "animal_sounds['hamster'] = 'chtchtcht'\n",
    "animal_sounds['dog'] = 'roof'\n",
    "animal_sounds['cat'] = 'meow'\n",
    "\n",
    "leave = ''\n",
    "while leave != 'yes':\n",
    "    animal = input(f\"what animal sound would you like to hear from {animal_sounds.keys()}?\").lower()\n",
    "    print(f\"The {animal} makes a {animal_sounds[animal]} sound.\")\n",
    "    leave = input(\"Please type yes or YES to exit: \").lower()"
   ]
  },
  {
   "cell_type": "markdown",
   "id": "5436feaa",
   "metadata": {},
   "source": [
    "#### Day 16 Make it Stop!\n",
    "#### 27FEB24"
   ]
  },
  {
   "cell_type": "code",
   "execution_count": 18,
   "id": "74a66534",
   "metadata": {},
   "outputs": [
    {
     "name": "stdout",
     "output_type": "stream",
     "text": [
      "This program is running\n",
      "Go again? ········\n",
      "This program is running\n",
      "Go again? ········\n"
     ]
    }
   ],
   "source": [
    "# Notes\n",
    "while True:\n",
    "    print('This program is running')\n",
    "    goAgain = input(\"Go again? \")\n",
    "    if goAgain == \"no\":\n",
    "        break"
   ]
  },
  {
   "cell_type": "code",
   "execution_count": 19,
   "id": "6b7df73f",
   "metadata": {},
   "outputs": [
    {
     "name": "stdout",
     "output_type": "stream",
     "text": [
      "Enter a color: ········\n",
      "Cool color!\n",
      "Enter a color: ········\n",
      "Cool color!\n",
      "Enter a color: ········\n",
      "I don't like red\n"
     ]
    }
   ],
   "source": [
    "while True:\n",
    "    color = input(\"Enter a color: \")\n",
    "    if color == \"red\":\n",
    "        break\n",
    "    else:\n",
    "        print(\"Cool color!\")\n",
    "print(\"I don't like red\")"
   ]
  },
  {
   "cell_type": "code",
   "execution_count": 20,
   "id": "2e07f30d",
   "metadata": {},
   "outputs": [
    {
     "name": "stdout",
     "output_type": "stream",
     "text": [
      "Fill in the blank Lyrics!\n",
      "type in the blank lyrics, see if you're as cool as me!\n",
      "You can't make me ___ what you think I should know.········\n",
      "Nice job! It only took you 1 tries!\n"
     ]
    }
   ],
   "source": [
    "print(\"Fill in the blank Lyrics!\")\n",
    "print(\"type in the blank lyrics, see if you're as cool as me!\")\n",
    "\n",
    "count = 0\n",
    "while True:\n",
    "    count += 1\n",
    "    guess = input(\"You can't make me ___ what you think I should know.\")\n",
    "    if guess == \"see\":\n",
    "        break\n",
    "    else:\n",
    "        print(\"Oops that's not right. How about you use your fucking eyes?\")\n",
    "print(f\"Nice job! It only took you {count} tries!\")\n",
    "    "
   ]
  },
  {
   "cell_type": "markdown",
   "id": "e268eedb",
   "metadata": {},
   "source": [
    "#### Day 17 Another Cheat\n",
    "#### 28FEB24"
   ]
  },
  {
   "cell_type": "code",
   "execution_count": 21,
   "id": "9c75335e",
   "metadata": {},
   "outputs": [
    {
     "name": "stdout",
     "output_type": "stream",
     "text": [
      "You are in a corridor, do you go left or right?\n",
      "> ········\n",
      "You have fallen to your death\n",
      "The game is over, you've failed!\n"
     ]
    }
   ],
   "source": [
    "# Notes\n",
    "while True:\n",
    "    print(\"You are in a corridor, do you go left or right?\")\n",
    "    direction = input(\"> \")\n",
    "    if direction == \"left\":\n",
    "        print(\"You have fallen to your death\")\n",
    "        break\n",
    "    elif direction == \"right\":\n",
    "        continue\n",
    "    else:\n",
    "        print(\"Ahh! You're a genius, you've won\")\n",
    "        exit()\n",
    "print(\"The game is over, you've failed!\")"
   ]
  },
  {
   "cell_type": "code",
   "execution_count": 1,
   "id": "f2638fa1",
   "metadata": {},
   "outputs": [
    {
     "name": "stdout",
     "output_type": "stream",
     "text": [
      "You are in a corridor, do you go left or right?\n",
      "> up\n",
      "Ahh! You're a genius, you've won\n",
      "You are in a corridor, do you go left or right?\n",
      "> up\n",
      "Ahh! You're a genius, you've won\n",
      "You are in a corridor, do you go left or right?\n",
      "> left\n",
      "You have fallen to your death\n",
      "The game is over, you've failed!\n"
     ]
    }
   ],
   "source": [
    "while True:\n",
    "    print(\"You are in a corridor, do you go left or right?\")\n",
    "    direction = input(\"> \")\n",
    "    if direction == \"left\":\n",
    "        print(\"You have fallen to your death\")\n",
    "        break\n",
    "    elif direction == \"right\":\n",
    "        continue\n",
    "    else:\n",
    "        print(\"Ahh! You're a genius, you've won\")\n",
    "        exit()\n",
    "print(\"The game is over, you've failed!\")"
   ]
  },
  {
   "cell_type": "code",
   "execution_count": 1,
   "id": "946e91c3",
   "metadata": {},
   "outputs": [
    {
     "name": "stdout",
     "output_type": "stream",
     "text": [
      "Let's play chutes and ladders. Pick ladder or chute.\n",
      "Do you want to go up the ladder or down the chute?\n",
      "> up\n",
      "Game over!\n",
      "Do you want to go up the ladder or down the chute?\n",
      "> chute\n",
      "Game over!\n",
      "Thanks for playing!\n"
     ]
    }
   ],
   "source": [
    "print(\"Let's play chutes and ladders. Pick ladder or chute.\")\n",
    "while True:\n",
    "    print(\"Do you want to go up the ladder or down the chute?\")\n",
    "    direction = input(\"> \")\n",
    "    if direction == \"chute\":\n",
    "        print(\"Game over!\")\n",
    "        break\n",
    "    elif direction == \"ladder\":\n",
    "        continue\n",
    "    else:\n",
    "        print(\"Game over!\")\n",
    "        exit()\n",
    "print(\"Thanks for playing!\")"
   ]
  },
  {
   "cell_type": "code",
   "execution_count": 11,
   "id": "71941e47",
   "metadata": {},
   "outputs": [
    {
     "name": "stdout",
     "output_type": "stream",
     "text": [
      "Rock, Paper, Scissors! Race to 3! \n",
      "\n",
      "Round 1: FIGHT!!! \n",
      "\n",
      "Player 1 choose your weapon: R, P or S? r\n",
      "Player 2 choose your weapon: R, P or S? p\n",
      "\n",
      "Paper beats Rock\n",
      "Player 1 chose R and Player 2 chose P. \n",
      " Player 2 is the winner of this round! \n",
      "\n",
      "Here are the current scores:\n",
      "Player 1 has 0.\n",
      "Player 2 has 1.\n",
      "\n",
      "Round 2: FIGHT!!! \n",
      "\n",
      "Player 1 choose your weapon: R, P or S? s\n",
      "Player 2 choose your weapon: R, P or S? p\n",
      "\n",
      "Scissor beats Paper\n",
      "Player 1 chose S and Player 2 chose P. \n",
      " Player 1 is the winner of this round. \n",
      "\n",
      "Here are the current scores:\n",
      "Player 1 has 1.\n",
      "Player 2 has 1.\n",
      "\n",
      "Round 3: FIGHT!!! \n",
      "\n",
      "Player 1 choose your weapon: R, P or S? r\n",
      "Player 2 choose your weapon: R, P or S? s\n",
      "\n",
      "Rock beats Scissor\n",
      "Player 1 chose R and Player 2 chose S. \n",
      " Player 1 is the winner of this round! \n",
      "\n",
      "Here are the current scores:\n",
      "Player 1 has 2.\n",
      "Player 2 has 1.\n",
      "\n",
      "Round 4: FIGHT!!! \n",
      "\n",
      "Player 1 choose your weapon: R, P or S? r\n",
      "Player 2 choose your weapon: R, P or S? r\n",
      "\n",
      "You've both chosen R. \n",
      " No One is the winner of this round. \n",
      "\n",
      "Here are the current scores:\n",
      "Player 1 has 2.\n",
      "Player 2 has 1.\n",
      "\n",
      "Round 5: FIGHT!!! \n",
      "\n",
      "Player 1 choose your weapon: R, P or S? p\n",
      "Player 2 choose your weapon: R, P or S? s\n",
      "\n",
      "Scissor beats Paper\n",
      "Player 1 chose P and Player 2 chose S. \n",
      " Player 2 is the winner of this round. \n",
      "\n",
      "Here are the current scores:\n",
      "Player 1 has 2.\n",
      "Player 2 has 2.\n",
      "\n",
      "Round 6: FIGHT!!! \n",
      "\n",
      "Player 1 choose your weapon: R, P or S? s\n",
      "Player 2 choose your weapon: R, P or S? r\n",
      "\n",
      "Rock beats Scissor\n",
      "Player 1 chose S and Player 2 chose R. \n",
      " Player 2 is the winner of this round \n",
      "\n",
      "Here are the current scores:\n",
      "Player 1 has 2.\n",
      "Player 2 has 3.\n",
      "\n",
      "Player 2 wins!\n"
     ]
    }
   ],
   "source": [
    "# Daily Challenge\n",
    "# from getpass import getpass as input\n",
    "\n",
    "p1_wins = 0\n",
    "p2_wins = 0\n",
    "round_num = 1\n",
    "\n",
    "def winner_check(n):\n",
    "    if n >= 3:\n",
    "        return True\n",
    "def display_score(n1, n2):\n",
    "    print(\"Here are the current scores:\")\n",
    "    print(f\"Player 1 has {n1}.\")\n",
    "    print(f\"Player 2 has {n2}.\")\n",
    "    print()\n",
    "\n",
    "print(\"Rock, Paper, Scissors! Race to 3! \\n\")\n",
    "print(f\"Round {round_num}: FIGHT!!! \\n\")\n",
    "while True:\n",
    "    if p1_wins != 0 or p2_wins != 0:\n",
    "            display_score(p1_wins, p2_wins)\n",
    "            print(f\"Round {round_num}: FIGHT!!! \\n\")\n",
    "    p1 = input(\"Player 1 choose your weapon: R, P or S? \").lower()\n",
    "    p2 = input(\"Player 2 choose your weapon: R, P or S? \").lower()\n",
    "    print()\n",
    "    if p1 == p2:\n",
    "        winner = \"No One\"\n",
    "        print(f\"You've both chosen {p1.upper()}. \\n {winner} is the winner of this round. \\n\")\n",
    "        round_num += 1\n",
    "        continue\n",
    "    \n",
    "    if p1 == \"r\":\n",
    "        if p2 == \"p\":\n",
    "            winner = \"Player 2\"\n",
    "            print(\"Paper beats Rock\")\n",
    "            print(f\"Player 1 chose {p1.upper()} and Player 2 chose {p2.upper()}. \\n {winner} is the winner of this round! \\n\")\n",
    "            p2_wins += 1\n",
    "            if winner_check(p2_wins):\n",
    "                display_score(p1_wins, p2_wins)\n",
    "                print(\"Player 2 wins!\")\n",
    "                break\n",
    "            else:\n",
    "                round_num += 1\n",
    "                continue                \n",
    "        if p2 == \"s\":\n",
    "            winner = \"Player 1\"\n",
    "            print(\"Rock beats Scissor\")\n",
    "            print(f\"Player 1 chose {p1.upper()} and Player 2 chose {p2.upper()}. \\n {winner} is the winner of this round! \\n\")\n",
    "            p1_wins += 1\n",
    "            if winner_check(p1_wins):\n",
    "                display_score(p1_wins, p2_wins)\n",
    "                print(\"Player 1 wins!\")\n",
    "                break\n",
    "            else:\n",
    "                round_num += 1\n",
    "                continue\n",
    "            \n",
    "    if p1 == \"p\":\n",
    "        if p2 == \"r\":\n",
    "            winner = \"Player 1\"\n",
    "            print(\"Paper beats Rock\")\n",
    "            print(f\"Player 1 chose {p1.upper()} and Player 2 chose {p2.upper()}. \\n {winner} is the winner of this round \\n\")\n",
    "            p1_wins += 1\n",
    "            if winner_check(p1_wins):\n",
    "                display_score(p1_wins, p2_wins)\n",
    "                print(\"Player 1 wins!\")\n",
    "                break\n",
    "            else:\n",
    "                round_num += 1\n",
    "                continue\n",
    "        \n",
    "        if p2 == \"s\":\n",
    "            winner = \"Player 2\"\n",
    "            print(\"Scissor beats Paper\")\n",
    "            print(f\"Player 1 chose {p1.upper()} and Player 2 chose {p2.upper()}. \\n {winner} is the winner of this round. \\n\")\n",
    "            p2_wins += 1\n",
    "            if winner_check(p2_wins):\n",
    "                display_score(p1_wins, p2_wins)\n",
    "                print(\"Player 2 wins!\")\n",
    "                break\n",
    "            else:\n",
    "                round_num += 1\n",
    "                continue\n",
    "            \n",
    "    if p1 == \"s\":\n",
    "        if p2 ==\"r\":\n",
    "            winner = \"Player 2\"\n",
    "            print(\"Rock beats Scissor\")\n",
    "            print(f\"Player 1 chose {p1.upper()} and Player 2 chose {p2.upper()}. \\n {winner} is the winner of this round \\n\")\n",
    "            p2_wins += 1\n",
    "            if winner_check(p2_wins):\n",
    "                display_score(p1_wins, p2_wins)\n",
    "                print(\"Player 2 wins!\")\n",
    "                break\n",
    "            else:\n",
    "                round_num +=1\n",
    "                continue\n",
    "            \n",
    "        if p2 == \"p\":\n",
    "            winner = \"Player 1\"\n",
    "            print(\"Scissor beats Paper\")\n",
    "            print(f\"Player 1 chose {p1.upper()} and Player 2 chose {p2.upper()}. \\n {winner} is the winner of this round. \\n\")\n",
    "            p1_wins += 1\n",
    "            if winner_check(p1_wins):\n",
    "                display_score(p1_wins, p2_wins)\n",
    "                print(\"Player 1 wins!\")\n",
    "                break\n",
    "            else:\n",
    "                round_num += 1\n",
    "                continue\n",
    "                \n",
    "if p1_wins == 0 or p2_wins == 0:\n",
    "    print(\"Get the broom! \")\n",
    "    if winner == \"Player 1\":\n",
    "        print(\"Player 2 got SWEPT!\")\n",
    "    else:\n",
    "        print('Player 1 got SWEPT')"
   ]
  },
  {
   "cell_type": "raw",
   "id": "3cad77a8",
   "metadata": {},
   "source": []
  },
  {
   "cell_type": "code",
   "execution_count": null,
   "id": "d63e7150",
   "metadata": {},
   "outputs": [],
   "source": [
    "[[112, 42, 83, 119], [56, 125, 56, 49], [15, 78, 101, 43], [62, 98, 114, 108]]\n",
    "414"
   ]
  },
  {
   "cell_type": "markdown",
   "id": "710d9662",
   "metadata": {},
   "source": [
    "#### Day 18 Build a guess the number game\n",
    "#### 29FEB24"
   ]
  },
  {
   "cell_type": "code",
   "execution_count": null,
   "id": "9814978e",
   "metadata": {},
   "outputs": [],
   "source": [
    "# Notes\n",
    "# pick a number 1 in a million\n",
    "# input a guess\n",
    "# tell the user if the number is too high or too low\n",
    "# If they enter a negative number, exit the program\n",
    "# Keep a counter for guesses and tell the user how many guesses they made once the game is over."
   ]
  },
  {
   "cell_type": "code",
   "execution_count": 4,
   "id": "053d88dd",
   "metadata": {},
   "outputs": [
    {
     "name": "stdout",
     "output_type": "stream",
     "text": [
      "Guessing game\n",
      "I have picked a number between 1 and 1 million...\n",
      "What number am I thinking of? 7\n",
      "Too Low... guess a bigger number. \n",
      "\n",
      "What number am I thinking of? 9\n",
      "Too High... guess smaller number \n",
      "\n",
      "What number am I thinking of? 8\n",
      "You got it! \n",
      " It took you 3 guesses to find it!\n"
     ]
    }
   ],
   "source": [
    "import random\n",
    "import sys\n",
    "\n",
    "secret_number = random.randint(1, 1000000)\n",
    "# print(secret_number)\n",
    "\n",
    "print(\"Guessing game\")\n",
    "print(\"I have picked a number between 1 and 1 million...\")\n",
    "guess_count = 0\n",
    "while True:\n",
    "    current_guess = int(input(\"What number am I thinking of? \"))\n",
    "    guess_count += 1\n",
    "    if current_guess == secret_number:\n",
    "        break\n",
    "    elif current_guess < 0:\n",
    "        print(\"You broke the program...\")\n",
    "        sys.exit()\n",
    "    elif secret_number < current_guess:\n",
    "        print(\"Too High... guess smaller number \\n\")\n",
    "    else:\n",
    "        print(\"Too Low... guess a bigger number. \\n\")\n",
    "if guess_count == 1:\n",
    "    print(\"WAY TO GO! You got it on the first try!\")\n",
    "else:\n",
    "    print(f\"You got it! \\n It took you {guess_count} guesses to find it!\")"
   ]
  },
  {
   "cell_type": "code",
   "execution_count": null,
   "id": "d4e85c00",
   "metadata": {},
   "outputs": [],
   "source": []
  },
  {
   "cell_type": "markdown",
   "id": "5cd4049b",
   "metadata": {},
   "source": [
    "#### Day 19 For Loop\n",
    "#### 1MAR24"
   ]
  },
  {
   "cell_type": "code",
   "execution_count": 5,
   "id": "f8708615",
   "metadata": {},
   "outputs": [
    {
     "name": "stdout",
     "output_type": "stream",
     "text": [
      "0\n",
      "1\n",
      "2\n",
      "3\n",
      "4\n",
      "5\n",
      "6\n",
      "7\n",
      "8\n",
      "9\n"
     ]
    }
   ],
   "source": [
    "# Notes\n",
    "\n",
    "for counter in range(10):\n",
    "    print(counter)\n",
    "    "
   ]
  },
  {
   "cell_type": "code",
   "execution_count": 10,
   "id": "2e20d9bf",
   "metadata": {},
   "outputs": [
    {
     "name": "stdout",
     "output_type": "stream",
     "text": [
      "1010\n"
     ]
    }
   ],
   "source": [
    "# De-Bug the code\n",
    "total = 10\n",
    "for counter in range (100):\n",
    "    total += 10\n",
    "print(total)"
   ]
  },
  {
   "cell_type": "code",
   "execution_count": 18,
   "id": "33297c2c",
   "metadata": {},
   "outputs": [
    {
     "name": "stdout",
     "output_type": "stream",
     "text": [
      "Loan Calculator\n",
      "How much did you borrow? 100000\n",
      "How many years are you borrowing the money? 30\n",
      "What is the intrest percentage? 2.5\n",
      "Year 1 is 102499.99999999999\n",
      "Year 2 is 105062.49999999997\n",
      "Year 3 is 107689.06249999996\n",
      "Year 4 is 110381.28906249994\n",
      "Year 5 is 113140.82128906243\n",
      "Year 6 is 115969.34182128898\n",
      "Year 7 is 118868.5753668212\n",
      "Year 8 is 121840.28975099172\n",
      "Year 9 is 124886.29699476651\n",
      "Year 10 is 128008.45441963566\n",
      "Year 11 is 131208.66578012652\n",
      "Year 12 is 134488.88242462967\n",
      "Year 13 is 137851.1044852454\n",
      "Year 14 is 141297.3820973765\n",
      "Year 15 is 144829.8166498109\n",
      "Year 16 is 148450.56206605615\n",
      "Year 17 is 152161.82611770753\n",
      "Year 18 is 155965.8717706502\n",
      "Year 19 is 159865.01856491645\n",
      "Year 20 is 163861.64402903934\n",
      "Year 21 is 167958.1851297653\n",
      "Year 22 is 172157.13975800943\n",
      "Year 23 is 176461.06825195966\n",
      "Year 24 is 180872.59495825865\n",
      "Year 25 is 185394.4098322151\n",
      "Year 26 is 190029.27007802046\n",
      "Year 27 is 194780.00182997095\n",
      "Year 28 is 199649.5018757202\n",
      "Year 29 is 204640.73942261317\n",
      "Year 30 is 209756.7579081785\n",
      "You paid $109756.76000000001 in intrest!\n"
     ]
    }
   ],
   "source": [
    "# Challenge\n",
    "# Loan Calculator\n",
    "\n",
    "print(\"Loan Calculator\")\n",
    "starting = float(input(\"How much did you borrow? \"))\n",
    "years = int(input(\"How many years are you borrowing the money? \"))\n",
    "intrest_rate = float(input(\"What is the intrest percentage? \"))/100\n",
    "with_intrest = starting\n",
    "for i in range(years):\n",
    "    with_intrest = with_intrest * (1+intrest_rate)\n",
    "    print(f\"Year {i + 1} is {with_intrest}\")\n",
    "with_intrest = round(with_intrest,2)\n",
    "print(f\"You paid ${with_intrest - starting} in intrest!\")\n",
    "    \n"
   ]
  },
  {
   "cell_type": "markdown",
   "id": "60811148",
   "metadata": {},
   "source": [
    "#### Day 20 What can range really do?\n",
    "#### 2MAR24"
   ]
  },
  {
   "cell_type": "code",
   "execution_count": 20,
   "id": "399bd245",
   "metadata": {},
   "outputs": [
    {
     "name": "stdout",
     "output_type": "stream",
     "text": [
      "100\n",
      "101\n",
      "102\n",
      "103\n",
      "104\n",
      "105\n",
      "106\n",
      "107\n",
      "108\n",
      "109\n"
     ]
    }
   ],
   "source": [
    "# Notes\n",
    "# (starting value, value to end, increment)\n",
    "# This will start at 100, but the last number will be 109\n",
    "for i in range(100,110):\n",
    "    print(i)"
   ]
  },
  {
   "cell_type": "code",
   "execution_count": 21,
   "id": "6ff5f659",
   "metadata": {},
   "outputs": [
    {
     "name": "stdout",
     "output_type": "stream",
     "text": [
      "1\n",
      "2\n",
      "3\n",
      "4\n",
      "5\n",
      "6\n",
      "7\n"
     ]
    }
   ],
   "source": [
    "for i in range(1,8):\n",
    "    print(i)"
   ]
  },
  {
   "cell_type": "code",
   "execution_count": 22,
   "id": "7af878e5",
   "metadata": {},
   "outputs": [
    {
     "name": "stdout",
     "output_type": "stream",
     "text": [
      "Thirteen Times Table\n",
      "1 x 13 = 13\n",
      "2 x 13 = 26\n",
      "3 x 13 = 39\n",
      "4 x 13 = 52\n",
      "5 x 13 = 65\n",
      "6 x 13 = 78\n",
      "7 x 13 = 91\n",
      "8 x 13 = 104\n",
      "9 x 13 = 117\n",
      "10 x 13 = 130\n",
      "11 x 13 = 143\n",
      "12 x 13 = 156\n",
      "13 x 13 = 169\n"
     ]
    }
   ],
   "source": [
    "print(\"Thirteen Times Table\")\n",
    "for i in range(1,14):\n",
    "    print(i, \"x 13 =\", i*13)"
   ]
  },
  {
   "cell_type": "code",
   "execution_count": 23,
   "id": "5a877d57",
   "metadata": {},
   "outputs": [
    {
     "name": "stdout",
     "output_type": "stream",
     "text": [
      "1 x 1 = 1\n",
      "1 x 2 = 2\n",
      "1 x 3 = 3\n",
      "1 x 4 = 4\n",
      "1 x 5 = 5\n",
      "1 x 6 = 6\n",
      "1 x 7 = 7\n",
      "1 x 8 = 8\n",
      "1 x 9 = 9\n",
      "1 x 10 = 10\n",
      "1 x 11 = 11\n",
      "1 x 12 = 12\n",
      "2 x 1 = 2\n",
      "2 x 2 = 4\n",
      "2 x 3 = 6\n",
      "2 x 4 = 8\n",
      "2 x 5 = 10\n",
      "2 x 6 = 12\n",
      "2 x 7 = 14\n",
      "2 x 8 = 16\n",
      "2 x 9 = 18\n",
      "2 x 10 = 20\n",
      "2 x 11 = 22\n",
      "2 x 12 = 24\n",
      "3 x 1 = 3\n",
      "3 x 2 = 6\n",
      "3 x 3 = 9\n",
      "3 x 4 = 12\n",
      "3 x 5 = 15\n",
      "3 x 6 = 18\n",
      "3 x 7 = 21\n",
      "3 x 8 = 24\n",
      "3 x 9 = 27\n",
      "3 x 10 = 30\n",
      "3 x 11 = 33\n",
      "3 x 12 = 36\n",
      "4 x 1 = 4\n",
      "4 x 2 = 8\n",
      "4 x 3 = 12\n",
      "4 x 4 = 16\n",
      "4 x 5 = 20\n",
      "4 x 6 = 24\n",
      "4 x 7 = 28\n",
      "4 x 8 = 32\n",
      "4 x 9 = 36\n",
      "4 x 10 = 40\n",
      "4 x 11 = 44\n",
      "4 x 12 = 48\n",
      "5 x 1 = 5\n",
      "5 x 2 = 10\n",
      "5 x 3 = 15\n",
      "5 x 4 = 20\n",
      "5 x 5 = 25\n",
      "5 x 6 = 30\n",
      "5 x 7 = 35\n",
      "5 x 8 = 40\n",
      "5 x 9 = 45\n",
      "5 x 10 = 50\n",
      "5 x 11 = 55\n",
      "5 x 12 = 60\n",
      "6 x 1 = 6\n",
      "6 x 2 = 12\n",
      "6 x 3 = 18\n",
      "6 x 4 = 24\n",
      "6 x 5 = 30\n",
      "6 x 6 = 36\n",
      "6 x 7 = 42\n",
      "6 x 8 = 48\n",
      "6 x 9 = 54\n",
      "6 x 10 = 60\n",
      "6 x 11 = 66\n",
      "6 x 12 = 72\n",
      "7 x 1 = 7\n",
      "7 x 2 = 14\n",
      "7 x 3 = 21\n",
      "7 x 4 = 28\n",
      "7 x 5 = 35\n",
      "7 x 6 = 42\n",
      "7 x 7 = 49\n",
      "7 x 8 = 56\n",
      "7 x 9 = 63\n",
      "7 x 10 = 70\n",
      "7 x 11 = 77\n",
      "7 x 12 = 84\n",
      "8 x 1 = 8\n",
      "8 x 2 = 16\n",
      "8 x 3 = 24\n",
      "8 x 4 = 32\n",
      "8 x 5 = 40\n",
      "8 x 6 = 48\n",
      "8 x 7 = 56\n",
      "8 x 8 = 64\n",
      "8 x 9 = 72\n",
      "8 x 10 = 80\n",
      "8 x 11 = 88\n",
      "8 x 12 = 96\n",
      "9 x 1 = 9\n",
      "9 x 2 = 18\n",
      "9 x 3 = 27\n",
      "9 x 4 = 36\n",
      "9 x 5 = 45\n",
      "9 x 6 = 54\n",
      "9 x 7 = 63\n",
      "9 x 8 = 72\n",
      "9 x 9 = 81\n",
      "9 x 10 = 90\n",
      "9 x 11 = 99\n",
      "9 x 12 = 108\n",
      "10 x 1 = 10\n",
      "10 x 2 = 20\n",
      "10 x 3 = 30\n",
      "10 x 4 = 40\n",
      "10 x 5 = 50\n",
      "10 x 6 = 60\n",
      "10 x 7 = 70\n",
      "10 x 8 = 80\n",
      "10 x 9 = 90\n",
      "10 x 10 = 100\n",
      "10 x 11 = 110\n",
      "10 x 12 = 120\n",
      "11 x 1 = 11\n",
      "11 x 2 = 22\n",
      "11 x 3 = 33\n",
      "11 x 4 = 44\n",
      "11 x 5 = 55\n",
      "11 x 6 = 66\n",
      "11 x 7 = 77\n",
      "11 x 8 = 88\n",
      "11 x 9 = 99\n",
      "11 x 10 = 110\n",
      "11 x 11 = 121\n",
      "11 x 12 = 132\n",
      "12 x 1 = 12\n",
      "12 x 2 = 24\n",
      "12 x 3 = 36\n",
      "12 x 4 = 48\n",
      "12 x 5 = 60\n",
      "12 x 6 = 72\n",
      "12 x 7 = 84\n",
      "12 x 8 = 96\n",
      "12 x 9 = 108\n",
      "12 x 10 = 120\n",
      "12 x 11 = 132\n",
      "12 x 12 = 144\n"
     ]
    }
   ],
   "source": [
    "for i in range(1,13):\n",
    "    for j in range(1,13):\n",
    "        print(i, \"x\", j, \"=\", i*j)"
   ]
  },
  {
   "cell_type": "code",
   "execution_count": 27,
   "id": "149bce5a",
   "metadata": {},
   "outputs": [
    {
     "name": "stdout",
     "output_type": "stream",
     "text": [
      "10\n",
      "9\n",
      "8\n",
      "7\n",
      "6\n",
      "5\n",
      "4\n",
      "3\n",
      "2\n",
      "1\n"
     ]
    }
   ],
   "source": [
    "# You can increment down\n",
    "for i in range(10, 0, -1):\n",
    "    print(i)"
   ]
  },
  {
   "cell_type": "code",
   "execution_count": 29,
   "id": "4c178151",
   "metadata": {},
   "outputs": [
    {
     "name": "stdout",
     "output_type": "stream",
     "text": [
      "0\n",
      "25\n",
      "50\n",
      "75\n",
      "100\n",
      "125\n",
      "150\n",
      "175\n",
      "200\n",
      "225\n",
      "250\n",
      "275\n",
      "300\n",
      "325\n",
      "350\n",
      "375\n",
      "400\n",
      "425\n",
      "450\n",
      "475\n",
      "500\n",
      "525\n",
      "550\n",
      "575\n",
      "600\n",
      "625\n",
      "650\n",
      "675\n",
      "700\n",
      "725\n",
      "750\n",
      "775\n",
      "800\n",
      "825\n",
      "850\n",
      "875\n",
      "900\n",
      "925\n",
      "950\n",
      "975\n",
      "1000\n"
     ]
    }
   ],
   "source": [
    "for i in range(0, 1001, 25):\n",
    "    print(i)"
   ]
  },
  {
   "cell_type": "code",
   "execution_count": 33,
   "id": "834a4f47",
   "metadata": {},
   "outputs": [
    {
     "name": "stdout",
     "output_type": "stream",
     "text": [
      "10\n",
      "9\n",
      "8\n",
      "7\n",
      "6\n",
      "5\n",
      "4\n",
      "3\n",
      "2\n",
      "1\n"
     ]
    }
   ],
   "source": [
    "for i in range (10, 0,-1):\n",
    "    print(i)"
   ]
  },
  {
   "cell_type": "code",
   "execution_count": 34,
   "id": "15caa99c",
   "metadata": {},
   "outputs": [
    {
     "name": "stdout",
     "output_type": "stream",
     "text": [
      "20\n",
      "21\n",
      "22\n",
      "23\n",
      "24\n",
      "25\n",
      "26\n",
      "27\n",
      "28\n",
      "29\n",
      "30\n",
      "31\n",
      "32\n",
      "33\n",
      "34\n",
      "35\n",
      "36\n",
      "37\n",
      "38\n",
      "39\n"
     ]
    }
   ],
   "source": [
    "# Fix my code\n",
    "for i in range (20, 40):\n",
    "    print(i)"
   ]
  },
  {
   "cell_type": "code",
   "execution_count": 38,
   "id": "3642e821",
   "metadata": {},
   "outputs": [
    {
     "name": "stdout",
     "output_type": "stream",
     "text": [
      "Increment Builder...\n",
      "Where would you like to start? 200\n",
      "Where would you like to stop?300\n",
      "What is your increment?20\n",
      "200\n",
      "220\n",
      "240\n",
      "260\n",
      "280\n",
      "300\n"
     ]
    }
   ],
   "source": [
    "# Challenge\n",
    "# Use the for loop and range function.\n",
    "# ask whhere to start, where to finish, and what increment to use.\n",
    "print(\"Increment Builder...\")\n",
    "start = int(input(\"Where would you like to start? \"))\n",
    "stop = int(input(\"Where would you like to stop?\"))\n",
    "increment = int(input(\"What is your increment?\"))\n",
    "\n",
    "for i in range(start, stop+1,increment):\n",
    "    print(i)"
   ]
  },
  {
   "cell_type": "code",
   "execution_count": null,
   "id": "3532affa",
   "metadata": {},
   "outputs": [],
   "source": []
  }
 ],
 "metadata": {
  "kernelspec": {
   "display_name": "Python 3 (ipykernel)",
   "language": "python",
   "name": "python3"
  },
  "language_info": {
   "codemirror_mode": {
    "name": "ipython",
    "version": 3
   },
   "file_extension": ".py",
   "mimetype": "text/x-python",
   "name": "python",
   "nbconvert_exporter": "python",
   "pygments_lexer": "ipython3",
   "version": "3.9.18"
  }
 },
 "nbformat": 4,
 "nbformat_minor": 5
}
