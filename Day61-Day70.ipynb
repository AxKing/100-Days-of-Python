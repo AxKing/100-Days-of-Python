{
 "cells": [
  {
   "cell_type": "markdown",
   "id": "a1253154",
   "metadata": {},
   "source": [
    "#### Day 61 Replit DB\n",
    "#### 27APR24"
   ]
  },
  {
   "cell_type": "code",
   "execution_count": 6,
   "id": "0ecbbbd1",
   "metadata": {},
   "outputs": [
    {
     "ename": "ModuleNotFoundError",
     "evalue": "No module named 'replit'",
     "output_type": "error",
     "traceback": [
      "\u001b[0;31m---------------------------------------------------------------------------\u001b[0m",
      "\u001b[0;31mModuleNotFoundError\u001b[0m                       Traceback (most recent call last)",
      "\u001b[0;32m/var/folders/b0/x4p60r3n3dz3lbgp1_bgg05h0000gn/T/ipykernel_1106/4265903152.py\u001b[0m in \u001b[0;36m<module>\u001b[0;34m\u001b[0m\n\u001b[0;32m----> 1\u001b[0;31m \u001b[0;32mfrom\u001b[0m \u001b[0mreplit\u001b[0m \u001b[0;32mimport\u001b[0m \u001b[0mdb\u001b[0m\u001b[0;34m\u001b[0m\u001b[0;34m\u001b[0m\u001b[0m\n\u001b[0m",
      "\u001b[0;31mModuleNotFoundError\u001b[0m: No module named 'replit'"
     ]
    }
   ],
   "source": [
    "from replit import db"
   ]
  },
  {
   "cell_type": "code",
   "execution_count": null,
   "id": "85da6e75",
   "metadata": {},
   "outputs": [],
   "source": [
    "from replit import db\n",
    "\n",
    "db['test'] = \"Hello There\"\n",
    "\n",
    "print(db[\"test\"])\n",
    "\n",
    "print(db.keys())\n",
    "for key in db.keys():\n",
    "    print(key)\n",
    "\n",
    "#delete a key\n",
    "del db[\"test\"]\n",
    "\n",
    "db[\"login1\"] = \"Tony\"\n",
    "db[\"login2\"] = \"Epi\"\n",
    "db[\"login3\"] = \"Kaylee\"\n",
    "db[\"login4\"] = \"Finny\"\n",
    "db[\"login5\"] = \"Rita\"\n",
    "\n",
    "matches = db.prefix(\"login\")\n",
    "print(matches)"
   ]
  },
  {
   "cell_type": "code",
   "execution_count": null,
   "id": "1aec95aa",
   "metadata": {},
   "outputs": [],
   "source": [
    "from replit import db\n",
    "\n",
    "db[\"david\"] = {\"username\": \"dmorgan\", \"password\":\"baldy1\"}\n",
    "\n",
    "keys = db.keys()\n",
    "print(keys)\n",
    "\n",
    "value = db[\"david\"]\n",
    "print(value[\"password\"])"
   ]
  },
  {
   "cell_type": "code",
   "execution_count": null,
   "id": "80d3ac29",
   "metadata": {},
   "outputs": [],
   "source": [
    "import datetime\n",
    "\n",
    "today = datetime.date.today()\n",
    "\n",
    "daysLeft = datetime.timedelta(days = 40)\n",
    "\n",
    "leaving = datetime.date(year=2024, month=5, day=27)\n",
    "\n",
    "# finishBy = (today + daysLeft)\n",
    "(leaving - today)"
   ]
  },
  {
   "cell_type": "code",
   "execution_count": 37,
   "id": "607fdf2c",
   "metadata": {
    "scrolled": true
   },
   "outputs": [
    {
     "name": "stdout",
     "output_type": "stream",
     "text": [
      "\u001b[H\u001b[2JWelcome to 'Twitter'\n",
      "You can Add your tweets or you can view your tweets...\n",
      "Enter ADD or VIEW\n",
      ": view\n",
      "\n",
      "Page 1\n",
      "1. 45th Tweet...\n",
      "2. 44th Tweet...\n",
      "3. 43th Tweet...\n",
      "4. 42th Tweet...\n",
      "5. 41th Tweet...\n",
      "6. 40th Tweet...\n",
      "7. 39th Tweet...\n",
      "8. 38th Tweet...\n",
      "9. 37th Tweet...\n",
      "10. 36th Tweet...\n",
      "\n",
      "Would you like to see another page?\n",
      "Enter Y or N: y\n",
      "\u001b[H\u001b[2J\n",
      "Page 2\n",
      "1. 35th Tweet...\n",
      "2. 34th Tweet...\n",
      "3. 33th Tweet...\n",
      "4. 32th Tweet...\n",
      "5. 31th Tweet...\n",
      "6. 30th Tweet...\n",
      "7. 29th Tweet...\n",
      "8. 28th Tweet...\n",
      "9. 27th Tweet...\n",
      "10. 26th Tweet...\n",
      "\n",
      "Would you like to see another page?\n",
      "Enter Y or N: n\n",
      "\u001b[H\u001b[2JWelcome to 'Twitter'\n",
      "You can Add your tweets or you can view your tweets...\n",
      "Enter ADD or VIEW\n",
      ": exit\n"
     ]
    }
   ],
   "source": [
    "import datetime, os, time\n",
    "db = {}\n",
    "fakeRecords = 45\n",
    "\n",
    "for i in range(fakeRecords):\n",
    "    now = datetime.datetime.now()\n",
    "    db[now] = f\"{i + 1}th Tweet...\"\n",
    "    time.sleep(.0025)\n",
    "\n",
    "def menu():\n",
    "    os.system(\"clear\")\n",
    "    print(\"Welcome to 'Twitter'\")\n",
    "    print(\"You can Add your tweets or you can view your tweets...\")\n",
    "    print(\"Enter ADD or VIEW\")\n",
    "    toDo = input(\": \").lower()\n",
    "    return toDo\n",
    "    \n",
    "def addTweet():\n",
    "    os.system(\"clear\")\n",
    "    print(\"Let's tell the world how you feel!\")\n",
    "    tweet = input(\": \")\n",
    "    now = datetime.datetime.now()\n",
    "    db[now] = tweet\n",
    "    \n",
    "def viewTweets():\n",
    "    keys = db.keys()\n",
    "    keys = list(keys)\n",
    "    pageNum = 1\n",
    "    while len(keys) > 0:\n",
    "        print()\n",
    "        print(f\"Page {pageNum}\")\n",
    "        if len(keys) > 10:\n",
    "            for i in range(10):\n",
    "                mostrecentKey = keys.pop()\n",
    "                print(f\"{i + 1}. {db[mostrecentKey]}\")\n",
    "            print()\n",
    "            print(\"Would you like to see another page?\")\n",
    "            nextPage = input(\"Enter Y or N: \").lower()\n",
    "            if nextPage == \"n\":\n",
    "                break\n",
    "            if nextPage == \"y\":\n",
    "                pageNum += 1\n",
    "                os.system(\"clear\")\n",
    "        else:\n",
    "            for i in range(len(keys)):\n",
    "                mostrecentKey = keys.pop()\n",
    "                print(f\"{i + 1}. {db[mostrecentKey]}\")\n",
    "            time.sleep(5)\n",
    "    \n",
    "while True:\n",
    "    toDo = menu()\n",
    "    if toDo == \"exit\":\n",
    "        break\n",
    "    elif toDo == \"add\":\n",
    "        addTweet()\n",
    "    elif toDo == \"view\":\n",
    "        viewTweets()"
   ]
  },
  {
   "cell_type": "markdown",
   "id": "2735873f",
   "metadata": {},
   "source": [
    "#### Day 62 Secret Keeper\n",
    "#### 28APR24"
   ]
  },
  {
   "cell_type": "code",
   "execution_count": 8,
   "id": "0a5b444b",
   "metadata": {},
   "outputs": [
    {
     "name": "stdout",
     "output_type": "stream",
     "text": [
      "DEAR DIARY\n",
      "Please enter your password.\n",
      ": petty\n",
      "Unlocked\n",
      "You can ADD and entry or VIEW your last entry\n",
      "Please input your choice ADD or VIEW\n",
      ": add\n",
      "Please add an entry to your Diary\n",
      ":first\n",
      "You can ADD and entry or VIEW your last entry\n",
      "Please input your choice ADD or VIEW\n",
      ": add\n",
      "Please add an entry to your Diary\n",
      ":second\n",
      "You can ADD and entry or VIEW your last entry\n",
      "Please input your choice ADD or VIEW\n",
      ": add\n",
      "Please add an entry to your Diary\n",
      ":third\n",
      "You can ADD and entry or VIEW your last entry\n",
      "Please input your choice ADD or VIEW\n",
      ": add\n",
      "Please add an entry to your Diary\n",
      ":fourth\n",
      "You can ADD and entry or VIEW your last entry\n",
      "Please input your choice ADD or VIEW\n",
      ": view\n",
      "There are 4 dairy entries\n",
      "fourth\n",
      "\n",
      "Enter 'y' to see another entry.y\n",
      "third\n",
      "\n",
      "Enter 'y' to see another entry.y\n",
      "second\n",
      "\n",
      "Enter 'y' to see another entry.y\n",
      "first\n",
      "\n",
      "You can ADD and entry or VIEW your last entry\n",
      "Please input your choice ADD or VIEW\n",
      ": add\n",
      "Please add an entry to your Diary\n",
      ":fifth\n",
      "You can ADD and entry or VIEW your last entry\n",
      "Please input your choice ADD or VIEW\n",
      ": view\n",
      "There are 5 dairy entries\n",
      "fifth\n",
      "\n",
      "Enter 'y' to see another entry.y\n",
      "fourth\n",
      "\n",
      "Enter 'y' to see another entry.y\n",
      "third\n",
      "\n",
      "Enter 'y' to see another entry.y\n",
      "second\n",
      "\n",
      "Enter 'y' to see another entry.y\n",
      "first\n",
      "\n",
      "You can ADD and entry or VIEW your last entry\n",
      "Please input your choice ADD or VIEW\n",
      ": exit\n"
     ]
    }
   ],
   "source": [
    "password = \"petty\"\n",
    "db = {}\n",
    "import datetime\n",
    "\n",
    "def menu():\n",
    "    print(\"You can ADD and entry or VIEW your last entry\")\n",
    "    print(\"Please input your choice ADD or VIEW\")\n",
    "    choice = input(\": \").lower()\n",
    "    return choice\n",
    "\n",
    "def addEntry():\n",
    "    print(\"Please add an entry to your Diary\")\n",
    "    now = datetime.datetime.now()\n",
    "    db[now] = input(\":\")\n",
    "    \n",
    "def viewEntries():\n",
    "    entryKeys = list(db.keys())\n",
    "    print(f\"There are {len(entryKeys)} dairy entries\")\n",
    "    while len(entryKeys) > 0:\n",
    "        print(db[entryKeys.pop()])\n",
    "        print()\n",
    "        if  len(entryKeys) > 0:\n",
    "            continueEntries = input(\"Enter 'y' to see another entry.\")\n",
    "            if continueEntries != \"y\":\n",
    "                break\n",
    "        else:\n",
    "            break\n",
    "    \n",
    "    \n",
    "print(\"DEAR DIARY\")\n",
    "print(\"Please enter your password.\")\n",
    "inputPw = input(\": \")\n",
    "if inputPw == password:\n",
    "    print(\"Unlocked\")\n",
    "    while True:\n",
    "        choice = menu()\n",
    "        if choice == \"exit\":\n",
    "            break\n",
    "        elif choice == \"add\":\n",
    "            addEntry()\n",
    "        elif choice == \"view\":\n",
    "            viewEntries()\n",
    "\n",
    "else:\n",
    "    print(\"Incorrect Password\")"
   ]
  },
  {
   "cell_type": "markdown",
   "id": "27ed7c94",
   "metadata": {},
   "source": [
    "#### Day 63 Importing Files\n",
    "#### 29APR24"
   ]
  },
  {
   "cell_type": "code",
   "execution_count": 1,
   "id": "cbd51d6f",
   "metadata": {},
   "outputs": [],
   "source": [
    "import test as tt"
   ]
  },
  {
   "cell_type": "markdown",
   "id": "f67e8942",
   "metadata": {},
   "source": [
    "#### Day 64 Object Oriented Programing\n",
    "#### 28APR24"
   ]
  },
  {
   "cell_type": "code",
   "execution_count": 35,
   "id": "1f0c4963",
   "metadata": {},
   "outputs": [],
   "source": [
    "class animal:\n",
    "    species = None\n",
    "    name = None\n",
    "    sound = None\n",
    "\n",
    "    def __init__(self, name, species, sound):\n",
    "        self.name = name\n",
    "        self.species = species\n",
    "        self.sound = sound\n",
    "        \n",
    "    def talk(self):\n",
    "        print(f\"The {self.name} says {self.sound}...\")"
   ]
  },
  {
   "cell_type": "code",
   "execution_count": 36,
   "id": "7f717277",
   "metadata": {},
   "outputs": [
    {
     "name": "stdout",
     "output_type": "stream",
     "text": [
      "<__main__.animal object at 0x7f9eccf36550>\n"
     ]
    }
   ],
   "source": [
    "dog = animal(\"Dog\", \"Canine\", \"Woof\")\n",
    "print(dog)"
   ]
  },
  {
   "cell_type": "code",
   "execution_count": 37,
   "id": "a5090345",
   "metadata": {},
   "outputs": [
    {
     "data": {
      "text/plain": [
       "'Dog'"
      ]
     },
     "execution_count": 37,
     "metadata": {},
     "output_type": "execute_result"
    }
   ],
   "source": [
    "dog.name"
   ]
  },
  {
   "cell_type": "code",
   "execution_count": 38,
   "id": "f4204ab6",
   "metadata": {},
   "outputs": [
    {
     "data": {
      "text/plain": [
       "'Woof'"
      ]
     },
     "execution_count": 38,
     "metadata": {},
     "output_type": "execute_result"
    }
   ],
   "source": [
    "dog.sound"
   ]
  },
  {
   "cell_type": "code",
   "execution_count": 39,
   "id": "eb0e5c01",
   "metadata": {},
   "outputs": [],
   "source": [
    "cow = animal(\"Cow\", \"Bovine\", \"Moo\")"
   ]
  },
  {
   "cell_type": "code",
   "execution_count": 40,
   "id": "8eb67f07",
   "metadata": {},
   "outputs": [
    {
     "data": {
      "text/plain": [
       "('Dog', 'Cow')"
      ]
     },
     "execution_count": 40,
     "metadata": {},
     "output_type": "execute_result"
    }
   ],
   "source": [
    "dog.name, cow.name"
   ]
  },
  {
   "cell_type": "code",
   "execution_count": 41,
   "id": "d1152f8a",
   "metadata": {},
   "outputs": [
    {
     "name": "stdout",
     "output_type": "stream",
     "text": [
      "The Dog says Woof...\n",
      "The Cow says Moo...\n"
     ]
    },
    {
     "data": {
      "text/plain": [
       "(None, None)"
      ]
     },
     "execution_count": 41,
     "metadata": {},
     "output_type": "execute_result"
    }
   ],
   "source": [
    "dog.talk(), cow.talk()"
   ]
  },
  {
   "cell_type": "code",
   "execution_count": 45,
   "id": "54bce1f8",
   "metadata": {},
   "outputs": [],
   "source": [
    "# Inheritance\n",
    "\n",
    "class bird(animal):\n",
    "    color = None\n",
    "    def __init__(self, color):\n",
    "        self.name = \"Bird\"\n",
    "        self.species = \"Avian\"\n",
    "        self.sound = \"Tweet\"\n",
    "        self.color = color"
   ]
  },
  {
   "cell_type": "code",
   "execution_count": 50,
   "id": "8a722cce",
   "metadata": {},
   "outputs": [
    {
     "data": {
      "text/plain": [
       "'Blue'"
      ]
     },
     "execution_count": 50,
     "metadata": {},
     "output_type": "execute_result"
    }
   ],
   "source": [
    "polly = bird(\"Blue\")\n",
    "polly.color"
   ]
  },
  {
   "cell_type": "code",
   "execution_count": 51,
   "id": "c2d39cd4",
   "metadata": {},
   "outputs": [
    {
     "name": "stdout",
     "output_type": "stream",
     "text": [
      "The Bird says Tweet...\n"
     ]
    }
   ],
   "source": [
    "polly.talk()"
   ]
  },
  {
   "cell_type": "code",
   "execution_count": 88,
   "id": "6190c6bc",
   "metadata": {},
   "outputs": [
    {
     "name": "stdout",
     "output_type": "stream",
     "text": [
      "Moo\n",
      "Bird says Tweet\n",
      "Green\n"
     ]
    }
   ],
   "source": [
    "# Fix my Code\n",
    "\n",
    "class animal:\n",
    "    species = None\n",
    "    name = None\n",
    "    sound = None\n",
    " \n",
    "    def __init__(self, name, species, sound):\n",
    "        self.name = name\n",
    "        self.species = species\n",
    "        self.sound = sound\n",
    "    \n",
    "    def talk(self):\n",
    "        print((f\"{self.name} says {self.sound}\"))\n",
    "\n",
    "class bird(animal):\n",
    "\n",
    "    def __init__(self, color):\n",
    "        self.name = \"Bird\"\n",
    "        self.species = \"Avian\"\n",
    "        self.sound = \"Tweet\"\n",
    "        self.color = color\n",
    "\n",
    "\n",
    "cow = animal(\"Ermintrude\", \"Bo Taurus\", \"Moo\")\n",
    "print(cow.sound)\n",
    "# print(cow.color)\n",
    "\n",
    "polly = bird(\"Green\") \n",
    "polly.talk()\n",
    "print(polly.color)"
   ]
  },
  {
   "cell_type": "code",
   "execution_count": 112,
   "id": "3f584848",
   "metadata": {},
   "outputs": [],
   "source": [
    "#Create a job class\n",
    "# name, salary, hoursworked\n",
    "# include a print method\n",
    "\n",
    "class Job(object):\n",
    "    name = None\n",
    "    salary = None\n",
    "    hoursWorked = None\n",
    "    \n",
    "    def __init__(self, name, salary, hoursWorked):\n",
    "        self.name = name\n",
    "        self.salary = salary\n",
    "        self.hoursWorked = hoursWorked\n",
    "        \n",
    "    def printDetails(self):\n",
    "        print(f\"\"\"\n",
    "        Job Name: {self.name}\n",
    "        Salary: {self.salary}\n",
    "        Hours Worked: {self.hoursWorked}\n",
    "        \"\"\")\n",
    "    \n",
    "    @property\n",
    "    def hourlyWage(self):\n",
    "        return (self.salary/2000)\n",
    "        \n",
    "class Plumber(Job):\n",
    "    \n",
    "    def __init__(self, salary, hoursWorked, speciality):\n",
    "        super(Plumber, self).__init__(\"Plumber\", salary, hoursWorked)\n",
    "        self.speciality = speciality\n",
    "        \n",
    "    def printDetails(self):\n",
    "        print(f\"\"\"\n",
    "            Job Name: {self.name}\n",
    "            Salary: {self.salary}\n",
    "            Hours Worked: {self.hoursWorked}\n",
    "            Speciality: {self.speciality}\n",
    "            \"\"\")"
   ]
  },
  {
   "cell_type": "code",
   "execution_count": 95,
   "id": "2680ecbd",
   "metadata": {},
   "outputs": [],
   "source": [
    "class Doctor(Job):\n",
    " \n",
    "    def __init__(self, speciality, yearsOfExperience):\n",
    "        self.name = \"Doctor\"\n",
    "        self.salary = \"$ Doing Very nicely Thank You\"\n",
    "        self.hoursWorked = 50\n",
    "        self.speciality = speciality\n",
    "        self.yearsOfExperience = yearsOfExperience\n",
    "    \n",
    "    def printNewDetails(self):\n",
    "        print(f\"\"\"\n",
    "            Job Name: {self.name}\n",
    "            Salary: {self.salary}\n",
    "            Hours Worked: {self.hoursWorked}\n",
    "            Speciality: {self.speciality}\n",
    "            Years of Experience: {self.yearsOfExperience}\n",
    "            \"\"\")\n",
    "        "
   ]
  },
  {
   "cell_type": "code",
   "execution_count": 91,
   "id": "d981c136",
   "metadata": {},
   "outputs": [],
   "source": [
    "class Teacher(Job):\n",
    "    \n",
    "    def __init__(self, subject, position):\n",
    "        self.name = \"Teacher\"\n",
    "        self.salary = \"Nowhere near enough\"\n",
    "        self.hoursWorked = \"All of them\"\n",
    "        self.subject = subject\n",
    "        self.position = position\n",
    "    \n",
    "    def printDetails(self):\n",
    "        print(f\"\"\"\n",
    "            Job Name: {self.name}\n",
    "            Salary: {self.salary}\n",
    "            Hours Worked: {self.hoursWorked}\n",
    "            Speciality: {self.subject}\n",
    "            Years of Experience: {self.position}\n",
    "        \"\"\")"
   ]
  },
  {
   "cell_type": "code",
   "execution_count": 113,
   "id": "1056dc31",
   "metadata": {},
   "outputs": [
    {
     "name": "stdout",
     "output_type": "stream",
     "text": [
      "\n",
      "        Job Name: Lawyer\n",
      "        Salary: 120000\n",
      "        Hours Worked: 60\n",
      "        \n",
      "60.0\n",
      "120.0\n"
     ]
    }
   ],
   "source": [
    "lawyer = Job(\"Lawyer\", 120000, 60)\n",
    "lawyer.printDetails()\n",
    "print(lawyer.hourlyWage)\n",
    "\n",
    "lawyer.salary = 240000\n",
    "print(lawyer.hourlyWage)"
   ]
  },
  {
   "cell_type": "code",
   "execution_count": 101,
   "id": "dd86af7a",
   "metadata": {},
   "outputs": [
    {
     "name": "stdout",
     "output_type": "stream",
     "text": [
      "Lawyer None\n"
     ]
    }
   ],
   "source": [
    "print(lawyer.name, Job.name)"
   ]
  },
  {
   "cell_type": "code",
   "execution_count": 96,
   "id": "e445d236",
   "metadata": {},
   "outputs": [
    {
     "name": "stdout",
     "output_type": "stream",
     "text": [
      "\n",
      "        Job Name: Doctor\n",
      "        Salary: $ Doing Very nicely Thank You\n",
      "        Hours Worked: 50\n",
      "        \n",
      "\n",
      "            Job Name: Doctor\n",
      "            Salary: $ Doing Very nicely Thank You\n",
      "            Hours Worked: 50\n",
      "            Speciality: Pediatric Consultant\n",
      "            Years of Experience: 7\n",
      "            \n"
     ]
    }
   ],
   "source": [
    "doctor = Doctor(\"Pediatric Consultant\", 7)\n",
    "doctor.printDetails()\n",
    "doctor.printNewDetails()"
   ]
  },
  {
   "cell_type": "code",
   "execution_count": 94,
   "id": "646fe609",
   "metadata": {},
   "outputs": [
    {
     "name": "stdout",
     "output_type": "stream",
     "text": [
      "\n",
      "            Job Name: Teacher\n",
      "            Salary: Nowhere near enough\n",
      "            Hours Worked: All of them\n",
      "            Speciality: Computer Science\n",
      "            Years of Experience: Classroom Teacher\n",
      "        \n"
     ]
    }
   ],
   "source": [
    "cSTeacher = Teacher(\"Computer Science\", \"Classroom Teacher\")\n",
    "cSTeacher.printDetails()"
   ]
  },
  {
   "cell_type": "code",
   "execution_count": 97,
   "id": "1928f6af",
   "metadata": {},
   "outputs": [
    {
     "name": "stdout",
     "output_type": "stream",
     "text": [
      "\n",
      "            Job Name: Plumber\n",
      "            Salary: 40000\n",
      "            Hours Worked: Too many, Rick!\n",
      "            Speciality: Pipes that lead to Bowser\n",
      "            \n"
     ]
    }
   ],
   "source": [
    "mario = Plumber(40000, \"Too many, Rick!\", \"Pipes that lead to Bowser\")\n",
    "mario.printDetails()"
   ]
  },
  {
   "cell_type": "code",
   "execution_count": null,
   "id": "9a667935",
   "metadata": {},
   "outputs": [],
   "source": []
  },
  {
   "cell_type": "markdown",
   "id": "f7bbbf9d",
   "metadata": {},
   "source": [
    "#### Day 65 Character Creation\n",
    "#### 29APR24"
   ]
  },
  {
   "cell_type": "code",
   "execution_count": 39,
   "id": "b0468e32",
   "metadata": {},
   "outputs": [],
   "source": [
    "class Character(object):\n",
    "    \n",
    "    def __init__(self, name, healthPoints, magicPoints):\n",
    "        self.name = name\n",
    "        self.hp = healthPoints\n",
    "        self.mp = magicPoints\n",
    "        \n",
    "    def printStats(self):\n",
    "        print(f\"\"\"\n",
    "        Character Name: {self.name}\n",
    "        Health Points: {self.hp}\n",
    "        Magic Points: {self.mp}\n",
    "        \"\"\")\n",
    "        \n",
    "class Player(Character):\n",
    "    \n",
    "    def __init__(self, name, healthPoints, magicPoints, numberOfLives):\n",
    "        super(Player, self).__init__(name, healthPoints, magicPoints)\n",
    "        self.lives = numberOfLives\n",
    "        \n",
    "    def printStats(self):\n",
    "        print(f\"\"\"\n",
    "        Character Name: {self.name}\n",
    "        Health Points: {self.hp}\n",
    "        Magic Points: {self.mp}\n",
    "        Lives: {self.lives}\n",
    "        \"\"\")\n",
    "        \n",
    "    def alive(self):\n",
    "        val = \"no\"\n",
    "        if self.lives > 0:\n",
    "            val = \"yes\"\n",
    "        return val\n",
    "\n",
    "class Enemy(Character):\n",
    "    \n",
    "    def __init__(self, name, healthPoints, magicPoints, enemyType, strength):\n",
    "        super().__init__(name, healthPoints, magicPoints)\n",
    "        self.type = enemyType\n",
    "        self.strength = strength\n",
    "\n",
    "class Vampire(Enemy):\n",
    "    \n",
    "    def __init__(self, name, healthPoints, magicPoints, strength):\n",
    "        super().__init__(name, healthPoints, magicPoints, \"Vampire\", strength)\n",
    "        import random\n",
    "        rand = random.randint(1,10)\n",
    "        if rand % 2 == 0:\n",
    "            self.dayOrNight = \"Day\"\n",
    "        else:\n",
    "            self.dayOrNight = \"Night\"\n",
    "        \n",
    "    def printStats(self):\n",
    "        print(f\"\"\"\n",
    "        Character Name: {self.name}\n",
    "        Enemy Type: {self.type}\n",
    "        Health Points: {self.hp}\n",
    "        Magic Points: {self.mp}\n",
    "        Strength: {self.strength}\n",
    "        Day or Night: {self.dayOrNight}\n",
    "        \"\"\")\n",
    "    \n",
    "    \n",
    "class Orc(Enemy):\n",
    "\n",
    "    def __init__(self, name, healthPoints, magicPoints, strength, speed):\n",
    "        super().__init__(name, healthPoints, magicPoints, \"Orc\", strength)\n",
    "        self.speed = speed\n",
    "        \n",
    "    def printStats(self):\n",
    "        print(f\"\"\"\n",
    "        Character Name: {self.name}\n",
    "        Enemy Type: {self.type}\n",
    "        Health Points: {self.hp}\n",
    "        Magic Points: {self.mp}\n",
    "        Strength: {self.strength}\n",
    "        Speed: {self.speed}\n",
    "        \"\"\")"
   ]
  },
  {
   "cell_type": "code",
   "execution_count": 40,
   "id": "26c3a951",
   "metadata": {},
   "outputs": [
    {
     "name": "stdout",
     "output_type": "stream",
     "text": [
      "Player 1\n",
      "\n",
      "        Character Name: Tony\n",
      "        Health Points: 100\n",
      "        Magic Points: 50\n",
      "        Lives: 9\n",
      "        \n",
      "Orc 1\n",
      "\n",
      "        Character Name: Smork\n",
      "        Enemy Type: Orc\n",
      "        Health Points: 250\n",
      "        Magic Points: 0\n",
      "        Strength: 20\n",
      "        Speed: 2\n",
      "        \n",
      "Orc 2\n",
      "\n",
      "        Character Name: Smort\n",
      "        Enemy Type: Orc\n",
      "        Health Points: 250\n",
      "        Magic Points: 0\n",
      "        Strength: 20\n",
      "        Speed: 2\n",
      "        \n",
      "Orc 3\n",
      "\n",
      "        Character Name: Sir Charles Reginald Smith the VIIth, offender of the king, grabber of loaves\n",
      "        Enemy Type: Orc\n",
      "        Health Points: 250\n",
      "        Magic Points: 100\n",
      "        Strength: 20\n",
      "        Speed: 2\n",
      "        \n",
      "Vampire 1\n",
      "\n",
      "        Character Name: Louie\n",
      "        Enemy Type: Vampire\n",
      "        Health Points: 1000\n",
      "        Magic Points: 500\n",
      "        Strength: 100\n",
      "        Day or Night: Night\n",
      "        \n",
      "Vampire 2\n",
      "\n",
      "        Character Name: Claudie\n",
      "        Enemy Type: Vampire\n",
      "        Health Points: 750\n",
      "        Magic Points: 500\n",
      "        Strength: 100\n",
      "        Day or Night: Night\n",
      "        \n"
     ]
    }
   ],
   "source": [
    "# 1 player, 2 vampires and 3 orcs\n",
    "print(\"Player 1\")\n",
    "player1 = Player(\"Tony\", 100, 50, 9)\n",
    "player1.printStats()\n",
    "player1.alive()\n",
    "\n",
    "# Orc 1\n",
    "print(\"Orc 1\")\n",
    "smorcOrc = Orc(\"Smork\", 250, 0, 20, 2)\n",
    "smorcOrc.printStats()\n",
    "\n",
    "# Orc 2\n",
    "print(\"Orc 2\")\n",
    "smortOrc = Orc(\"Smort\", 250, 0, 20, 2)\n",
    "smortOrc.printStats()\n",
    "\n",
    "# Orc 3\n",
    "print(\"Orc 3\")\n",
    "chuckOrc = Orc(\"Sir Charles Reginald Smith the VIIth, offender of the king, grabber of loaves\", 250, 100, 20, 2)\n",
    "chuckOrc.printStats()\n",
    "\n",
    "# Vampire 1\n",
    "print(\"Vampire 1\")\n",
    "louieVamp = Vampire(\"Louie\", 1000, 500, 100)\n",
    "louieVamp.printStats()\n",
    "\n",
    "# Vampire 2\n",
    "print(\"Vampire 2\")\n",
    "claudiaVamp = Vampire(\"Claudie\", 750, 500, 100)\n",
    "claudiaVamp.printStats()"
   ]
  },
  {
   "cell_type": "markdown",
   "id": "321f9970",
   "metadata": {},
   "source": [
    "#### Day 66 This is getting GUI\n",
    "#### 29APR24"
   ]
  },
  {
   "cell_type": "code",
   "execution_count": null,
   "id": "e0ff2bff",
   "metadata": {},
   "outputs": [],
   "source": []
  },
  {
   "cell_type": "code",
   "execution_count": null,
   "id": "d5e9c78e",
   "metadata": {},
   "outputs": [],
   "source": []
  },
  {
   "cell_type": "code",
   "execution_count": null,
   "id": "12f12021",
   "metadata": {},
   "outputs": [],
   "source": []
  },
  {
   "cell_type": "code",
   "execution_count": null,
   "id": "18082543",
   "metadata": {},
   "outputs": [],
   "source": []
  },
  {
   "cell_type": "markdown",
   "id": "f822b394",
   "metadata": {},
   "source": [
    "#### Day 67\n",
    "#### 30APR24"
   ]
  },
  {
   "cell_type": "code",
   "execution_count": null,
   "id": "a5b7be54",
   "metadata": {},
   "outputs": [],
   "source": []
  },
  {
   "cell_type": "markdown",
   "id": "fcc20be6",
   "metadata": {},
   "source": [
    "#### Day 68\n",
    "#### 30APR24"
   ]
  },
  {
   "cell_type": "code",
   "execution_count": null,
   "id": "0c942325",
   "metadata": {},
   "outputs": [],
   "source": []
  },
  {
   "cell_type": "markdown",
   "id": "c89f8a17",
   "metadata": {},
   "source": [
    "#### Day 69\n",
    "#### 1MAY24"
   ]
  },
  {
   "cell_type": "code",
   "execution_count": null,
   "id": "aacf57bc",
   "metadata": {},
   "outputs": [],
   "source": []
  },
  {
   "cell_type": "markdown",
   "id": "a40b446d",
   "metadata": {},
   "source": [
    "#### Day 70 For your Eyes Only\n",
    "#### 1MAY24"
   ]
  },
  {
   "cell_type": "code",
   "execution_count": 41,
   "id": "ff3bad2d",
   "metadata": {},
   "outputs": [
    {
     "ename": "KeyError",
     "evalue": "'password'",
     "output_type": "error",
     "traceback": [
      "\u001b[0;31m---------------------------------------------------------------------------\u001b[0m",
      "\u001b[0;31mKeyError\u001b[0m                                  Traceback (most recent call last)",
      "\u001b[0;32m/var/folders/b0/x4p60r3n3dz3lbgp1_bgg05h0000gn/T/ipykernel_4971/3917088050.py\u001b[0m in \u001b[0;36m<module>\u001b[0;34m\u001b[0m\n\u001b[1;32m      1\u001b[0m \u001b[0;32mimport\u001b[0m \u001b[0mos\u001b[0m\u001b[0;34m\u001b[0m\u001b[0;34m\u001b[0m\u001b[0m\n\u001b[1;32m      2\u001b[0m \u001b[0;34m\u001b[0m\u001b[0m\n\u001b[0;32m----> 3\u001b[0;31m \u001b[0mpassword\u001b[0m \u001b[0;34m=\u001b[0m \u001b[0mos\u001b[0m\u001b[0;34m.\u001b[0m\u001b[0menviron\u001b[0m\u001b[0;34m[\u001b[0m\u001b[0;34m'password'\u001b[0m\u001b[0;34m]\u001b[0m\u001b[0;34m\u001b[0m\u001b[0;34m\u001b[0m\u001b[0m\n\u001b[0m\u001b[1;32m      4\u001b[0m \u001b[0;34m\u001b[0m\u001b[0m\n",
      "\u001b[0;32m~/opt/anaconda3/lib/python3.9/os.py\u001b[0m in \u001b[0;36m__getitem__\u001b[0;34m(self, key)\u001b[0m\n\u001b[1;32m    677\u001b[0m         \u001b[0;32mexcept\u001b[0m \u001b[0mKeyError\u001b[0m\u001b[0;34m:\u001b[0m\u001b[0;34m\u001b[0m\u001b[0;34m\u001b[0m\u001b[0m\n\u001b[1;32m    678\u001b[0m             \u001b[0;31m# raise KeyError with the original key value\u001b[0m\u001b[0;34m\u001b[0m\u001b[0;34m\u001b[0m\u001b[0m\n\u001b[0;32m--> 679\u001b[0;31m             \u001b[0;32mraise\u001b[0m \u001b[0mKeyError\u001b[0m\u001b[0;34m(\u001b[0m\u001b[0mkey\u001b[0m\u001b[0;34m)\u001b[0m \u001b[0;32mfrom\u001b[0m \u001b[0;32mNone\u001b[0m\u001b[0;34m\u001b[0m\u001b[0;34m\u001b[0m\u001b[0m\n\u001b[0m\u001b[1;32m    680\u001b[0m         \u001b[0;32mreturn\u001b[0m \u001b[0mself\u001b[0m\u001b[0;34m.\u001b[0m\u001b[0mdecodevalue\u001b[0m\u001b[0;34m(\u001b[0m\u001b[0mvalue\u001b[0m\u001b[0;34m)\u001b[0m\u001b[0;34m\u001b[0m\u001b[0;34m\u001b[0m\u001b[0m\n\u001b[1;32m    681\u001b[0m \u001b[0;34m\u001b[0m\u001b[0m\n",
      "\u001b[0;31mKeyError\u001b[0m: 'password'"
     ]
    }
   ],
   "source": [
    "\n",
    "\n",
    "import os\n",
    "\n",
    "user = input(\"What is your username?\")\n",
    "\n",
    "password = os.environ[user] \n",
    "\n",
    "userPass = input(\"Password > \")\n",
    "\n",
    "if user == \"admin\":\n",
    "  if userPass == password:\n",
    "    print(\"🫡  Welcome Admin! 🫡\")\n",
    "  else:\n",
    "    print(\"Better luck next time\")\n",
    "else:\n",
    "  if userPass == password:\n",
    "    print(\"Login Successful...\")\n",
    "    print(\"Hello normie\")\n",
    "  else:\n",
    "    print(\"NOPE. Wrong password!\")"
   ]
  },
  {
   "cell_type": "code",
   "execution_count": null,
   "id": "fd922636",
   "metadata": {},
   "outputs": [],
   "source": []
  }
 ],
 "metadata": {
  "kernelspec": {
   "display_name": "Python 3 (ipykernel)",
   "language": "python",
   "name": "python3"
  },
  "language_info": {
   "codemirror_mode": {
    "name": "ipython",
    "version": 3
   },
   "file_extension": ".py",
   "mimetype": "text/x-python",
   "name": "python",
   "nbconvert_exporter": "python",
   "pygments_lexer": "ipython3",
   "version": "3.9.18"
  }
 },
 "nbformat": 4,
 "nbformat_minor": 5
}
