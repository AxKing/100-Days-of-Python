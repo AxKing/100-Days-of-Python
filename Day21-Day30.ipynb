{
 "cells": [
  {
   "cell_type": "markdown",
   "id": "c38f2ab5",
   "metadata": {},
   "source": [
    "### Day21 - Day 30"
   ]
  },
  {
   "cell_type": "markdown",
   "id": "fe68c789",
   "metadata": {},
   "source": [
    "#### Day 21 Throwback to Math Facts\n",
    "#### 3MAR24"
   ]
  },
  {
   "cell_type": "code",
   "execution_count": null,
   "id": "92940e36",
   "metadata": {},
   "outputs": [],
   "source": []
  },
  {
   "cell_type": "code",
   "execution_count": 2,
   "id": "67af4ab8",
   "metadata": {},
   "outputs": [],
   "source": [
    "# Notes"
   ]
  },
  {
   "cell_type": "markdown",
   "id": "7d002073",
   "metadata": {},
   "source": [
    "#### Day 22\n",
    "#### 4MAR24"
   ]
  },
  {
   "cell_type": "code",
   "execution_count": null,
   "id": "62f5e6df",
   "metadata": {},
   "outputs": [],
   "source": []
  },
  {
   "cell_type": "code",
   "execution_count": null,
   "id": "04027cce",
   "metadata": {},
   "outputs": [],
   "source": []
  },
  {
   "cell_type": "markdown",
   "id": "0ba4ff9f",
   "metadata": {},
   "source": [
    "#### Day 23\n",
    "#### 5MAR24"
   ]
  },
  {
   "cell_type": "code",
   "execution_count": null,
   "id": "50437c27",
   "metadata": {},
   "outputs": [],
   "source": []
  },
  {
   "cell_type": "code",
   "execution_count": null,
   "id": "09e39cb7",
   "metadata": {},
   "outputs": [],
   "source": []
  },
  {
   "cell_type": "markdown",
   "id": "b0f9e2bb",
   "metadata": {},
   "source": [
    "#### Day 24\n",
    "#### 6MAR24"
   ]
  },
  {
   "cell_type": "code",
   "execution_count": null,
   "id": "1a6874c4",
   "metadata": {},
   "outputs": [],
   "source": []
  },
  {
   "cell_type": "code",
   "execution_count": null,
   "id": "b31a5f46",
   "metadata": {},
   "outputs": [],
   "source": []
  },
  {
   "cell_type": "markdown",
   "id": "bee5bf79",
   "metadata": {},
   "source": [
    "#### Day 25\n",
    "#### 7MAR24"
   ]
  },
  {
   "cell_type": "code",
   "execution_count": null,
   "id": "c3bd42da",
   "metadata": {},
   "outputs": [],
   "source": []
  },
  {
   "cell_type": "code",
   "execution_count": null,
   "id": "b9a1e8d2",
   "metadata": {},
   "outputs": [],
   "source": []
  },
  {
   "cell_type": "markdown",
   "id": "4a42dcae",
   "metadata": {},
   "source": [
    "#### Day 26\n",
    "#### 8MAR24"
   ]
  },
  {
   "cell_type": "code",
   "execution_count": null,
   "id": "ef57f653",
   "metadata": {},
   "outputs": [],
   "source": []
  },
  {
   "cell_type": "markdown",
   "id": "33ff1b57",
   "metadata": {},
   "source": [
    "#### Day 27\n",
    "#### 9MAR24"
   ]
  },
  {
   "cell_type": "code",
   "execution_count": null,
   "id": "42eb3794",
   "metadata": {},
   "outputs": [],
   "source": []
  },
  {
   "cell_type": "markdown",
   "id": "c418abc7",
   "metadata": {},
   "source": [
    "#### Day 28\n",
    "#### 10MAR24"
   ]
  },
  {
   "cell_type": "code",
   "execution_count": null,
   "id": "e00291e8",
   "metadata": {},
   "outputs": [],
   "source": []
  },
  {
   "cell_type": "markdown",
   "id": "8e62e26b",
   "metadata": {},
   "source": [
    "#### Day 29\n",
    "#### 11MAR24"
   ]
  },
  {
   "cell_type": "code",
   "execution_count": null,
   "id": "3d5d7c15",
   "metadata": {},
   "outputs": [],
   "source": []
  },
  {
   "cell_type": "markdown",
   "id": "4a996519",
   "metadata": {},
   "source": [
    "#### Day 30\n",
    "#### 12MAR24"
   ]
  },
  {
   "cell_type": "code",
   "execution_count": null,
   "id": "8c0ad80b",
   "metadata": {},
   "outputs": [],
   "source": []
  }
 ],
 "metadata": {
  "kernelspec": {
   "display_name": "Python 3 (ipykernel)",
   "language": "python",
   "name": "python3"
  },
  "language_info": {
   "codemirror_mode": {
    "name": "ipython",
    "version": 3
   },
   "file_extension": ".py",
   "mimetype": "text/x-python",
   "name": "python",
   "nbconvert_exporter": "python",
   "pygments_lexer": "ipython3",
   "version": "3.9.18"
  }
 },
 "nbformat": 4,
 "nbformat_minor": 5
}
