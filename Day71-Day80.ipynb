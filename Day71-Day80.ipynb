{
 "cells": [
  {
   "cell_type": "markdown",
   "id": "51ef5d6c",
   "metadata": {},
   "source": [
    "#### Day 71 Pass the Salt\n",
    "#### 3MAY24"
   ]
  },
  {
   "cell_type": "code",
   "execution_count": 2,
   "id": "34386c11",
   "metadata": {},
   "outputs": [
    {
     "name": "stdout",
     "output_type": "stream",
     "text": [
      "baldy1\n"
     ]
    }
   ],
   "source": [
    "password = \"baldy1\"\n",
    "print(password)"
   ]
  },
  {
   "cell_type": "code",
   "execution_count": 3,
   "id": "a58c351f",
   "metadata": {},
   "outputs": [
    {
     "name": "stdout",
     "output_type": "stream",
     "text": [
      "6731232276581127571\n"
     ]
    }
   ],
   "source": [
    "password = hash(password)\n",
    "print(password)"
   ]
  },
  {
   "cell_type": "code",
   "execution_count": 5,
   "id": "7c50cb90",
   "metadata": {},
   "outputs": [
    {
     "name": "stdout",
     "output_type": "stream",
     "text": [
      "-5510487099131331587\n"
     ]
    }
   ],
   "source": [
    "password = \"Baldy1\"\n",
    "password = hash(password)\n",
    "print(password)"
   ]
  },
  {
   "cell_type": "code",
   "execution_count": 8,
   "id": "29013712",
   "metadata": {},
   "outputs": [
    {
     "name": "stdout",
     "output_type": "stream",
     "text": [
      "6288575457462478626\n",
      "Password > Baldy1\n",
      "Baldy1 10221\n",
      "Login Successful!\n"
     ]
    }
   ],
   "source": [
    "# Salt\n",
    "password = \"Baldy1\"\n",
    "salt = 10221\n",
    "newPassword = f\"{password}{salt}\"\n",
    "newPassword = hash(newPassword)\n",
    "print(newPassword)\n",
    "\n",
    "db = {}\n",
    "db[\"david\"] = {\"password\": newPassword, \"salt\" : salt}\n",
    "\n",
    "ans = input(\"Password > \")\n",
    "salt = db[\"david\"][\"salt\"]\n",
    "print(ans, salt)\n",
    "\n",
    "newPassword = f\"{ans}{salt}\"\n",
    "newPassword = hash(newPassword)\n",
    "\n",
    "if newPassword == db[\"david\"][\"password\"]:\n",
    "    print(\"Login Successful!\")\n",
    "else:\n",
    "    print(\"naw\")"
   ]
  },
  {
   "cell_type": "code",
   "execution_count": null,
   "id": "e0f36429",
   "metadata": {},
   "outputs": [],
   "source": [
    "\"\"\"\n",
    "Your program should:\n",
    "\n",
    "1. Display a menu with the ability to add a user or login.\n",
    "\n",
    "2. 'Add' user should:\n",
    "    i. Ask for a username and password.\n",
    "    ii.Create a new password and a randomly generated 4 digit salt.\n",
    "    iii. Append the salt to the password and hash it.\n",
    "    iv. Store the hash and the salt in a repl db with the username as the key.\n",
    "3. 'Login' should:\n",
    "    i. Get username and password input.\n",
    "    ii. Display a success message if details are correct.\n",
    "4. This system should work with multiple users.\n",
    "\"\"\""
   ]
  },
  {
   "cell_type": "code",
   "execution_count": null,
   "id": "57bf2e3d",
   "metadata": {},
   "outputs": [
    {
     "name": "stdout",
     "output_type": "stream",
     "text": [
      "\u001b[H\u001b[2JPassword Management System\n",
      "Please enter 'ADD' or 'LOGIN'\n",
      ":add\n",
      "Add your user name\n",
      ":tony\n",
      "\n",
      "Please enter your password\n",
      ":1234asdf\n",
      "\n",
      "    Adding user:tony\n",
      "    password: 1234asdf\n",
      "    salt value: 5317\n",
      "\u001b[H\u001b[2JPassword Management System\n",
      "Please enter 'ADD' or 'LOGIN'\n",
      ":login\n",
      "Please enter your user name\n",
      ":tony\n",
      "Please enter your password\n",
      ":1234asdf\n",
      "Login Successful\n",
      "\u001b[H\u001b[2JPassword Management System\n",
      "Please enter 'ADD' or 'LOGIN'\n"
     ]
    }
   ],
   "source": [
    "import os, time, random\n",
    "db = {}\n",
    "\n",
    "def menu():\n",
    "    os.system(\"clear\")\n",
    "    print(\"Password Management System\")\n",
    "    print(\"Please enter 'ADD' or 'LOGIN'\")\n",
    "    choice = input(\":\").lower()\n",
    "    return choice\n",
    "\n",
    "def addUser():\n",
    "    print(\"Add your user name\")\n",
    "    userName = input(\":\")\n",
    "    print()\n",
    "    print(\"Please enter your password\")\n",
    "    password = input(\":\")\n",
    "    salt = random.randint(1000,9999)\n",
    "    print(f\"\"\"\n",
    "    Adding user:{userName}\n",
    "    password: {password}\n",
    "    salt value: {salt}\"\"\")\n",
    "    newPW = hash(f\"{password}{salt}\")\n",
    "    db[userName] = {\"password\": newPW, \"salt\": salt}\n",
    "\n",
    "def login():\n",
    "    print(\"Please enter your user name\")\n",
    "    user = input(\":\")\n",
    "    print(\"Please enter your password\")\n",
    "    pw = input(\":\")\n",
    "    s = db[user][\"salt\"]\n",
    "    if hash(f\"{pw}{s}\") == db[user][\"password\"]:\n",
    "        print(\"Login Successful\")\n",
    "    else:\n",
    "        print(\"This is not a valid login!\")\n",
    "\n",
    "\n",
    "while True:\n",
    "    choice = menu()\n",
    "    if choice == \"exit\":\n",
    "        break\n",
    "    elif choice == \"add\":\n",
    "        addUser()\n",
    "    elif choice == \"login\":\n",
    "        login()\n",
    "    else:\n",
    "        print(\"I didn't understand your selection.\")\n",
    "        time.sleep(10)"
   ]
  },
  {
   "cell_type": "code",
   "execution_count": null,
   "id": "4470e13e",
   "metadata": {},
   "outputs": [],
   "source": []
  },
  {
   "cell_type": "markdown",
   "id": "2098d583",
   "metadata": {},
   "source": [
    "#### Day 72 Secret Diary Project\n",
    "#### 4MAY24"
   ]
  },
  {
   "cell_type": "code",
   "execution_count": 3,
   "id": "c2a89802",
   "metadata": {},
   "outputs": [
    {
     "name": "stdout",
     "output_type": "stream",
     "text": [
      "DEAR DIARY\n",
      "Please enter your password.\n",
      ": petty\n",
      "Unlocked\n",
      "You can ADD and entry or VIEW your last entry\n",
      "Please input your choice ADD or VIEW\n",
      ": exit\n"
     ]
    }
   ],
   "source": [
    "from replit import db\n",
    "\n",
    "import os, random, hashlib\n",
    "\n",
    "# keys = list(db.keys())\n",
    "# for key in keys:\n",
    "#   del db[key]\n",
    "\n",
    "def login():\n",
    "  print(\"Please enter your user name\")\n",
    "  user = input(\":\")\n",
    "  print(\"Please enter your password\")\n",
    "  pw = input(\":\")\n",
    "  s = db[user][\"salt\"]\n",
    "  prehashed = f\"{pw}{s}\"\n",
    "  print(prehashed)\n",
    "  # posthashed = hash(prehashed)\n",
    "  posthashed = hashlib.sha256(prehashed.encode()).hexdigest()\n",
    "\n",
    "  \n",
    "  print(posthashed)\n",
    "  if posthashed == db[user][\"password\"]:\n",
    "    print(\"Login Successful\")\n",
    "  else:\n",
    "    print(\"Login Failed\")\n",
    "\n",
    "def createUser():\n",
    "  print(\"Add your user name\")\n",
    "  userName = input(\":\")\n",
    "  print(\"Please enter your password\")\n",
    "  password = input(\":\")\n",
    "  salt = random.randint(1000,9999)\n",
    "  print(f\"\"\"\n",
    "  Adding user: {userName}\n",
    "  password: {password}\n",
    "  salt value: {salt}\"\"\")\n",
    "  prehash = f\"{password}{salt}\"\n",
    "  print(\"prehash password\", prehash)\n",
    "  newPW = hash(prehash)\n",
    "  newPW = hashlib.sha256(prehash.encode()).hexdigest()\n",
    "  \n",
    "  print(\"posthash password\", newPW)\n",
    "  db[userName] = {\"password\": newPW, \"salt\": salt}\n",
    "  print(db[userName])\n",
    "\n",
    "\n",
    "\n",
    "\n",
    "if len(list(db.keys())) == 0:\n",
    "  createUser()\n",
    "else:\n",
    "  login()"
   ]
  },
  {
   "cell_type": "code",
   "execution_count": null,
   "id": "625b2fec",
   "metadata": {},
   "outputs": [],
   "source": []
  },
  {
   "cell_type": "markdown",
   "id": "1c7064ed",
   "metadata": {},
   "source": [
    "#### Day 73 HTML Crash Course\n",
    "#### 6MAY24"
   ]
  },
  {
   "cell_type": "code",
   "execution_count": null,
   "id": "510b2abe",
   "metadata": {},
   "outputs": [],
   "source": [
    "<html>\n",
    "<head>\n",
    "    <title>Project Portfolio Tab</title>\n",
    "</head>\n",
    "\n",
    "  <body>\n",
    "<h1> Tony's Favorite Ladies of Marvel</h1>\n",
    "<ol>\n",
    "  <li>\n",
    "    <h2>White Queen</h2>\n",
    "    <h3>Emma Frost</h3>\n",
    "    <p>Emma Grace Frost is a character appearing in American comic books published by Marvel Comics. Created by writer Chris Claremont and artist/co-writer John Byrne, the character first appeared in The Uncanny X-Men #129. She belongs to a subspecies of humans called mutants who are born with superhuman abilities.</p>\n",
    "    <p><a href=\"https://en.wikipedia.org/wiki/Emma_Frost\"><img src=\"images/emmafrost.jpg\" width =15%> </a> </p>\n",
    "  </li>\n",
    "  \n",
    "  <li>\n",
    "  <h2>Rogue</h2>\n",
    "    <h3>Anna Marie</h3>\n",
    "<p>Rogue is a character appearing in American comic books published by Marvel Comics, commonly in association with the X-Men. Created by Chris Claremont and Michael Golden, she first appeared in Avengers Annual #10.</p>\n",
    "<p><a= href=\"https://en.wikipedia.org/wiki/Rogue_(Marvel_Comics)\"> \n",
    "  <img src=\"images/Rogue.jpeg\" width=30%> </a> </p>\n",
    "  </li>\n",
    "\n",
    "  <li>\n",
    "    <h2>X-23</h2\n",
    "    <h3>Laura Kinney</h3>\n",
    "  <p>X-23 is a fictional superheroine appearing in American comic books published by Marvel Comics. The character also appears in media from Marvel Entertainment, commonly in association with the X-Men.</p>\n",
    "  <p><a= href=\"https://en.wikipedia.org/wiki/X-23\"> \n",
    "    <img src=\"images/x23.png\" width=20%> </a> </p>\n",
    "    </li>\n",
    "\n",
    "  <li>\n",
    "    <h2>Scarlet Witch</h2>\n",
    "    <h3>Wanda Maximoff</h3>\n",
    "  <p>The Scarlet Witch is a character appearing in American comic books published by Marvel Comics. Created by writer Stan Lee and artist Jack Kirby, the character first appeared in The X-Men #4 in the Silver Age of Comic Books.</p>\n",
    "  <p><a= href=\"https://en.wikipedia.org/wiki/Scarlet_Witch\"> \n",
    "    <img src=\"images/wanda.jpeg\" width=30%> </a> </p>\n",
    "    </li>\n",
    "\n",
    "  <li>\n",
    "    <h2>Phoenix</h2>\n",
    "    <h3>Jean Grey</h3>\n",
    "  <p>Jean Elaine Grey is a character appearing in American comic books published by Marvel Comics. Created by writer Stan Lee and artist/co-plotter Jack Kirby, the character first appeared in The X-Men #1. Jean Grey is a member of a subspecies of humans known as mutants who are born with superhuman abilities.</p>\n",
    "  <p><a= href=\"https://en.wikipedia.org/wiki/Jean_Grey\"> \n",
    "    <img src=\"images/phoenix.jpeg\" width=30%> </a> </p>\n",
    "    </li>\n",
    "\n",
    "\n",
    "  \n",
    "</ol>\n",
    "    \n",
    "  </body>\n",
    "  </html>\n",
    "\n",
    "<!--\n",
    "  Each of the days you are going to showcase should have:\n",
    "  A second level heading\n",
    "  A paragraph of explainer text.\n",
    "  An image of each of your repls\n",
    "  Each image should be directly linked to the repl.\n",
    "-->"
   ]
  },
  {
   "cell_type": "markdown",
   "id": "5573cb0f",
   "metadata": {},
   "source": [
    "#### Day 74 CSS sheet\n",
    "#### 7MAY24"
   ]
  },
  {
   "cell_type": "code",
   "execution_count": null,
   "id": "deca4f92",
   "metadata": {},
   "outputs": [],
   "source": [
    "# Add this to the html file\n",
    "  <link href=\"style.css\" rel=\"stylesheet\" type=\"text/css\" />"
   ]
  },
  {
   "cell_type": "code",
   "execution_count": null,
   "id": "a20f5ca1",
   "metadata": {},
   "outputs": [],
   "source": [
    "html,\n",
    "body {\n",
    "  height: 100%;\n",
    "  width: 100%;\n",
    "    background-color: black;\n",
    "}\n",
    "\n",
    "h1, h2, h3 {font-family:sans-serif;\n",
    "   font-size: 24px;\n",
    "   color: lightcyan;\n",
    "   background-color: fuchsia;\n",
    "   text-align: center;}\n",
    "\n",
    "h2 {font-size: 16px;\n",
    "   color: white;}\n",
    "\n",
    "h3 {font-size: 14px;}\n",
    "\n",
    "\n",
    "p {font-family: monospace;\n",
    "  font-size: 12px;\n",
    "  color: white;\n",
    "  background-color: fuchsia;\n",
    "  text-align: center;}\n",
    "\n",
    "img {\n",
    "  display: block;\n",
    "  margin-left: auto;\n",
    "  margin-right: auto;\n",
    "  width: 50%;\n",
    "}\n",
    "\n",
    ".blurb {\n",
    "  font-style: italic;\n",
    "  font-weight: bold;\n",
    "}"
   ]
  },
  {
   "cell_type": "markdown",
   "id": "48c89ab0",
   "metadata": {},
   "source": [
    "#### Day 75 Flask\n",
    "#### 9MAY24"
   ]
  },
  {
   "cell_type": "code",
   "execution_count": null,
   "id": "8af2fe07",
   "metadata": {},
   "outputs": [],
   "source": []
  },
  {
   "cell_type": "code",
   "execution_count": null,
   "id": "76717503",
   "metadata": {},
   "outputs": [],
   "source": []
  },
  {
   "cell_type": "code",
   "execution_count": null,
   "id": "060020a0",
   "metadata": {},
   "outputs": [],
   "source": []
  },
  {
   "cell_type": "code",
   "execution_count": null,
   "id": "5da2a265",
   "metadata": {},
   "outputs": [],
   "source": []
  }
 ],
 "metadata": {
  "kernelspec": {
   "display_name": "Python 3 (ipykernel)",
   "language": "python",
   "name": "python3"
  },
  "language_info": {
   "codemirror_mode": {
    "name": "ipython",
    "version": 3
   },
   "file_extension": ".py",
   "mimetype": "text/x-python",
   "name": "python",
   "nbconvert_exporter": "python",
   "pygments_lexer": "ipython3",
   "version": "3.9.12"
  }
 },
 "nbformat": 4,
 "nbformat_minor": 5
}
