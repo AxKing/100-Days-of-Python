{
 "cells": [
  {
   "cell_type": "markdown",
   "id": "871077fc",
   "metadata": {},
   "source": [
    "#### Day 51 Saving and Loading data\n",
    "#### 1APR24"
   ]
  },
  {
   "cell_type": "code",
   "execution_count": null,
   "id": "3f551b3c",
   "metadata": {},
   "outputs": [],
   "source": [
    "myEvents = []\n",
    "\n",
    "def prettyPrint():\n",
    "    print()\n",
    "    for row in myEvents:\n",
    "        print(f\"{row[0] :^15} {row[1] :^15}\")\n",
    "    print()\n",
    "\n",
    "while True:\n",
    "    menu = input(\"1: Add, 2: Remove\\n\")\n",
    "\n",
    "    if menu == \"1\":\n",
    "        event = input(\"What event?: \").capitalize()\n",
    "        date = input(\"What date?: \")\n",
    "        row = [event,date]\n",
    "        myEvents.append(row)\n",
    "        prettyPrint()\n",
    "\n",
    "    else:\n",
    "        criteria = input(\"What event do you want to remove?: \").title()\n",
    "        for row in myEvents:\n",
    "            if criteria in row:\n",
    "                myEvents.remove(row)"
   ]
  },
  {
   "cell_type": "code",
   "execution_count": null,
   "id": "bbd80d0b",
   "metadata": {},
   "outputs": [],
   "source": [
    "myEvents = []\n",
    "\n",
    "f = open(\"calendar.txt\", \"r\")\n",
    "myEvents = eval(f.read())\n",
    "f.close()\n",
    "\n",
    "def prettyPrint():\n",
    "    print()\n",
    "    for row in myEvents:\n",
    "        print(f\"{row[0] :^15} {row[1] :^15}\")\n",
    "    print()\n",
    "\n",
    "while True:\n",
    "    menu = input(\"1: Add, 2: Remove\\n\")\n",
    "\n",
    "    if menu == \"1\":\n",
    "        event = input(\"What event?: \").capitalize()\n",
    "        date = input(\"What date?: \")\n",
    "        row = [event,date]\n",
    "        myEvents.append(row)\n",
    "        prettyPrint()\n",
    "    elif menu == \"exit\":\n",
    "        break\n",
    "\n",
    "    else:\n",
    "        criteria = input(\"What event do you want to remove?: \").title()\n",
    "        for row in myEvents:\n",
    "            if criteria in row:\n",
    "                myEvents.remove(row)\n",
    "\n",
    "  ########### THIS IS THE NEW BIT ########\n",
    "    f = open(\"calendar.txt\", \"w\") # Permissions set to 'w' because we are deleting the file and replacing it with the whole 2D list every time.\n",
    "    f.write(str(myEvents)) # Need to cast the list to a single string\n",
    "    f.close()\n",
    "  #########################################"
   ]
  },
  {
   "cell_type": "code",
   "execution_count": null,
   "id": "253cb620",
   "metadata": {},
   "outputs": [],
   "source": [
    "myEvents = []\n",
    "\n",
    "f = open(\"calendar.txt\",\"r\")\n",
    "myEvents = eval(f.read())\n",
    "f.close()\n",
    "\n",
    "def prettyPrint():\n",
    "    print()\n",
    "    for row in myEvents:\n",
    "        print(f\"{row[0] :^15} {row[1] :^15}\")\n",
    "    print()\n",
    "\n",
    "while True:\n",
    "    menu = input(\"1: Add, 2: Remove\\n\")\n",
    "    if menu == \"1\":\n",
    "        event = input(\"What event?: \").capitalize()\n",
    "        date = input(\"What date?: \")\n",
    "        row = [event,date]\n",
    "        myEvents.append(row)\n",
    "        prettyPrint()\n",
    "    elif menu == \"exit\":\n",
    "        break\n",
    "    else:\n",
    "        criteria = input(\"What event do you want to remove?: \").title()\n",
    "        for row in myEvents:\n",
    "            if criteria in row:\n",
    "                myevents.remove(row)\n",
    "\n",
    "  \n",
    "    f = open(\"calendar.txt\", \"w\") \n",
    "    f.write(str(myEvents)) \n",
    "    f.close()"
   ]
  },
  {
   "cell_type": "code",
   "execution_count": null,
   "id": "2f585576",
   "metadata": {},
   "outputs": [],
   "source": [
    "# Daily Challenge\n",
    "# Go back to day 35.\n",
    "# Add autosave and autoload code\n",
    "# \n",
    "\n",
    "\n",
    "toDoList = []\n",
    "f = open(\"ToDo.txt\",\"r\")\n",
    "toDoList = eval(f.read())\n",
    "f.close()\n",
    "    \n",
    "    \n",
    "def menu():\n",
    "    import os\n",
    "    print(\"To Do List\")\n",
    "    print(\"You can \\033[1;34mview\\033[0m, \\033[1;31madd\\033[0m or \\033[1;34medit\\033[0m the list...\")\n",
    "    print(\"enter anything else to exit.\")\n",
    "    choice = input(\": \")\n",
    "    os.system(\"clear\")\n",
    "    return choice\n",
    "\n",
    "def printList():\n",
    "    print()\n",
    "    for item in toDoList:\n",
    "        print(item)\n",
    "    print()\n",
    "    \n",
    "import time\n",
    "\n",
    "while True:\n",
    "    menuChoice = menu()\n",
    "    if menuChoice == \"view\":\n",
    "        printList()\n",
    "        time.sleep(5)\n",
    "    elif menuChoice == \"add\":\n",
    "        item = input(\"What task should I add to the list? :\")\n",
    "        toDoList.append(item)\n",
    "        printList()\n",
    "    elif menuChoice == \"edit\":\n",
    "        printList()\n",
    "        item = input(\"What task have you completed? :\")\n",
    "        if item in toDoList:\n",
    "            toDoList.remove(item)\n",
    "        else:\n",
    "            print(f\"\\033[1;31m{item}\\033[0m is not on the list.\")\n",
    "    else:\n",
    "        break\n",
    "    f = open(\"ToDo.txt\", \"w\")\n",
    "    f.write(str(toDoList)) \n",
    "    f.close()"
   ]
  },
  {
   "cell_type": "markdown",
   "id": "58c39451",
   "metadata": {},
   "source": [
    "#### Day 52 Exception Handling\n",
    "#### 2APR24"
   ]
  },
  {
   "cell_type": "code",
   "execution_count": null,
   "id": "a2ae8626",
   "metadata": {},
   "outputs": [],
   "source": [
    "myStuff = []\n",
    "try:  \n",
    "    f = open(\"Stuff.mine\",\"r\")\n",
    "    myStuff = eval(f.read())\n",
    "    f.close()\n",
    "except Exception as err:\n",
    "    print(err)\n",
    "    \n",
    "for row in myStuff:\n",
    "    print(row)"
   ]
  },
  {
   "cell_type": "code",
   "execution_count": null,
   "id": "f0897036",
   "metadata": {},
   "outputs": [],
   "source": [
    "# Write a program\n",
    "# number of pizzas\n",
    "# size of pizzas\n",
    "orders = []\n",
    "sizeCost= {'s': 9.99, 'm':12.99, 'l': 14.99}\n",
    "\n",
    "try:\n",
    "    f.open(orders.txt, \"r\")\n",
    "    orders = eval(f.read)\n",
    "    f.close()\n",
    "except:\n",
    "    print(\"There are no orders yet... \")\n",
    "    \n",
    "print(\"🍕 Tony's Pizza Place 🍕\")\n",
    "name = input(\"Can I get a name for the order? \")\n",
    "\n",
    "quantity = 'zero'\n",
    "\n",
    "while type(quantity) != type(17):\n",
    "    try:\n",
    "        quantity = input(\"How many pies would you like? \")\n",
    "        quantity = int(quantity)\n",
    "    except:\n",
    "        print(\"I don't understand the quantity.\")\n",
    "\n",
    "    \n",
    "topping = input(\"What would like on them? \")\n",
    "\n",
    "\n",
    "size = \"Tony\"\n",
    "while size not in list(sizeCost.keys()):\n",
    "    try:\n",
    "        size = input(\"What size (s,m,l) pizza would you like?\")\n",
    "        cost = round(quantity * sizeCost[size], 2)\n",
    "    except:\n",
    "        print(\"I didn't understand what size you wanted.\")\n",
    "        print(\"Please input s, m or l\")\n",
    "\n",
    "\n",
    "print(f\"Alright, I have your order. {quantity} pies with {topping}.\")\n",
    "print(f\"That will be {cost}\")\n",
    "\n",
    "orders.append([name, cost])\n",
    "\n",
    "try:\n",
    "    f = open(\"orders.txt\", \"a+\")\n",
    "    f.write(f\"{orders}\")\n",
    "    f.close()\n",
    "except:\n",
    "    print(\"Cannot write to file.\")"
   ]
  },
  {
   "cell_type": "code",
   "execution_count": null,
   "id": "8224e2c0",
   "metadata": {},
   "outputs": [],
   "source": [
    "\"\"\"\n",
    "Prompt the user to input the quantity and size of pizzas.\n",
    "Multiply the two inputs together to calculate the cost of the pizzas.\n",
    "Store that in a 2D list with the user's name.\n",
    "Use try.... except for two reasons:\n",
    "Include auto-save and auto-load. Use it with the auto-load.\n",
    "When casting the quantity of pizzas to an integer. Avoid the user crashing the program by typing 'three' instead of '3'. Or any other non-integer input. If they do, then prompt them to try again.\n",
    "\n",
    "Example:\n",
    "🌟Dave's Dodgy Pizzas🌟\n",
    "How many pizzas? > three\n",
    "You must input a numerical character, try again. > 3\n",
    "What size? > XXXXXX\n",
    "Name please > David\n",
    "Thanks David, your pizzas will cost XXXXX\n",
    "\"\"\"\n",
    "\n"
   ]
  },
  {
   "cell_type": "markdown",
   "id": "29fd1856",
   "metadata": {},
   "source": [
    "#### Day 53 A Video Game Inventory\n",
    "#### 3APR24"
   ]
  },
  {
   "cell_type": "code",
   "execution_count": null,
   "id": "ec1b54ae",
   "metadata": {},
   "outputs": [],
   "source": [
    "import os, time\n",
    "\n",
    "\n",
    "inventory = [\"Mana potion\", \"Healing potion\", \"Long sword\",\"Mana potion\", \"Healing potion\", \"Mana potion\"]\n",
    "\n",
    "try:\n",
    "    f = open(\"inventory.txt\", \"r\")\n",
    "    inventory = eval(f.read())\n",
    "    f.close()\n",
    "    print(\"Successfully opened the file.\")\n",
    "except:\n",
    "    print(\"There is no inventory file yet...\")\n",
    "    \n",
    "def menu():\n",
    "    os.system(\"clear\")\n",
    "    print(\"Inventory Menu: \")\n",
    "    print(\"To view the inventory, enter: v\")\n",
    "    print(\"To add to the inventory, enter a\")\n",
    "    print(\"To remove something from the inventory, enter r\")\n",
    "    choice = input(\": \")\n",
    "    return choice\n",
    "\n",
    "def viewInventory(inventory):\n",
    "    os.system(\"clear\")\n",
    "    setInventory = set(inventory)\n",
    "    for item in setInventory:\n",
    "        print(f\"You have {inventory.count(item)} {item}s in your inventory\")\n",
    "    time.sleep(5)\n",
    "\n",
    "def addInventory(inventory):\n",
    "    os.system(\"clear\")\n",
    "    print(\"What would you like to add to the inventory?\")\n",
    "    inputString = input(\": \").capitalize()\n",
    "    inventory.append(inputString)\n",
    "    print(f\"I have added {inputString} to the inventory\")\n",
    "    time.sleep(5)\n",
    "    return inventory\n",
    "\n",
    "def removeInventory(inventory):\n",
    "    os.system(\"clear\")\n",
    "    print(\"What item would you like to remove? \")\n",
    "    removeItem = input(\": \").capitalize()\n",
    "    if removeItem not in inventory:\n",
    "        print(f\"You don't have a {removeItem} to remove.\")\n",
    "        print(\"Back to the menu for you! \")\n",
    "    else:\n",
    "        inventory.remove(removeItem)\n",
    "        print(f\"I have removed {removeItem}.\")\n",
    "    time.sleep(5)\n",
    "    return inventory\n",
    "\n",
    "\n",
    "while True:\n",
    "    choice = menu()\n",
    "    print(f\"You have chosen {choice}.\")\n",
    "    if choice == \"exit\":\n",
    "        print(\"You are the weakest link...\")\n",
    "        print(\"GOODBYE!\")\n",
    "        time.sleep(5)\n",
    "        break\n",
    "    elif choice == 'v':\n",
    "        viewInventory(inventory)\n",
    "    elif choice == 'a':\n",
    "        inventory = addInventory(inventory)\n",
    "    elif choice == 'r':\n",
    "        inventory = removeInventory(inventory)\n",
    "        \n",
    "    try:\n",
    "        f = open(\"inventory.txt\", \"w\")\n",
    "        f.write(str(inventory))\n",
    "        f.close()\n",
    "        print(\"inventory updated\")\n",
    "    except Exception as e:\n",
    "        print(\"Cannot write to file.\")\n",
    "        raise e"
   ]
  },
  {
   "cell_type": "code",
   "execution_count": null,
   "id": "6a405580",
   "metadata": {},
   "outputs": [],
   "source": []
  },
  {
   "cell_type": "markdown",
   "id": "0b3fb110",
   "metadata": {},
   "source": [
    "#### Day 54 CSV Files\n",
    "#### 4APR24"
   ]
  },
  {
   "cell_type": "code",
   "execution_count": null,
   "id": "80f38627",
   "metadata": {},
   "outputs": [],
   "source": [
    "import csv # Imports the csv library\n",
    "\n",
    "with open(\"January.csv\") as file: # Opens the csv file\n",
    "    reader = csv.reader(file) # reads the contents of the csv file into the 'reader' variable\n",
    "    line = 0\n",
    "\n",
    "    for row in reader: # loop to output each row in the 'reader' variable one at a time.\n",
    "    print (row)"
   ]
  },
  {
   "cell_type": "code",
   "execution_count": null,
   "id": "29399b11",
   "metadata": {},
   "outputs": [],
   "source": [
    "import csv \n",
    "\n",
    "with open(\"January.csv\") as file: \n",
    "    reader = csv.reader(file) \n",
    "    line = 0\n",
    "\n",
    "    for row in reader: \n",
    "        print (\", \".join(row)) # adds a comma and space and then joins data, you could try joining with tabs too with `\\t`"
   ]
  },
  {
   "cell_type": "code",
   "execution_count": null,
   "id": "446959d0",
   "metadata": {},
   "outputs": [],
   "source": [
    "import csv # Imports the csv library\n",
    "\n",
    "with open(\"January.csv\") as file: \n",
    "    reader = csv.DictReader(file) # Treats the file as a dictionary \n",
    "    line = 0\n",
    "    for row in reader: \n",
    "        print (row[\"Net Total\"])"
   ]
  },
  {
   "cell_type": "code",
   "execution_count": null,
   "id": "6784ec4e",
   "metadata": {},
   "outputs": [],
   "source": [
    "import csv # Imports the csv library\n",
    "total = 0.0\n",
    "\n",
    "with open(\"Day54Totals.csv\") as file:\n",
    "    reader = csv.DictReader(file) \n",
    "\n",
    "    for row in reader: \n",
    "    # print (row)\n",
    "        total += float(row[\"Cost\"]) * int(row['Quantity'])\n",
    "total = round(total, 2)\n",
    "print(f\"Your shop took {total} pounds today.\")"
   ]
  },
  {
   "cell_type": "code",
   "execution_count": null,
   "id": "917e5c80",
   "metadata": {},
   "outputs": [],
   "source": []
  },
  {
   "cell_type": "markdown",
   "id": "c122ebf0",
   "metadata": {},
   "source": [
    "#### Day 55 Back the 'f' up\n",
    "#### 5APR24"
   ]
  },
  {
   "cell_type": "code",
   "execution_count": null,
   "id": "dba5475b",
   "metadata": {},
   "outputs": [],
   "source": [
    "import os\n",
    "\n",
    "print(os.listdir())"
   ]
  },
  {
   "cell_type": "code",
   "execution_count": null,
   "id": "7ae1fa00",
   "metadata": {},
   "outputs": [],
   "source": [
    "import os\n",
    "\n",
    "print(os.listdir()) # Lists all the files in the current directory. Useful for checking that a file is in the folder we think it is.\n",
    "\n",
    "files = os.listdir()\n",
    "if \"quickSave.txt\" not in files:\n",
    "    print(\"Error: Quick Save not found.\")\n",
    "#Checks if a file is in a directory and outputs an error if not."
   ]
  },
  {
   "cell_type": "code",
   "execution_count": null,
   "id": "5dae35a8",
   "metadata": {},
   "outputs": [],
   "source": [
    "# Make a directory\n",
    "os.mkdir(\"Hello\") "
   ]
  },
  {
   "cell_type": "code",
   "execution_count": null,
   "id": "8d0fcaf0",
   "metadata": {},
   "outputs": [],
   "source": [
    "# Rename a directory, (\"file name\", \"what you change it to\")\n",
    "os.rename(\"savedFoal.txt\", \"Oops.txt\")"
   ]
  },
  {
   "cell_type": "code",
   "execution_count": null,
   "id": "780661ee",
   "metadata": {},
   "outputs": [],
   "source": [
    "import os\n",
    "\n",
    "filename = os.path.join(\"Hello/\", \"newFile.txt\")\n",
    "\n",
    "f = open(filename, \"w\")\n",
    "f.write(\"Hi\")\n",
    "f.close()\n"
   ]
  },
  {
   "cell_type": "code",
   "execution_count": null,
   "id": "a29f59d2",
   "metadata": {},
   "outputs": [],
   "source": [
    "# Challenge\n",
    "import os\n",
    "\n",
    "toDoList = []\n",
    "f = open(\"ToDo.txt\",\"r\")\n",
    "toDoList = eval(f.read())\n",
    "f.close()\n",
    "    \n",
    "    \n",
    "def menu():\n",
    "    import os\n",
    "    print(\"To Do List\")\n",
    "    print(\"You can \\033[1;34mview\\033[0m, \\033[1;31madd\\033[0m or \\033[1;34medit\\033[0m the list...\")\n",
    "    print(\"enter anything else to exit.\")\n",
    "    choice = input(\": \")\n",
    "    os.system(\"clear\")\n",
    "    return choice\n",
    "\n",
    "def printList():\n",
    "    print()\n",
    "    for item in toDoList:\n",
    "        print(item)\n",
    "    print()\n",
    "\n",
    "def backup(backupName):\n",
    "    try:\n",
    "        os.mkdir(\"backUpFiles\")\n",
    "    except Exception as e:\n",
    "        print(\"Cannot write to file.\")\n",
    "        print(Exception)\n",
    "    filename = os.path.join(\"backUpFiles/\", backupName)\n",
    "    f = open(filename, \"w\")\n",
    "    f.write(str(toDoList))\n",
    "    print(\"Updated Backup file\")\n",
    "    f.close()\n",
    "\n",
    "\n",
    "import time\n",
    "\n",
    "while True:\n",
    "    menuChoice = menu()\n",
    "    if menuChoice == \"view\":\n",
    "        printList()\n",
    "        time.sleep(5)\n",
    "    elif menuChoice == \"add\":\n",
    "        item = input(\"What task should I add to the list? :\")\n",
    "        toDoList.append(item)\n",
    "        printList()\n",
    "    elif menuChoice == \"edit\":\n",
    "        printList()\n",
    "        item = input(\"What task have you completed? :\")\n",
    "        if item in toDoList:\n",
    "            toDoList.remove(item)\n",
    "        else:\n",
    "            print(f\"\\033[1;31m{item}\\033[0m is not on the list.\")\n",
    "    else:\n",
    "        break\n",
    "    backup(\"ToDoBackup.txt\")\n",
    "    f = open(\"ToDo.txt\", \"w\")\n",
    "    f.write(str(toDoList))\n",
    "    f.close()"
   ]
  },
  {
   "cell_type": "markdown",
   "id": "8fdd57a1",
   "metadata": {},
   "source": [
    "#### Day 56 MP3 Player\n",
    "#### 6APR24"
   ]
  },
  {
   "cell_type": "code",
   "execution_count": null,
   "id": "b066ffd9",
   "metadata": {},
   "outputs": [],
   "source": [
    "\"\"\"Read in the data.\n",
    "Categorize the songs by artist, like this:\n",
    "Create one empty folder per artist.\n",
    "Create one blank text file per song by that artist in the relevant folder. The file name of the text file should be the name of the song.\"\"\"\n",
    "\n",
    "import csv, os # Imports the csv library\n",
    "\n",
    "with open(\"100MostStreamedSongs.csv\") as file:\n",
    "    reader = csv.DictReader(file) \n",
    "\n",
    "    for row in reader: \n",
    "    artist = row['Artist(s)']+ '/'\n",
    "    song = row['Song']\n",
    "    filename = os.path.join(artist, song)\n",
    "    filename = filename + \".txt\"\n",
    "    try:\n",
    "        os.mkdir(row['Artist(s)'])\n",
    "    except:\n",
    "        print(\"folder already exists\")\n",
    "    try:\n",
    "        with open(filename, \"w\") as file:\n",
    "            file.write(row['Song'])\n",
    "    except Exception as e:\n",
    "        print(f\"An error occurred: {e}\")"
   ]
  },
  {
   "cell_type": "markdown",
   "id": "3dde131f",
   "metadata": {},
   "source": [
    "#### Day 57 Recursion\n",
    "#### 7APR24"
   ]
  },
  {
   "cell_type": "code",
   "execution_count": null,
   "id": "309ca722",
   "metadata": {},
   "outputs": [],
   "source": [
    "def reverse(value):\n",
    "    if value <= 0:\n",
    "        print(\"Done!\")\n",
    "    else:\n",
    "        for i in range(value):\n",
    "            print(\"💯\", end=\"\")\n",
    "        print()\n",
    "        reverse(value - 1)\n",
    "reverse(5)"
   ]
  },
  {
   "cell_type": "code",
   "execution_count": null,
   "id": "68bc8963",
   "metadata": {},
   "outputs": [],
   "source": [
    "def factorial(n):\n",
    "    if n == 1:\n",
    "        return 1\n",
    "    else:\n",
    "        return n * factorial(n-1)\n",
    "factorial(5)"
   ]
  },
  {
   "cell_type": "markdown",
   "id": "9139098f",
   "metadata": {},
   "source": [
    "#### Day 58 Debugger\n",
    "#### 8APR24"
   ]
  },
  {
   "cell_type": "code",
   "execution_count": null,
   "id": "e8d65f69",
   "metadata": {},
   "outputs": [],
   "source": [
    "import random\n",
    "\n",
    "totalAttempts = 0\n",
    "\n",
    "def game():\n",
    "    attempts = 1\n",
    "    number = random.randint(1,100)\n",
    "    print(number)\n",
    "    while True:\n",
    "        guess = int(input(\"Pick a number between 1 and 100: \"))\n",
    "        if guess > number:\n",
    "            print(\"Too high\")\n",
    "            attempts+=1\n",
    "        elif guess < number:\n",
    "            print(\"Too low\")\n",
    "            attempts+=1\n",
    "        else:\n",
    "            print(\"Just right!\")\n",
    "            print(f\"{attempts} attempts this round\")\n",
    "            return attempts\n",
    "\n",
    "while True:\n",
    "    menu = input(\"1: Guess the random number game\\n2: Total Score\\n3: Exit\\n> \")\n",
    "    if menu == \"1\":\n",
    "        totalAttempts+= game()\n",
    "    elif menu == \"2\":\n",
    "        print(f\"You've had {totalAttempts} attempts\")\n",
    "    else:\n",
    "        break"
   ]
  },
  {
   "cell_type": "markdown",
   "id": "2454feb2",
   "metadata": {},
   "source": [
    "#### Day 59 Palindrome\n",
    "#### 9APR24"
   ]
  },
  {
   "cell_type": "code",
   "execution_count": 3,
   "id": "35f1de8c",
   "metadata": {},
   "outputs": [
    {
     "name": "stdout",
     "output_type": "stream",
     "text": [
      "True\n",
      "False\n"
     ]
    }
   ],
   "source": [
    "wordIn = input(\"Please input a word.\")\n",
    "word = wordIn.lower()\n",
    "\n",
    "def palindrome(word):\n",
    "    if len(word) <= 1:\n",
    "        return True\n",
    "    else:\n",
    "        if word[0] == word[-1]:\n",
    "            palindrome(word[1:len(word)- 1])\n",
    "#             if palindrome(word[1:len(word)- 1]):\n",
    "#                 return True\n",
    "        if word[0] != word[-1]:\n",
    "            return False\n",
    "\n",
    "print(palindrome(\"racecar\"))\n",
    "print(palindrome(\"yams\"))\n",
    "\n",
    "if palindrome(word):\n",
    "    print(f\"{wordIn} IS a palindrome.\")\n",
    "else:\n",
    "    print(f\"{wordIn} IS not a palindrome.\")"
   ]
  },
  {
   "cell_type": "markdown",
   "id": "8252a2e9",
   "metadata": {},
   "source": [
    "#### Day 60 time is on my side\n",
    "#### 10APR24"
   ]
  },
  {
   "cell_type": "code",
   "execution_count": 5,
   "id": "fd70577c",
   "metadata": {},
   "outputs": [
    {
     "name": "stdout",
     "output_type": "stream",
     "text": [
      "2022-12-07\n"
     ]
    }
   ],
   "source": [
    "import datetime\n",
    "\n",
    "myDate = datetime.date(year=2022, month=12, day= 7)\n",
    "print(myDate)"
   ]
  },
  {
   "cell_type": "code",
   "execution_count": 13,
   "id": "9408be84",
   "metadata": {},
   "outputs": [
    {
     "name": "stdout",
     "output_type": "stream",
     "text": [
      "1981-07-18 1995-03-20\n"
     ]
    }
   ],
   "source": [
    "tonyBirfday = datetime.date(year=1981, month=7, day=18)\n",
    "kayleeBirfday = datetime.date(year=1995, month=3, day=20)\n",
    "print(tonyBirfday, kayleeBirfday)"
   ]
  },
  {
   "cell_type": "code",
   "execution_count": 14,
   "id": "8880c2b5",
   "metadata": {},
   "outputs": [
    {
     "data": {
      "text/plain": [
       "datetime.timedelta(days=4993)"
      ]
     },
     "execution_count": 14,
     "metadata": {},
     "output_type": "execute_result"
    }
   ],
   "source": [
    "kayleeBirfday - tonyBirfday"
   ]
  },
  {
   "cell_type": "code",
   "execution_count": 15,
   "id": "46f5bde5",
   "metadata": {},
   "outputs": [
    {
     "name": "stdout",
     "output_type": "stream",
     "text": [
      "2024-04-26\n"
     ]
    }
   ],
   "source": [
    "today = datetime.date.today()\n",
    "print(today)"
   ]
  },
  {
   "cell_type": "code",
   "execution_count": 16,
   "id": "03d6ce41",
   "metadata": {},
   "outputs": [
    {
     "name": "stdout",
     "output_type": "stream",
     "text": [
      "Day: 7\n",
      "Month: 8\n",
      "Year: 2023\n"
     ]
    }
   ],
   "source": [
    "# Getting a date from a user\n",
    "day = int(input(\"Day: \"))\n",
    "month = int(input(\"Month: \"))\n",
    "year = int(input(\"Year: \"))\n",
    "\n",
    "userDate = datetime.date(year = year, month = month, day = day)"
   ]
  },
  {
   "cell_type": "code",
   "execution_count": 27,
   "id": "30b021d3",
   "metadata": {},
   "outputs": [
    {
     "name": "stdout",
     "output_type": "stream",
     "text": [
      "2023 8 7\n"
     ]
    }
   ],
   "source": [
    "print(userDate.year,\n",
    "userDate.month,\n",
    "userDate.day)"
   ]
  },
  {
   "cell_type": "code",
   "execution_count": 29,
   "id": "ce40a9dc",
   "metadata": {},
   "outputs": [
    {
     "name": "stdout",
     "output_type": "stream",
     "text": [
      "2025-04-26\n"
     ]
    }
   ],
   "source": [
    "import datetime\n",
    "\n",
    "today = datetime.date.today()\n",
    "difference = datetime.timedelta(days = 365)\n",
    "\n",
    "newDate = today + difference\n",
    "print(newDate)"
   ]
  },
  {
   "cell_type": "code",
   "execution_count": 32,
   "id": "1a7db582",
   "metadata": {},
   "outputs": [
    {
     "name": "stdout",
     "output_type": "stream",
     "text": [
      "Hope you enjoyed it.\n"
     ]
    }
   ],
   "source": [
    "import datetime\n",
    "\n",
    "today = datetime.date.today()\n",
    "\n",
    "holiday = datetime.date(year=2023, month=4, day=26)\n",
    "\n",
    "if holiday > today:\n",
    "    print(\"Coming soon...\")\n",
    "elif holiday < today:\n",
    "    print(\"Hope you enjoyed it.\")\n",
    "else:\n",
    "    print(\"HOLIDAY TIME!!!\")\n",
    "    \n"
   ]
  },
  {
   "cell_type": "code",
   "execution_count": 34,
   "id": "cfd43e7c",
   "metadata": {},
   "outputs": [
    {
     "name": "stdout",
     "output_type": "stream",
     "text": [
      "Hope you enjoyed it\n"
     ]
    }
   ],
   "source": [
    "# Fix the broken code...\n",
    "import datetime\n",
    "\n",
    "today = datetime.date.today() \n",
    "\n",
    "holiday = datetime.date(year = 2022,month=1 ,day = 20) \n",
    "\n",
    "if holiday > today: \n",
    "    print(\"Coming soon\")\n",
    "elif holiday < today: \n",
    "    print(\"Hope you enjoyed it\")\n",
    "else:\n",
    "    print(\"HOLIDAY TIME!\")"
   ]
  },
  {
   "cell_type": "code",
   "execution_count": 43,
   "id": "a5eb8af6",
   "metadata": {},
   "outputs": [
    {
     "name": "stdout",
     "output_type": "stream",
     "text": [
      "😀 😀 It's the FINAL COUNTDOWN!!! 😀 😀\n",
      "Tell us the name of your event and the date, Precious...\n",
      "Event Name: Day 60\n",
      "When is it happening, Precious?\n",
      "Give us the year: 2024\n",
      "Give us the month: 1\n",
      "Give us the day: 1\n",
      "Sad! Sad! Sad!\n",
      "116 ago... 😢\n",
      "Day 60 has happened 116 days ago...\n",
      "It was the fats one!\n"
     ]
    }
   ],
   "source": [
    "# Events Count Down Timer\n",
    "\"\"\"\n",
    "Today's challenge is an events countdown timer.\n",
    "\n",
    "Your program should:\n",
    "\n",
    "1. Austomatically work out today's date.\n",
    "2. Prompt the user to input the name and date of their event (year, month and day).\n",
    "3. Work out the number of days until the event and output it.\n",
    "4. If the event is happening today, insert some party emojis.\n",
    "5. If the event was in the past, sad face emojis and tell the user how many days ago it was.\n",
    "\"\"\"\n",
    "\n",
    "today = datetime.date.today()\n",
    "\n",
    "print(\"😀 😀 It's the FINAL COUNTDOWN!!! 😀 😀\")\n",
    "print(\"Tell us the name of your event and the date, Precious...\")\n",
    "eName = input(\"Event Name: \")\n",
    "print(\"When is it happening, Precious?\")\n",
    "eYear = int(input(\"Give us the year: \"))\n",
    "eMonth = int(input(\"Give us the month: \"))\n",
    "eDay = int(input(\"Give us the day: \"))\n",
    "\n",
    "eDate = datetime.date(year = eYear, month = eMonth, day = eDay)\n",
    "\n",
    "diffDays = (today - eDate).days\n",
    "\n",
    "if diffDays == 0:\n",
    "    print(\"Today is the day, Precious!\")\n",
    "    print(\"🎉 🎉 🎉 🎉 🎉\")\n",
    "    print(f\"{eName}!!!\")\n",
    "elif diffDays > 0:\n",
    "    print(\"Sad! Sad! Sad!\")\n",
    "    print(f\"{diffDays} ago... 😢\")\n",
    "    print(f\"{eName} has happened {diffDays} days ago...\")\n",
    "    print(\"It was the fats one!\")\n",
    "else:\n",
    "    print(\"It's coming, Precious!!!\")\n",
    "    print(\"Almost here...\")\n",
    "    print(f\"Only {-diffDays} days to go, Precious...\")"
   ]
  },
  {
   "cell_type": "code",
   "execution_count": null,
   "id": "514bba70",
   "metadata": {},
   "outputs": [],
   "source": []
  }
 ],
 "metadata": {
  "kernelspec": {
   "display_name": "Python 3 (ipykernel)",
   "language": "python",
   "name": "python3"
  },
  "language_info": {
   "codemirror_mode": {
    "name": "ipython",
    "version": 3
   },
   "file_extension": ".py",
   "mimetype": "text/x-python",
   "name": "python",
   "nbconvert_exporter": "python",
   "pygments_lexer": "ipython3",
   "version": "3.9.18"
  }
 },
 "nbformat": 4,
 "nbformat_minor": 5
}
