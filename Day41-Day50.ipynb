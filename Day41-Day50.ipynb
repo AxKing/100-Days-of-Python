{
 "cells": [
  {
   "cell_type": "markdown",
   "id": "be6a0c90",
   "metadata": {},
   "source": [
    "#### Day 41 Dictionaries with Loops\n",
    "#### 23MAR24"
   ]
  },
  {
   "cell_type": "code",
   "execution_count": 19,
   "id": "28e52518",
   "metadata": {},
   "outputs": [
    {
     "name": "stdout",
     "output_type": "stream",
     "text": [
      "Ian\n",
      "219\n",
      "199\n",
      "Axe\n",
      "name : Ian\n",
      "health : 219\n",
      "strength : 199\n",
      "Whoa, so STRONG!\n",
      "equipped : Axe\n"
     ]
    }
   ],
   "source": [
    "myDictionary = {\"name\" : \"Ian\", \"health\": 219, \"strength\": 199, \"equipped\": \"Axe\"}\n",
    "\n",
    "# for i in myDictionary:\n",
    "#     print(myDictionary[i])\n",
    "\n",
    "for value in myDictionary.values():\n",
    "    print(value)\n",
    "    \n",
    "for name, value in myDictionary.items():\n",
    "    print(f\"{name} : {value}\")\n",
    "    \n",
    "    if (name==\"strength\"):\n",
    "        if value > 100:\n",
    "            print(\"Whoa, so STRONG!\")\n",
    "        else:\n",
    "            print(\"Weak sauce dude!\")"
   ]
  },
  {
   "cell_type": "code",
   "execution_count": 20,
   "id": "e10bd758",
   "metadata": {},
   "outputs": [
    {
     "name": "stdout",
     "output_type": "stream",
     "text": [
      "name:David the Mildy Terrifying\n",
      "health:186\n",
      "strength:4\n",
      "Looks like you skipped leg day, arm day, chest day and, well, gym day entirely bro!\n",
      "equipped:l33t haxx0r p0werz\n"
     ]
    }
   ],
   "source": [
    "myDictionary = {\"name\" : \"David the Mildy Terrifying\", \"health\": 186, \"strength\": 4, \"equipped\":\"l33t haxx0r p0werz\"}\n",
    "\n",
    "for name, value in myDictionary.items():\n",
    "    print(f\"{name}:{value}\")\n",
    "\n",
    "    if (name == \"strength\"):\n",
    "        if value > 100:\n",
    "            print(\"Whoa, SO STRONG\")\n",
    "        else:\n",
    "            print(\"Looks like you skipped leg day, arm day, chest day and, well, gym day entirely bro!\")"
   ]
  },
  {
   "cell_type": "code",
   "execution_count": 23,
   "id": "99768d71",
   "metadata": {},
   "outputs": [
    {
     "name": "stdout",
     "output_type": "stream",
     "text": [
      "Input the website's name: Replit\n",
      "Input the website's url: https://replit.com\n",
      "Input the website's description: A website for programming awesome software!\n",
      "Input the website's rating: 5/5\n",
      "name : Replit\n",
      "url : https://replit.com\n",
      "description : A website for programming awesome software!\n",
      "rating : 5/5\n",
      "\u001b[H\u001b[2J"
     ]
    }
   ],
   "source": [
    "import os\n",
    "\n",
    "webSite = {\"name\": None,\n",
    "          \"url\": None,\n",
    "          \"description\": None,\n",
    "          \"rating\": None}\n",
    "\n",
    "for key in webSite.keys():\n",
    "    webSite[key] = input(f\"Input the website's {key}: \")\n",
    "    \n",
    "os.system(\"clear\")\n",
    "\n",
    "for name, value in webSite.items():\n",
    "    print(f\"{name} : {value}\")\n"
   ]
  },
  {
   "cell_type": "markdown",
   "id": "f2a48fc5",
   "metadata": {},
   "source": [
    "#### Day 42 MokeBeast\n",
    "#### 24MAR24"
   ]
  },
  {
   "cell_type": "code",
   "execution_count": 31,
   "id": "36fe61ae",
   "metadata": {},
   "outputs": [
    {
     "name": "stdout",
     "output_type": "stream",
     "text": [
      "Some trainers have no fear. To them, this is just one more challenge.\n",
      "\n",
      "Input your pokemon's name? earth wave\n",
      "Choose your pokemon's type (earth, fire, air, water or spirit): earth\n",
      "What is your pokemon's special move? earth splash\n",
      "What is your pokemon's starting HP and MP? 65 75\n",
      "\u001b[92m\n",
      "name : earth wave\n",
      "type : earth\n",
      "special move : earth splash\n",
      "HP : 65\n",
      "MP : 75\n"
     ]
    }
   ],
   "source": [
    "# input pokemon character\n",
    "# Name\n",
    "# Type\n",
    "# Special Move\n",
    "# HP\n",
    "# MP\n",
    "# print it out and change color by type blue if water, red if fire, etc\n",
    "print(\"Some trainers have no fear. To them, this is just one more challenge.\\n\")\n",
    "pokedex = {}\n",
    "pokedex[\"name\"] = input(\"Input your pokemon's name? \")\n",
    "pokedex['type'] = input(\"Choose your pokemon's type (earth, fire, air, water or spirit): \").lower()\n",
    "pokedex['special move'] = input(\"What is your pokemon's special move? \")\n",
    "pokedex['HP'], pokedex['MP'] = input(\"What is your pokemon's starting HP and MP? \").split()\n",
    "\n",
    "ptype = pokedex[\"type\"]\n",
    "if ptype == \"earth\":\n",
    "    print(\"\\033[92m\")\n",
    "elif ptype == \"fire\":\n",
    "    print(\"\\033[91m\")\n",
    "elif ptype == \"air\":\n",
    "    print(\"\\033[97m\")\n",
    "elif ptype == \"water\":\n",
    "    print(\"\\033[94m\")\n",
    "elif ptype == \"spirit\":\n",
    "    print(\"\\033[95m\")\n",
    "    \n",
    "for name, value in pokedex.items():\n",
    "    print(f\"{name} : {value}\")"
   ]
  },
  {
   "cell_type": "markdown",
   "id": "2ded0278",
   "metadata": {},
   "source": [
    "#### Day 43\n",
    "#### 25MAR24"
   ]
  },
  {
   "cell_type": "code",
   "execution_count": null,
   "id": "0922bb36",
   "metadata": {},
   "outputs": [],
   "source": []
  },
  {
   "cell_type": "markdown",
   "id": "764bb6f1",
   "metadata": {},
   "source": [
    "#### Day 44\n",
    "#### 26MAR24"
   ]
  },
  {
   "cell_type": "code",
   "execution_count": null,
   "id": "560cfce8",
   "metadata": {},
   "outputs": [],
   "source": []
  },
  {
   "cell_type": "markdown",
   "id": "d60fcc65",
   "metadata": {},
   "source": [
    "#### Day 45\n",
    "#### 27MAR24"
   ]
  },
  {
   "cell_type": "code",
   "execution_count": null,
   "id": "f2ae0aa3",
   "metadata": {},
   "outputs": [],
   "source": []
  },
  {
   "cell_type": "markdown",
   "id": "80369f50",
   "metadata": {},
   "source": [
    "#### Day 46\n",
    "#### 28MAR24"
   ]
  },
  {
   "cell_type": "code",
   "execution_count": null,
   "id": "d572e377",
   "metadata": {},
   "outputs": [],
   "source": []
  },
  {
   "cell_type": "markdown",
   "id": "79dde3da",
   "metadata": {},
   "source": [
    "#### Day 47\n",
    "#### 29MAR24"
   ]
  },
  {
   "cell_type": "code",
   "execution_count": null,
   "id": "6e087901",
   "metadata": {},
   "outputs": [],
   "source": []
  },
  {
   "cell_type": "markdown",
   "id": "6d3bf970",
   "metadata": {},
   "source": [
    "#### Day 48\n",
    "#### 30MAR24"
   ]
  },
  {
   "cell_type": "code",
   "execution_count": null,
   "id": "3f1f4ac3",
   "metadata": {},
   "outputs": [],
   "source": []
  },
  {
   "cell_type": "markdown",
   "id": "39d7482c",
   "metadata": {},
   "source": [
    "#### Day 49\n",
    "#### 31MAR24"
   ]
  },
  {
   "cell_type": "code",
   "execution_count": null,
   "id": "16463fcc",
   "metadata": {},
   "outputs": [],
   "source": []
  },
  {
   "cell_type": "markdown",
   "id": "fc35dc7e",
   "metadata": {},
   "source": [
    "#### Day 50\n",
    "#### 1APR24"
   ]
  },
  {
   "cell_type": "code",
   "execution_count": null,
   "id": "5fb6e5fb",
   "metadata": {},
   "outputs": [],
   "source": []
  }
 ],
 "metadata": {
  "kernelspec": {
   "display_name": "Python 3 (ipykernel)",
   "language": "python",
   "name": "python3"
  },
  "language_info": {
   "codemirror_mode": {
    "name": "ipython",
    "version": 3
   },
   "file_extension": ".py",
   "mimetype": "text/x-python",
   "name": "python",
   "nbconvert_exporter": "python",
   "pygments_lexer": "ipython3",
   "version": "3.9.18"
  }
 },
 "nbformat": 4,
 "nbformat_minor": 5
}
