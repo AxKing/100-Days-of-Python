{
 "cells": [
  {
   "cell_type": "markdown",
   "id": "59352806",
   "metadata": {},
   "source": [
    "#### Day 1 The Print Statement\n",
    "#### 12FEB24"
   ]
  },
  {
   "cell_type": "code",
   "execution_count": 6,
   "id": "44897c4c",
   "metadata": {},
   "outputs": [
    {
     "name": "stdout",
     "output_type": "stream",
     "text": [
      "Hellow Replit\n",
      "and how are you?\n",
      "😂\n",
      " This is a giant block of text\n",
      "    that can go on several lines\n",
      "        Use this when things need to on multiple lines.\n",
      "            It just makes things pretty.\n"
     ]
    }
   ],
   "source": [
    "# Notes\n",
    "print(\"Hellow Replit\")\n",
    "print(\"and how are you?\")\n",
    "\n",
    "print(\"😂\")\n",
    "print(\"\"\" This is a giant block of text\n",
    "    that can go on several lines\n",
    "        Use this when things need to on multiple lines.\n",
    "            It just makes things pretty.\"\"\")\n",
    "\n"
   ]
  },
  {
   "cell_type": "code",
   "execution_count": 7,
   "id": "90549bc6",
   "metadata": {},
   "outputs": [
    {
     "name": "stdout",
     "output_type": "stream",
     "text": [
      "Anthony\n",
      "        12FEB24\n",
      "        I am signing up for Replit's 100 days of Python \n",
      "        challenge!\n",
      "        I will make sure to spend some time every day coding \n",
      "        along, for a minimum of 10 minutes a day.\n",
      "        I'll be using Replit, an amazing online IDE so I can do\n",
      "        this from my phone wherever I happen to be. No excuses\n",
      "        for not coding from the middle of a field!\n",
      "        I am feeling 🥳👏🏼 🥳\n",
      "        You can follow my progress at replit.com/@anthonyomedina\n"
     ]
    }
   ],
   "source": [
    "# Daily Challenge\n",
    "# Write a statement of intent.\n",
    "print(\"\"\"Anthony\n",
    "        12FEB24\n",
    "        I am signing up for Replit's 100 days of Python \n",
    "        challenge!\n",
    "        I will make sure to spend some time every day coding \n",
    "        along, for a minimum of 10 minutes a day.\n",
    "        I'll be using Replit, an amazing online IDE so I can do\n",
    "        this from my phone wherever I happen to be. No excuses\n",
    "        for not coding from the middle of a field!\n",
    "        I am feeling 🥳👏🏼 🥳\n",
    "        You can follow my progress at replit.com/@anthonyomedina\"\"\")"
   ]
  },
  {
   "cell_type": "markdown",
   "id": "9e5af9d4",
   "metadata": {},
   "source": [
    "#### Day 2 Input and Variables\n",
    "#### 13FEB24"
   ]
  },
  {
   "cell_type": "code",
   "execution_count": 9,
   "id": "367c08c9",
   "metadata": {},
   "outputs": [
    {
     "name": "stdout",
     "output_type": "stream",
     "text": [
      "What's your name?: Tony\n",
      "How old are you?: 42\n",
      "Gee, that's REALLY OLD\n",
      "Do you like Replit?Yes\n",
      "OF COURSE YOU DO!\n"
     ]
    },
    {
     "data": {
      "text/plain": [
       "1"
      ]
     },
     "execution_count": 9,
     "metadata": {},
     "output_type": "execute_result"
    }
   ],
   "source": [
    "# Notes\n",
    "# input\n",
    "# input(\"What's your name?: \")\n",
    "# variables\n",
    "myName = input(\"What's your name?: \")\n",
    "myAge = input(\"How old are you?: \")\n",
    "print(\"Gee, that's REALLY OLD\")\n",
    "replit = input(\"Do you like Replit?\")\n",
    "print(\"OF COURSE YOU DO!\")\n",
    "snake_case_is_the_way\n",
    "camelCaseIsNiceToo"
   ]
  },
  {
   "cell_type": "code",
   "execution_count": null,
   "id": "b2ad9356",
   "metadata": {},
   "outputs": [],
   "source": [
    "myName = input(\"What's your name?: \")\n",
    "myAge = input(\"How old are you?: \")\n",
    "print(\"Gee, that's REALLY OLD\")\n",
    "replit = input(\"Do you like Replit?\")\n",
    "print(\"OF COURSE YOU DO!\")\n",
    "print()\n",
    "print(\"So, you are\")\n",
    "print(myName)\n",
    "print(\"You are the ripe old age of\")\n",
    "print(myAge)\n",
    "print(\"and clearly think that Replit is\")\n",
    "print(replit)"
   ]
  },
  {
   "cell_type": "code",
   "execution_count": 10,
   "id": "5c2bbee8",
   "metadata": {},
   "outputs": [
    {
     "name": "stdout",
     "output_type": "stream",
     "text": [
      "What's your name?Tony\n",
      "What's your favorite food?enchiladas\n",
      "What is your favorite band?TooL\n",
      "Where do you live?TexASS\n",
      "\n",
      "Your name is:\n",
      "Tony\n",
      "You are craving:\n",
      "enchiladas\n",
      "You'd like to listen to:\n",
      "TooL\n",
      "You live in:\n",
      "TexASS\n",
      "\n",
      "Thanks for playing!\n"
     ]
    }
   ],
   "source": [
    "# Daily Challenge\n",
    "name = input(\"What's your name?\")\n",
    "food = input(\"What's your favorite food?\")\n",
    "music = input(\"What is your favorite band?\")\n",
    "live = input(\"Where do you live?\")\n",
    "print()\n",
    "print(\"Your name is:\")\n",
    "print(name)\n",
    "print(\"You are craving:\")\n",
    "print(food)\n",
    "print(\"You'd like to listen to:\")\n",
    "print(music)\n",
    "print(\"You live in:\")\n",
    "print(live)\n",
    "print()\n",
    "print(\"Thanks for playing!\")"
   ]
  },
  {
   "cell_type": "markdown",
   "id": "7276ee4f",
   "metadata": {},
   "source": [
    "#### Day 3 Concat...what?\n",
    "#### 14FEB24"
   ]
  },
  {
   "cell_type": "code",
   "execution_count": 3,
   "id": "556a88b8",
   "metadata": {},
   "outputs": [
    {
     "name": "stdout",
     "output_type": "stream",
     "text": [
      "What's your name? Tony\n",
      "What are you having for lunch? Tacos\n",
      "Tony is going to be chowing down on Tacos very soon!\n"
     ]
    }
   ],
   "source": [
    "# Notes\n",
    "# Concatenation is gluing together bits of text to make a complete sentence.\n",
    "myName = input(\"What's your name? \")\n",
    "myLunch = input(\"What are you having for lunch? \")\n",
    "print(myName, \"is going to be chowing down on\", myLunch, \"very soon!\")\n",
    "\n"
   ]
  },
  {
   "cell_type": "code",
   "execution_count": 4,
   "id": "050bac4a",
   "metadata": {},
   "outputs": [
    {
     "name": "stdout",
     "output_type": "stream",
     "text": [
      "Give me a number: 25\n",
      "Give me a collective noun for a group of things: rocks\n",
      "Give me the name of a weird or wacky thing: pork chops\n",
      "No I don't think that 25 is a rocks of pork chops . That's just odd.\n"
     ]
    }
   ],
   "source": [
    "number = input(\"Give me a number: \")\n",
    "group = input(\"Give me a collective noun for a group of things: \")\n",
    "thing = input(\"Give me the name of a weird or wacky thing: \")\n",
    "print(\"No I don't think that\", number, \"is a\", group, \"of\", thing,\". That's just odd.\")"
   ]
  },
  {
   "cell_type": "code",
   "execution_count": 7,
   "id": "5d6ea43b",
   "metadata": {},
   "outputs": [
    {
     "name": "stdout",
     "output_type": "stream",
     "text": [
      "=== Your Song Generator ===\n",
      "You'll be asked a bunch of questions\n",
      "then we'll make you up an amazing\n",
      "song, totally copyright free 😭\n",
      "\n",
      "Name a person famous for something good: Matt\n",
      "Name a thing they did: save cats\n",
      "Name a place you like: my house\n",
      "Give me a verb that rhymes with your person's name: sat\n",
      "\n",
      "There was a person called Matt\n",
      "Who did something cool like save cats at the wonderful my house where you'll find me sat\n"
     ]
    }
   ],
   "source": [
    "# Fix My Code\n",
    "print(\"=== Your Song Generator ===\")\n",
    "print(\"\"\"You'll be asked a bunch of questions\n",
    "then we'll make you up an amazing\n",
    "song, totally copyright free 😭\"\"\")\n",
    "print()\n",
    "person = input(\"Name a person famous for something good: \")\n",
    "thing = input(\"Name a thing they did: \")\n",
    "place = input(\"Name a place you like: \")\n",
    "rhyme = input(\"Give me a verb that rhymes with your person's name: \")\n",
    "print()\n",
    "print(\"There was a person called\", person)\n",
    "print(\"Who did something cool like\", thing, \"at the wonderful\", place, \"where you'll find me\", rhyme)"
   ]
  },
  {
   "cell_type": "code",
   "execution_count": 1,
   "id": "d1aea33c",
   "metadata": {},
   "outputs": [
    {
     "name": "stdout",
     "output_type": "stream",
     "text": [
      "Name a food. >strawberries\n",
      "Name an animal. >pig\n",
      "Name a method of cooking. (past tense) >sautéed \n",
      "What word describes burned food? >charred\n",
      "Name a DIY item. >glue stick\n",
      "\n",
      "MENU\n",
      "Today we will be serving sautéed  strawberries and charred pig with a side of glue stick .\n",
      "\n",
      "Bone apple teeth!\n"
     ]
    }
   ],
   "source": [
    "# Daily Challenge\n",
    "food = input(\"Name a food. >\")\n",
    "plant = input(\"Name an animal. >\")\n",
    "cooking = input(\"Name a method of cooking. (past tense) >\")\n",
    "burned = input(\"What word describes burned food? >\")\n",
    "item = input(\"Name a DIY item. >\")\n",
    "print()\n",
    "print(\"MENU\")\n",
    "print(\"Today we will be serving\", cooking, food, \"and\", burned, plant, \"with a side of\",item, \".\")\n",
    "print()\n",
    "print(\"Bone apple teeth!\")"
   ]
  },
  {
   "cell_type": "markdown",
   "id": "4f2e96db",
   "metadata": {},
   "source": [
    "#### Day 4 'Print' in Color!\n",
    "#### 15FEB24"
   ]
  },
  {
   "cell_type": "code",
   "execution_count": 10,
   "id": "3aaf49e6",
   "metadata": {},
   "outputs": [
    {
     "name": "stdout",
     "output_type": "stream",
     "text": [
      "\u001b[35m\n",
      "My leg is white\n",
      "\u001b[34m\n",
      "Now it's BLUE!\n"
     ]
    }
   ],
   "source": [
    "# Notes\n",
    "# Default 0\n",
    "# Black 30\n",
    "# Red 31\n",
    "# Green 32\n",
    "# Yellow 33\n",
    "# Blue 34\n",
    "# Purple 35\n",
    "# Cyan 36\n",
    "# White 37\n",
    "# \"\\033[<color_number>m\"\n",
    "#EX print( \"\\033[31m\")\n",
    "print(\"\\033[35m\")\n",
    "print(\"My leg is white\")\n",
    "print(\"\\033[34m\")\n",
    "print(\"Now it's BLUE!\")"
   ]
  },
  {
   "cell_type": "code",
   "execution_count": 11,
   "id": "6cd0cb48",
   "metadata": {},
   "outputs": [
    {
     "name": "stdout",
     "output_type": "stream",
     "text": [
      "Uh, oh, you've been given a \u001b[31m WARNING \u001b[0m for being a bad, bad person!\n"
     ]
    }
   ],
   "source": [
    "print(\"Uh, oh, you've been given a\", \"\\033[31m\", \"WARNING\", \"\\033[0m\", \"for being a bad, bad person!\")"
   ]
  },
  {
   "cell_type": "code",
   "execution_count": 16,
   "id": "34292382",
   "metadata": {},
   "outputs": [
    {
     "name": "stdout",
     "output_type": "stream",
     "text": [
      "Welcome to your adventure simulator. I am going to ask you a bunch of questions and then create an epic story with you as the star!\n",
      "What is your name? \n",
      "Tony\n",
      "What is your worst enemy’s name? \n",
      "Myself\n",
      "What is your superpower? \n",
      "Flying\n",
      "Where do you live? \n",
      "TexASS\n",
      "What is your favorite food? \n",
      "Burritos\n"
     ]
    }
   ],
   "source": [
    "# Daily Challenge\n",
    "print(\"Welcome to your adventure simulator. I am going to ask you a bunch of questions and then create an epic story with you as the star!\")\n",
    "name = input(\"What is your name? \\n\")\n",
    "enemy = input(\"What is your worst enemy’s name? \\n\")\n",
    "power = input(\"What is your superpower? \\n\")\n",
    "live = input(\"Where do you live? \\n\")\n",
    "food = input(\"What is your favorite food? \\n\")"
   ]
  },
  {
   "cell_type": "code",
   "execution_count": 26,
   "id": "19026679",
   "metadata": {},
   "outputs": [
    {
     "name": "stdout",
     "output_type": "stream",
     "text": [
      "Hello \u001b[34m Tony \u001b[0m\n",
      "Your ability to \u001b[32m Flying \u001b[0m will make sure you never have to look at \u001b[36m Myself \u001b[0m again!\n",
      "Go eat \u001b[35m Burritos \u001b[0m as you walk down the streets of \u001b[31m TexASS \u001b[0m and use \u001b[32m Flying \u001b[0m for good and not evil!\n"
     ]
    }
   ],
   "source": [
    "# Default 0\n",
    "# Black 30\n",
    "# Red 31\n",
    "# Green 32\n",
    "# Yellow 33\n",
    "# Blue 34\n",
    "# Purple 35\n",
    "# Cyan 36\n",
    "# White 37\n",
    "print(\"Hello\",\"\\033[34m\", name,\"\\033[0m\")\n",
    "print(\"Your ability to\", \"\\033[32m\", power, \"\\033[0m\", \"will make sure you never have to look at\", \"\\033[36m\", enemy, \"\\033[0m\", \"again!\")\n",
    "print(\"Go eat\", \"\\033[35m\", food, \"\\033[0m\", \"as you walk down the streets of\",\"\\033[31m\", live, \"\\033[0m\", \"and use\", \"\\033[32m\", power, \"\\033[0m\", \"for good and not evil!\")"
   ]
  },
  {
   "cell_type": "markdown",
   "id": "4c1c33aa",
   "metadata": {},
   "source": [
    "#### Day 5 If this...else that?!\n",
    "#### 16FEB24"
   ]
  },
  {
   "cell_type": "code",
   "execution_count": 8,
   "id": "af9b3e9e",
   "metadata": {},
   "outputs": [
    {
     "name": "stdout",
     "output_type": "stream",
     "text": [
      "What's your name?: Josh\n",
      "\u001b[31m You're not welcome here, \u001b[0m Josh !\n"
     ]
    }
   ],
   "source": [
    "# Notes\n",
    "myName = input(\"What's your name?: \")\n",
    "if myName == \"Tony\":\n",
    "    print(\"\\033[32m\", \"Welcome My Dude!\",\"\\033[0m\" )\n",
    "else:\n",
    "    print(\"\\033[31m\", \"You're not welcome here,\", \"\\033[0m\", myName, \"!\")"
   ]
  },
  {
   "cell_type": "code",
   "execution_count": 11,
   "id": "73e2b8f2",
   "metadata": {},
   "outputs": [
    {
     "name": "stdout",
     "output_type": "stream",
     "text": [
      "Do you prefer coffee or tea?coffee\n",
      "Tea is better.\n"
     ]
    }
   ],
   "source": [
    "# Fix the code\n",
    "drink = input(\"Do you prefer coffee or tea?\")\n",
    "if drink == \"coffee\":\n",
    "  print(\"Tea is better.\")\n",
    "else:\n",
    "  print(\"Excellent choice.\")"
   ]
  },
  {
   "cell_type": "code",
   "execution_count": 29,
   "id": "055f3539",
   "metadata": {},
   "outputs": [],
   "source": [
    "# Daily Challenge"
   ]
  },
  {
   "cell_type": "code",
   "execution_count": 13,
   "id": "5a0cdd19",
   "metadata": {},
   "outputs": [
    {
     "name": "stdout",
     "output_type": "stream",
     "text": [
      "Welcome to the Marvel Quiz\n",
      "Do you like hanging around?yes\n",
      "Do you smash when you get angry?yes\n",
      "Do you like frisbee golf?yes\n",
      "Do you like technology?yes\n",
      "You sound like a Peter!\n",
      "You might want to get some purple pants.\n",
      "I bet you could do this all day.\n",
      "I love you 3000...\n"
     ]
    }
   ],
   "source": [
    "# Build a which character are you game?\n",
    "print(\"Welcome to the Marvel Quiz\")\n",
    "spidey = input(\"Do you like hanging around?\")\n",
    "hulk = input(\"Do you smash when you get angry?\")\n",
    "cap = input(\"Do you like frisbee golf?\")\n",
    "iron = input(\"Do you like technology?\")\n",
    "\n",
    "if spidey == \"yes\":\n",
    "    print(\"You sound like a Peter!\")\n",
    "if hulk== \"yes\":\n",
    "    print(\"You might want to get some purple pants.\")\n",
    "if cap== \"yes\":\n",
    "    print(\"I bet you could do this all day.\")\n",
    "if iron== \"yes\":\n",
    "    print(\"I love you 3000...\")\n",
    "else:\n",
    "    print(\"Sorry kid. You're not Avengers material.\")"
   ]
  },
  {
   "cell_type": "markdown",
   "id": "88c9b9e9",
   "metadata": {},
   "source": [
    "#### Day 6 What the elif is this?\n",
    "#### 17FEB24"
   ]
  },
  {
   "cell_type": "code",
   "execution_count": 6,
   "id": "52a4f6e4",
   "metadata": {},
   "outputs": [
    {
     "name": "stdout",
     "output_type": "stream",
     "text": [
      "SECURE LOGIN\n",
      "Username > tony\n",
      "Password > i<3mydoggies\n",
      "Ahh the master is home!\n"
     ]
    }
   ],
   "source": [
    "# Notes\n",
    "print(\"SECURE LOGIN\")\n",
    "username = input(\"Username > \")\n",
    "password = input(\"Password > \")\n",
    "if username == \"mark\" and password ==\"password\":\n",
    "    print(\"Welcome Mark!\")\n",
    "elif username == \"suzanne\" and password==\"Su7anne\":\n",
    "    print(\"Welcome Suzanne!\")\n",
    "elif username == \"tony\" and password ==\"i<3mydoggies\":\n",
    "    print(\"Ahh the master is home!\")\n",
    "else:\n",
    "    print(\"You're not welcome!\")\n"
   ]
  },
  {
   "cell_type": "code",
   "execution_count": 13,
   "id": "7ade0905",
   "metadata": {},
   "outputs": [
    {
     "name": "stdout",
     "output_type": "stream",
     "text": [
      "what is your favorite season? > winter\n",
      "Stay warm by the fire and watch the snow fall.\n"
     ]
    }
   ],
   "source": [
    "# Fix the Code\n",
    "season = input(\"what is your favorite season? > \")\n",
    "if season == \"spring\":\n",
    "    print(\"Ah! The birds are chirping and flowers blooming.\")\n",
    "elif season == \"summer\":\n",
    "    print(\"Catch some sun and cool off with a lemonade.\")\n",
    "elif season == \"autumn\":\n",
    "    print(\"The leaves are changing and the air is crisp. Enjoy!\")\n",
    "elif season == \"winter\":\n",
    "    print(\"Stay warm by the fire and watch the snow fall.\")\n",
    "else: \n",
    "    print(\"I don't know that season. Please try again.\")\n"
   ]
  },
  {
   "cell_type": "code",
   "execution_count": 18,
   "id": "f04ffa14",
   "metadata": {},
   "outputs": [
    {
     "name": "stdout",
     "output_type": "stream",
     "text": [
      "not so SECURE LOGIN\n",
      "Please input your user name: Finn\n",
      "Please enter your password: ilovelove\n",
      "I love you. I love love.\n"
     ]
    }
   ],
   "source": [
    "# Daily Challenge\n",
    "print(\"not so SECURE LOGIN\")\n",
    "name = input(\"Please input your user name: \")\n",
    "password = input(\"Please enter your password: \")\n",
    "if name == \"Kaylee\" and password ==\"k@yl33\":\n",
    "    print(\"Welcome home bae bae. Take the bra off and find some comfy jammy pants to put on!\")\n",
    "elif name == \"Epi\" and password == \"FavoriteFinn\":\n",
    "    print(\"Great. We're home. Can you leave me alone please?\")\n",
    "    print(\"Nevermind, I'm going to bed.\")\n",
    "elif name == \"Rita\" and password == \"foodoutside\":\n",
    "    print(\"Is it time to go outside?\")\n",
    "    print(\"It's time to go outside, right?\")\n",
    "    print(\"Why aren't we going outside?!?!\")\n",
    "    print(\"Is it dinner time?\")\n",
    "elif name == \"Finn\" and password == \"1loveyboi\":\n",
    "    print(\"I love you. I love love.\")\n",
    "else:\n",
    "    print(\"Fuck right off mate!\")\n"
   ]
  },
  {
   "cell_type": "markdown",
   "id": "5701d06e",
   "metadata": {},
   "source": [
    "#### Day 7 Nesting Code\n",
    "#### 18FEB24"
   ]
  },
  {
   "cell_type": "code",
   "execution_count": 28,
   "id": "20ef2303",
   "metadata": {},
   "outputs": [
    {
     "name": "stdout",
     "output_type": "stream",
     "text": [
      "What would you like to order: pizza or hamburger? hamburger\n",
      "Thank you.\n",
      "Do you want cheese?no\n",
      "No cheese it is.\n"
     ]
    }
   ],
   "source": [
    "# Notes\n",
    "order = input(\"What would you like to order: pizza or hamburger? \")\n",
    "if order == \"hamburger\":\n",
    "    print(\"Thank you.\")\n",
    "    cheese = input(\"Do you want cheese?\")\n",
    "    if cheese == \"yes\":\n",
    "        print(\"You got it.\")\n",
    "    else: \n",
    "        print(\"No cheese it is.\")\n",
    "elif order == \"pizza\":\n",
    "    print(\"Pizza coming up.\")\n",
    "    toppings = input(\"Do you want pepperoni on that?\")\n",
    "    if toppings == \"yes\":\n",
    "        print(\"We will add pepperoni.\")\n",
    "    else:\n",
    "        print(\"Your pizza will not have pepperoni.\")"
   ]
  },
  {
   "cell_type": "code",
   "execution_count": 29,
   "id": "615b7005",
   "metadata": {},
   "outputs": [
    {
     "name": "stdout",
     "output_type": "stream",
     "text": [
      "What is your favourite tv show? Star Wars\n",
      "SPOILER ALERT!!!\n",
      "Anakin IS Darth Vader!\n"
     ]
    }
   ],
   "source": [
    "tvShow = input(\"What is your favourite tv show? \")\n",
    "if tvShow == \"X-Men\":\n",
    "    print(\"Previously... on X-Men!\")\n",
    "    faveCharacter = input(\"Who is your favourite character? \")\n",
    "    if faveCharacter == \"Cyclops\":\n",
    "        print(\"Eww gross...\")\n",
    "        print(\"Fuck that guy!\")\n",
    "    elif faveCharacter == \"Wolverine\":\n",
    "        print(\"'I'm there is at what I do and what I do ain't nice' Bub!\")\n",
    "        print(\"NRAWWWWWW\")\n",
    "    else:\n",
    "        print(\"To me my X-Men!\")\n",
    "elif tvShow == \"Star Wars\":\n",
    "    print(\"SPOILER ALERT!!!\")\n",
    "    print(\"Anakin IS Darth Vader!\")\n",
    "else:\n",
    "    print(\"Yeah, that's cool and all, but is it X-Men or Star Wars?\")\n",
    "    print(\"No... It's not\")"
   ]
  },
  {
   "cell_type": "code",
   "execution_count": 36,
   "id": "5c35bc7d",
   "metadata": {},
   "outputs": [
    {
     "name": "stdout",
     "output_type": "stream",
     "text": [
      "What would you like to order: pizza or hamburger? hamburger\n",
      "Thank you.\n",
      "Do you want cheese?no\n",
      "No cheese it is.\n"
     ]
    }
   ],
   "source": [
    "order = input(\"What would you like to order: pizza or hamburger? \")\n",
    "if order == \"hamburger\":\n",
    "    print(\"Thank you.\")\n",
    "    cheese = input(\"Do you want cheese?\")\n",
    "    if cheese == \"yes\":\n",
    "        print(\"You got it.\")\n",
    "    else: \n",
    "        print(\"No cheese it is.\")\n",
    "elif order == \"pizza\":\n",
    "    print(\"Pizza coming up.\")\n",
    "    toppings = input(\"Do you want pepperoni on that?\")\n",
    "    if toppings == \"yes\":\n",
    "        print(\"We will add pepperoni.\")\n",
    "    else:\n",
    "        print(\"Your pizza will not have pepperoni.\")"
   ]
  },
  {
   "cell_type": "code",
   "execution_count": null,
   "id": "2fe8e44a",
   "metadata": {},
   "outputs": [
    {
     "name": "stdout",
     "output_type": "stream",
     "text": [
      "Are you really a fan of comic books?\n",
      "Let's find out! \n",
      "\n",
      "What is the name of Batman's son? Robin\n",
      "His name is Damien. Son of Bruce Wayne and Talia Al Ghul \n",
      "\n",
      "Who is from Krypton?Power Girl\n",
      "GOT DAMN IT ARE YOU FUCKING WITH ME?!?\n",
      "Which X-Men can develop new powers given any situation?Darwin\n",
      "It's in the name! \n",
      "\n",
      "Where does the Flash keep his suit? in his... ring\n",
      "How does it even fit in there? \n",
      "\n",
      "Which X-Men is the ruler of Limbo?Mephisto\n",
      "It's Magik... spelled with a 'k' \n",
      "\n"
     ]
    }
   ],
   "source": [
    "# Challenge\n",
    "# Comic Book Fan Challenge\n",
    "\n",
    "print(\"Are you really a fan of comic books?\")\n",
    "print(\"Let's find out! \\n\")\n",
    "score = 0\n",
    "a1 = input(\"What is the name of Batman's son? \")\n",
    "if a1 == \"Damien\":\n",
    "    print(\"You got that one right! \\n\")\n",
    "    score += 1\n",
    "if a1 != \"Damien\":\n",
    "    print(\"His name is Damien. Son of Bruce Wayne and Talia Al Ghul \\n\")\n",
    "\n",
    "a2 = input(\"Who is from Krypton?\")\n",
    "if a2 == \"Superman\":\n",
    "    print(\"That was an easy one! \\n\")\n",
    "    score += 1\n",
    "else:\n",
    "    print(\"GOT DAMN IT ARE YOU FUCKING WITH ME?!?\")\n",
    "    \n",
    "a3 = input(\"Which X-Men can develop new powers given any situation?\")\n",
    "if a3 == \"Darwin\":\n",
    "    print(\"It's in the name! \\n\")\n",
    "    score += 1\n",
    "else:\n",
    "    print(\"Oops... It's Darwin. \\n\")\n",
    "\n",
    "a4 = input(\"Where does the Flash keep his suit? in his... \")\n",
    "if a4 == \"Ring\" or a4 == \"ring\":\n",
    "    print(\"How does it even fit in there? \\n\")\n",
    "    score += 1\n",
    "else:\n",
    "    print(\"He keeps it in his ring... kind of a stupid place, but this is comic books... \\n\")\n",
    "    \n",
    "a5 = input(\"Which X-Men is the ruler of Limbo?\")\n",
    "if a5 == \"Magik\":\n",
    "    print(\"Oh yeah... that's my girl \\n\")\n",
    "    score += 1\n",
    "else:\n",
    "    print(\"It's Magik... spelled with a 'k' \\n\")\n",
    "    \n",
    "a6 = input(\"Who is the father of The Scarlet Witch and Quicksilver?\")\n",
    "if a6 == \"Magneto\":\n",
    "    print(\"CORRECT!\")\n",
    "    print(\"The master of magnetism himself! \\n\")\n",
    "    score += 1\n",
    "    \n",
    "\n",
    "print(\"Let's see how you did...\")\n",
    "print(\" \")\n",
    "\n",
    "if score >= 6:\n",
    "    print(\"A perfect score!\")\n",
    "elif score >= 5:\n",
    "    print(\"You missed one, but you are a true comic book fan!\")\n",
    "elif score >= 4:\n",
    "    print(\"You missed one, but pretty good.\")\n",
    "elif score >= 3:\n",
    "    print(\"You might want to read some more comic books\")\n",
    "elif score ==1:\n",
    "    print(\"What a waste of my time!\")\n",
    "else:\n",
    "    print(\"Not so good... you might want to pick up a book.\")\n",
    "\n",
    "print(\"Thanks for playing!\")\n",
    "print(\"Good day.\")\n"
   ]
  },
  {
   "cell_type": "markdown",
   "id": "df4bec2c",
   "metadata": {},
   "source": [
    "#### Day 8 Affirmation Generator\n",
    "#### 19FEB24"
   ]
  },
  {
   "cell_type": "code",
   "execution_count": 23,
   "id": "50952657",
   "metadata": {},
   "outputs": [
    {
     "name": "stdout",
     "output_type": "stream",
     "text": [
      "What is your name? \n",
      "kaylee\n",
      "What day of the week is it? \n",
      "tuesday\n",
      "How are we feeling? \n",
      "Motivated or unmotivated \n",
      "unmotivated\n",
      "Heya Cup! \n",
      "\n",
      "You love Tuesdays!\n"
     ]
    }
   ],
   "source": [
    "# get a name\n",
    "# what day of the week\n",
    "# how do you feel today?\n",
    "# construct something comical\n",
    "# don't care about capitalization of the name\n",
    "# AND OR NOT\n",
    "\n",
    "user_name = input(\"What is your name? \\n\")\n",
    "user_name = user_name.lower()\n",
    "day = input(\"What day of the week is it? \\n\")\n",
    "day = day.lower()\n",
    "feeling = input(\"How are we feeling? \\nMotivated or unmotivated \\n\")\n",
    "feeling = feeling.lower()\n",
    "if user_name == \"tony\":\n",
    "    if day == \"monday\":\n",
    "        if feeling ==\"motivated\":\n",
    "            print(\"GO GET EM TIGER! \\n Happy Monday!\")\n",
    "        else:\n",
    "            print(\"You got this! \\n Get your shit together!\")\n",
    "    elif day == \"tuesday\":\n",
    "        if feeling ==\"motivated\":\n",
    "            print(\"It's Tony Tuesday! \\n FUCK YEAH!\")\n",
    "        else: \n",
    "            print(\"Shake it off. Get your shit together!\")\n",
    "    elif day == \"wednesday\":\n",
    "        if feeling ==\"motivated\":\n",
    "            print(\"It's new comic book day! \\n GET SOME!\")\n",
    "        else: \n",
    "            print(\"You get to talk to Sammy today. \\n Hell yeah brother!\")\n",
    "    elif day == \"thursday\":\n",
    "        if feeling ==\"motivated\":\n",
    "            print(\"You made it to DUDES NIGHT!\")\n",
    "        else: \n",
    "            print(\"Tomorrow is another day. Don't get too hung over!\")\n",
    "    elif day == \"friday\":\n",
    "        if feeling ==\"motivated\":\n",
    "            print(\"FRI-YAY!!! GET SOME!\")\n",
    "        else: \n",
    "            print(\"Bruh, it's Friday. Take it easy today.\")\n",
    "    elif day == \"saturday\":\n",
    "        if feeling ==\"motivated\":\n",
    "            print(\"It's ROBOT LEGS day, get those 800 calories in!\")\n",
    "        else: \n",
    "            print(\"It's the weekend dude. \\nCheer up!\")\n",
    "    elif day == \"sunday\":\n",
    "        if feeling ==\"motivated\":\n",
    "            print(\"It's the lord's day... pray to Lucifer\")\n",
    "        else: \n",
    "            print(\"It's the lord's day... pray to Lucifer\")\n",
    "            \n",
    "elif user_name == \"kaylee\":\n",
    "    print(\"Heya Cup! \\n\")\n",
    "    \n",
    "    if day == \"monday\":\n",
    "        if feeling ==\"motivated\":\n",
    "            print(\"You got this Cup! GET SOME!\")\n",
    "        else:\n",
    "            print(\"Hang in there, Baby. It's date night!\")\n",
    "    elif day == \"tuesday\":\n",
    "        if feeling ==\"motivated\":\n",
    "            print(\"It's Tony Tuesday! \\n FUCK YEAH!\")\n",
    "        else: \n",
    "            print(\"You love Tuesdays!\")\n",
    "    elif day == \"wednesday\":\n",
    "        if feeling ==\"motivated\":\n",
    "            print(\"It's new comic book day! \\n GET SOME!\")\n",
    "        else: \n",
    "            print(\"It might be book club day. Cheer up, Cup!\")\n",
    "    elif day == \"thursday\":\n",
    "        if feeling ==\"motivated\":\n",
    "            print(\"You made it to Dude's Night. AKA hang with the doggies.\")\n",
    "        else: \n",
    "            print(\"Hang Tight. The weekend is almost here!\")\n",
    "    elif day == \"friday\":\n",
    "        if feeling ==\"motivated\":\n",
    "            print(\"FRI-YAY!!! GET SOME!\")\n",
    "        else: \n",
    "            print(\"Bruh, it's Friday. You can take it easy today.\")\n",
    "    elif day == \"saturday\":\n",
    "        if feeling ==\"motivated\":\n",
    "            print(\"Don't slack off on Saturday. Get that work out in!\")\n",
    "        else: \n",
    "            print(\"It's the weekend dude. \\n Cheer up!\")\n",
    "    elif day == \"sunday\":\n",
    "        if feeling ==\"motivated\":\n",
    "            print(\"It's the lord's day... pray to Lucifer\")\n",
    "        else: \n",
    "            print(\"It's the lord's day... pray to Lucifer\")\n",
    "\n",
    "else:\n",
    "    print(\"I don't know you! \\n THAT's MY PURSE!!!\")\n"
   ]
  },
  {
   "cell_type": "markdown",
   "id": "3284fdae",
   "metadata": {},
   "source": [
    "#### Day 9 Casting\n",
    "#### 20FEB24"
   ]
  },
  {
   "cell_type": "code",
   "execution_count": 42,
   "id": "bca40eb1",
   "metadata": {},
   "outputs": [
    {
     "name": "stdout",
     "output_type": "stream",
     "text": [
      "Your Score: 55555555\n",
      "Winner!\n"
     ]
    }
   ],
   "source": [
    "# Notes\n",
    "myScore = int(input(\"Your Score: \"))\n",
    "if myScore > 100000:\n",
    "    print(\"Winner!\")\n",
    "else:\n",
    "    print(\"Try again 😭\")"
   ]
  },
  {
   "cell_type": "code",
   "execution_count": 26,
   "id": "d732974f",
   "metadata": {},
   "outputs": [
    {
     "name": "stdout",
     "output_type": "stream",
     "text": [
      "What is Pi: 22\n",
      "Try again 😭\n"
     ]
    }
   ],
   "source": [
    "myPi = float(input(\"What is Pi: \"))\n",
    "if myPi == 3.14:\n",
    "    print(\"Exactly!\")\n",
    "else:\n",
    "    print(\"Try again 😭\")"
   ]
  },
  {
   "cell_type": "code",
   "execution_count": 32,
   "id": "6299c60f",
   "metadata": {},
   "outputs": [
    {
     "name": "stdout",
     "output_type": "stream",
     "text": [
      "What was your score on the test?44\n",
      "Dude, you need to study more!\n"
     ]
    }
   ],
   "source": [
    "# Fix my code!\n",
    "score = int(input(\"What was your score on the test?\"))\n",
    "if score >= 80:\n",
    "    print(\"Not too shabby\")\n",
    "elif score > 70:\n",
    "    print(\"Acceptable.\")\n",
    "else:\n",
    "    print(\"Dude, you need to study more!\")"
   ]
  },
  {
   "cell_type": "code",
   "execution_count": 40,
   "id": "8a08f0fd",
   "metadata": {},
   "outputs": [
    {
     "name": "stdout",
     "output_type": "stream",
     "text": [
      "Generation Identifier \n",
      " Enter the year, and we'll tell you what generation you're from!\n",
      "What year were you born?\n",
      "1981\n",
      "Millennials\n"
     ]
    }
   ],
   "source": [
    "# Challenge\n",
    "# Generation Identifier\n",
    "print(\"Generation Identifier \\n Enter the year, and we'll tell you what generation you're from!\")\n",
    "year = int(input (\"What year were you born?\\n\" ))\n",
    "if year >= 2012:\n",
    "    print(\"Generation Alpha\")\n",
    "elif year >=1997:\n",
    "    print(\"Generation Z\")\n",
    "elif year >= 1981:\n",
    "    print(\"Millennials\")\n",
    "elif year >= 1965:\n",
    "    print(\"Generation X\")\n",
    "elif year >= 1946:\n",
    "    print(\"Baby Boomers\")\n",
    "elif year >= 1928:\n",
    "    print(\"Silent Generation\")\n",
    "elif year >= 1901:\n",
    "    print(\"Greatest Generation\")\n",
    "elif year >= 1883:\n",
    "    print(\"Lost Generation\")\n",
    "else:\n",
    "    print(\"You're too old for a generation... \\n Maybe you had Jesus in your year book?\")"
   ]
  },
  {
   "cell_type": "markdown",
   "id": "d269614d",
   "metadata": {},
   "source": [
    "#### Day 10 Show me the $$\n",
    "#### 21FEB24"
   ]
  },
  {
   "cell_type": "code",
   "execution_count": 43,
   "id": "fbf5b993",
   "metadata": {},
   "outputs": [
    {
     "name": "stdout",
     "output_type": "stream",
     "text": [
      "7\n",
      "-1\n",
      "128\n",
      "10.0\n",
      "25\n",
      "3\n",
      "3\n"
     ]
    }
   ],
   "source": [
    "# Notes\n",
    "adding = 4+3\n",
    "print(adding)\n",
    "\n",
    "subtraction = 8-9\n",
    "print(subtraction)\n",
    "\n",
    "multiplication = 4*32\n",
    "print(multiplication)\n",
    "\n",
    "division = 50/5\n",
    "print(division)\n",
    "\n",
    "squared = 5**2\n",
    "print(squared)\n",
    "\n",
    "modulo = 15%4\n",
    "print(modulo)\n",
    "\n",
    "divisor = 15//4\n",
    "print(divisor)"
   ]
  },
  {
   "cell_type": "code",
   "execution_count": 45,
   "id": "aec05b21",
   "metadata": {},
   "outputs": [
    {
     "name": "stdout",
     "output_type": "stream",
     "text": [
      "23.119999999999997\n",
      "0.5279263856195163\n",
      "100\n",
      "85.75\n"
     ]
    }
   ],
   "source": [
    "#👉  Solve the following problems with my code\n",
    "# Your goal is to print the solution of all 3 calculations to the screen.\n",
    "\n",
    "# multiplication\n",
    "print(3.4 * 6.8)\n",
    "\n",
    "# division\n",
    "print(2467 / 4673)\n",
    "\n",
    "#raise 10 to the power of 2\n",
    "print(10**2)\n",
    "\n",
    "# print the remainder when 343 is divided by 4\n",
    "print(343/4)"
   ]
  },
  {
   "cell_type": "code",
   "execution_count": 52,
   "id": "d8dee7a3",
   "metadata": {},
   "outputs": [
    {
     "name": "stdout",
     "output_type": "stream",
     "text": [
      "Bill Split\n",
      "What was the bill?: 100\n",
      "What percentage would you like to tip? 24\n",
      "How many people?: 5\n",
      "You all owe 24.8\n"
     ]
    }
   ],
   "source": [
    "print(\"Bill Split\")\n",
    "myBill = float(input(\"What was the bill?: \"))\n",
    "tip = int(input(\"What percentage would you like to tip? \"))/100 + 1\n",
    "numberOfPeople = int(input(\"How many people?: \"))\n",
    "billWithTip = myBill * tip\n",
    "answer = round(billWithTip/numberOfPeople, 2)\n",
    "\n",
    "print(\"You all owe\", answer)"
   ]
  },
  {
   "cell_type": "code",
   "execution_count": null,
   "id": "4cbb9079",
   "metadata": {},
   "outputs": [],
   "source": []
  }
 ],
 "metadata": {
  "kernelspec": {
   "display_name": "Python 3 (ipykernel)",
   "language": "python",
   "name": "python3"
  },
  "language_info": {
   "codemirror_mode": {
    "name": "ipython",
    "version": 3
   },
   "file_extension": ".py",
   "mimetype": "text/x-python",
   "name": "python",
   "nbconvert_exporter": "python",
   "pygments_lexer": "ipython3",
   "version": "3.9.18"
  }
 },
 "nbformat": 4,
 "nbformat_minor": 5
}
