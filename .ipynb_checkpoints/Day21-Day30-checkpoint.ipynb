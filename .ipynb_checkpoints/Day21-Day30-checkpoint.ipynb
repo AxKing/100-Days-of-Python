{
 "cells": [
  {
   "cell_type": "markdown",
   "id": "c38f2ab5",
   "metadata": {},
   "source": [
    "### Day21 - Day 30"
   ]
  },
  {
   "cell_type": "markdown",
   "id": "fe68c789",
   "metadata": {},
   "source": [
    "#### Day 21 Throwback to Math Facts\n",
    "#### 3MAR24"
   ]
  },
  {
   "cell_type": "code",
   "execution_count": 21,
   "id": "92940e36",
   "metadata": {},
   "outputs": [
    {
     "name": "stdout",
     "output_type": "stream",
     "text": [
      "HEY BOY! How's skoooooool? \n",
      "\n",
      "It's time to practice the multiplication table today.\n",
      "What multiplication tables are we trying today? 9\n",
      "What is 9 x 0 ?  0\n",
      "Correct\n",
      "\n",
      "What is 9 x 1 ?  9\n",
      "Correct\n",
      "\n",
      "What is 9 x 2 ?  18\n",
      "Correct\n",
      "\n",
      "What is 9 x 3 ?  27\n",
      "Correct\n",
      "\n",
      "What is 9 x 4 ?  36\n",
      "Correct\n",
      "\n",
      "What is 9 x 5 ?  45\n",
      "Correct\n",
      "\n",
      "What is 9 x 6 ?  54\n",
      "Correct\n",
      "\n",
      "What is 9 x 7 ?  63\n",
      "Correct\n",
      "\n",
      "What is 9 x 8 ?  72\n",
      "Correct\n",
      "\n",
      "What is 9 x 9 ?  81\n",
      "Correct\n",
      "\n",
      "What is 9 x 10 ?  90\n",
      "Correct\n",
      "\n",
      "What is 9 x 11 ?  99\n",
      "Correct\n",
      "\n",
      "What is 9 x 12 ?  108\n",
      "Correct\n",
      "\n",
      "\n",
      "🥳🥳 You got a perfect score! 🥳🥳\n"
     ]
    }
   ],
   "source": [
    "# Test the ability to work out a multiplication table!\n",
    "# take in a number for multiples\n",
    "\n",
    "print(\"HEY BOY! How's skoooooool? \\n\")\n",
    "print(\"It's time to practice the multiplication table today.\")\n",
    "score = 0\n",
    "m = int(input(\"What multiplication tables are we trying today? \"))\n",
    "for i in range(0, 13):\n",
    "    ans = int(input(f\"What is {m} x {i} ?  \"))\n",
    "    if ans == i * m:\n",
    "        print(\"Correct\\n\")\n",
    "        score += 1\n",
    "    else:\n",
    "        print(f\"I'm sorry, the answer was {i * m}\\n\")\n",
    "print(\"\")\n",
    "if score == 13:\n",
    "    print(\"🥳🥳 You got a perfect score! 🥳🥳\")\n",
    "else:\n",
    "    print(f\"You scored {score} out of 13\")"
   ]
  },
  {
   "cell_type": "code",
   "execution_count": 22,
   "id": "0e5bc809",
   "metadata": {},
   "outputs": [],
   "source": [
    "###### Notes"
   ]
  },
  {
   "cell_type": "markdown",
   "id": "7d002073",
   "metadata": {},
   "source": [
    "#### Day 22 Libraries\n",
    "#### 4MAR24"
   ]
  },
  {
   "cell_type": "code",
   "execution_count": 7,
   "id": "62f5e6df",
   "metadata": {},
   "outputs": [
    {
     "name": "stdout",
     "output_type": "stream",
     "text": [
      "29\n"
     ]
    }
   ],
   "source": [
    "import random\n",
    "\n",
    "myNumber = random.randint(1,100)\n",
    "print(myNumber)"
   ]
  },
  {
   "cell_type": "code",
   "execution_count": 9,
   "id": "04027cce",
   "metadata": {},
   "outputs": [
    {
     "name": "stdout",
     "output_type": "stream",
     "text": [
      "63\n",
      "74\n",
      "32\n",
      "90\n",
      "29\n",
      "5\n",
      "27\n",
      "6\n",
      "22\n",
      "19\n"
     ]
    }
   ],
   "source": [
    "# fix my code\n",
    "\n",
    "for i in range(10):\n",
    "    myNumber = random.randint(1, 100)\n",
    "    print(myNumber)"
   ]
  },
  {
   "cell_type": "code",
   "execution_count": 11,
   "id": "1a54bb08",
   "metadata": {},
   "outputs": [
    {
     "name": "stdout",
     "output_type": "stream",
     "text": [
      "1\n",
      "6\n",
      "9\n",
      "5\n",
      "10\n",
      "9\n",
      "1\n",
      "1\n",
      "7\n",
      "3\n"
     ]
    }
   ],
   "source": [
    "import random\n",
    "\n",
    "\n",
    "for i in range(10):\n",
    "    myNumber = random.randint(1, 10)\n",
    "    print(myNumber)"
   ]
  },
  {
   "cell_type": "code",
   "execution_count": 18,
   "id": "2f82d265",
   "metadata": {},
   "outputs": [
    {
     "name": "stdout",
     "output_type": "stream",
     "text": [
      "I'm thinking of a number between 1 and 1,000,000!\n",
      "253034\n",
      "\n",
      "What is your guess? 253034\n",
      "It took you 1 to guess the number 253034 correctly.\n"
     ]
    }
   ],
   "source": [
    "# Daily Challenge: Guess the number game\n",
    "import random\n",
    "print(\"I'm thinking of a number between 1 and 1,000,000!\")\n",
    "number = random.randint(1,1000000)\n",
    "print(number)\n",
    "guesses = 0\n",
    "while True:\n",
    "    print(\"\")\n",
    "    guess = int(input(\"What is your guess? \"))\n",
    "    guesses += 1\n",
    "    if guess == number:\n",
    "        print(f\"It took you {guesses} to guess the number {number} correctly.\")\n",
    "        break\n",
    "    elif number > guess:\n",
    "        print(\"Too low\")\n",
    "    elif number < guess:\n",
    "        print(\"Too high\")\n",
    "    else:\n",
    "        print(\"I don't understand...\")"
   ]
  },
  {
   "cell_type": "markdown",
   "id": "0ba4ff9f",
   "metadata": {},
   "source": [
    "#### Day 23 Subroutines\n",
    "#### 5MAR24"
   ]
  },
  {
   "cell_type": "code",
   "execution_count": 15,
   "id": "50437c27",
   "metadata": {},
   "outputs": [
    {
     "name": "stdout",
     "output_type": "stream",
     "text": [
      "You rolled 1\n"
     ]
    }
   ],
   "source": [
    "def rollDice():\n",
    "    import random\n",
    "    dice = random.randint(1, 6)\n",
    "    print(\"You rolled\", dice)\n",
    "rollDice()"
   ]
  },
  {
   "cell_type": "code",
   "execution_count": 16,
   "id": "09e39cb7",
   "metadata": {},
   "outputs": [
    {
     "name": "stdout",
     "output_type": "stream",
     "text": [
      "You rolled 4\n",
      "You rolled 2\n",
      "You rolled 3\n",
      "You rolled 2\n",
      "You rolled 6\n",
      "You rolled 2\n",
      "You rolled 6\n",
      "You rolled 6\n",
      "You rolled 1\n",
      "You rolled 4\n",
      "You rolled 3\n",
      "You rolled 6\n",
      "You rolled 4\n",
      "You rolled 4\n",
      "You rolled 2\n",
      "You rolled 5\n",
      "You rolled 3\n",
      "You rolled 4\n",
      "You rolled 1\n",
      "You rolled 5\n",
      "You rolled 6\n",
      "You rolled 4\n",
      "You rolled 4\n",
      "You rolled 1\n",
      "You rolled 5\n",
      "You rolled 2\n",
      "You rolled 5\n",
      "You rolled 3\n",
      "You rolled 5\n",
      "You rolled 2\n",
      "You rolled 2\n",
      "You rolled 6\n",
      "You rolled 6\n",
      "You rolled 1\n",
      "You rolled 1\n",
      "You rolled 4\n",
      "You rolled 3\n",
      "You rolled 3\n",
      "You rolled 2\n",
      "You rolled 3\n",
      "You rolled 5\n",
      "You rolled 1\n",
      "You rolled 6\n",
      "You rolled 5\n",
      "You rolled 2\n",
      "You rolled 6\n",
      "You rolled 2\n",
      "You rolled 1\n",
      "You rolled 5\n",
      "You rolled 3\n",
      "You rolled 6\n",
      "You rolled 2\n",
      "You rolled 1\n",
      "You rolled 5\n",
      "You rolled 2\n",
      "You rolled 1\n",
      "You rolled 5\n",
      "You rolled 4\n",
      "You rolled 5\n",
      "You rolled 4\n",
      "You rolled 4\n",
      "You rolled 1\n",
      "You rolled 2\n",
      "You rolled 1\n",
      "You rolled 1\n",
      "You rolled 1\n",
      "You rolled 3\n",
      "You rolled 4\n",
      "You rolled 1\n",
      "You rolled 6\n",
      "You rolled 4\n",
      "You rolled 6\n",
      "You rolled 5\n",
      "You rolled 3\n",
      "You rolled 6\n",
      "You rolled 5\n",
      "You rolled 6\n",
      "You rolled 5\n",
      "You rolled 6\n",
      "You rolled 2\n",
      "You rolled 4\n",
      "You rolled 2\n",
      "You rolled 1\n",
      "You rolled 3\n",
      "You rolled 5\n",
      "You rolled 1\n",
      "You rolled 3\n",
      "You rolled 6\n",
      "You rolled 1\n",
      "You rolled 4\n",
      "You rolled 3\n",
      "You rolled 2\n",
      "You rolled 5\n",
      "You rolled 1\n",
      "You rolled 4\n",
      "You rolled 3\n",
      "You rolled 6\n",
      "You rolled 6\n",
      "You rolled 6\n",
      "You rolled 3\n"
     ]
    }
   ],
   "source": [
    "for i in range(100):\n",
    "    rollDice()"
   ]
  },
  {
   "cell_type": "code",
   "execution_count": 22,
   "id": "54b591c6",
   "metadata": {},
   "outputs": [
    {
     "name": "stdout",
     "output_type": "stream",
     "text": [
      "My favorite color is red.\n"
     ]
    }
   ],
   "source": [
    "# Fix my code\n",
    "def printFavoriteColor():\n",
    "    print(\"My favorite color is red.\")\n",
    "\n",
    "printFavoriteColor()"
   ]
  },
  {
   "cell_type": "code",
   "execution_count": 21,
   "id": "1f60d795",
   "metadata": {},
   "outputs": [
    {
     "name": "stdout",
     "output_type": "stream",
     "text": [
      "1\n",
      "2\n",
      "3\n",
      "4\n",
      "5\n"
     ]
    }
   ],
   "source": [
    "def countToFive():\n",
    "    for i in range(1,6):\n",
    "        print(i)\n",
    "        \n",
    "countToFive()"
   ]
  },
  {
   "cell_type": "code",
   "execution_count": 29,
   "id": "c454d6ca",
   "metadata": {},
   "outputs": [
    {
     "name": "stdout",
     "output_type": "stream",
     "text": [
      "What is your user name? T\n",
      "Please enter your password. p\n",
      "I didn't recognize either your user name or password...\n",
      "\n",
      "What is your user name? Tony\n",
      "Please enter your password. Password\n",
      "I didn't recognize either your user name or password...\n",
      "\n",
      "What is your user name? Tony\n",
      "Please enter your password. password\n",
      "Welcome to the system.\n"
     ]
    }
   ],
   "source": [
    "# Daily Challenge\n",
    "# Write a login system for a website.\n",
    "# Take in user name and password\n",
    "def login():\n",
    "    print(\"I didn't recognize either your user name or password...\\n\")\n",
    "while True:\n",
    "    user_name = input(\"What is your user name? \")\n",
    "    password = input (\"Please enter your password. \")\n",
    "    if user_name == \"Tony\" and password == \"password\":\n",
    "        break\n",
    "    else:\n",
    "        login()\n",
    "print(\"Welcome to the system.\")"
   ]
  },
  {
   "cell_type": "markdown",
   "id": "b0f9e2bb",
   "metadata": {},
   "source": [
    "#### Day 24 Parameters\n",
    "#### 6MAR24"
   ]
  },
  {
   "cell_type": "code",
   "execution_count": 5,
   "id": "1a6874c4",
   "metadata": {},
   "outputs": [
    {
     "name": "stdout",
     "output_type": "stream",
     "text": [
      "You what mate?!\n",
      "So you want a broccoli cake on a carrot base with yams on top?\n",
      "Name an ingredient: chocolate\n",
      "Name a type of base: red velvet\n",
      "Fave cake topping: cream cheese\n",
      "Mmm, chocolate cake is amazing\n",
      "So you want a chocolate cake on a red velvet base with cream cheese on top?\n"
     ]
    }
   ],
   "source": [
    "def withCake(ingredient, base, coating):\n",
    "    if ingredient == \"chocolate\":\n",
    "        print(\"Mmm, chocolate cake is amazing\")\n",
    "    elif ingredient == \"broccoli\":\n",
    "        print(\"You what mate?!\")\n",
    "    else:\n",
    "        print(\"Yeah, that's great I supposed...\")\n",
    "    print(\"So you want a\", ingredient, \"cake on a\", base, \"base with\", coating, \"on top?\")\n",
    "\n",
    "withCake(\"broccoli\", \"carrot\", \"yams\")\n",
    "\n",
    "userIngredient = input(\"Name an ingredient: \")\n",
    "userBase = input(\"Name a type of base: \")\n",
    "userCoating = input(\"Fave cake topping: \")\n",
    "withCake(userIngredient, userBase, userCoating)\n"
   ]
  },
  {
   "cell_type": "code",
   "execution_count": 7,
   "id": "b31a5f46",
   "metadata": {},
   "outputs": [
    {
     "name": "stdout",
     "output_type": "stream",
     "text": [
      "Name a pizza topping. pepperoni\n",
      "Name a second pizza topping. cheese\n",
      "pepperoni is a great choice\n",
      "cheese sounds delicious, much better than pepperoni\n"
     ]
    }
   ],
   "source": [
    "def pizza_order(topping1, topping2):\n",
    "    if topping1 == \"pepperoni\":\n",
    "        print(topping1, \"is a great choice\")\n",
    "    else:\n",
    "        print(topping1, \"is kinda lame on pizza\")\n",
    "    print(topping2, \"sounds delicious, much better than\", topping1)\n",
    "  \n",
    "\n",
    "topping1 = input(\"Name a pizza topping. \")\n",
    "topping2 = input(\"Name a second pizza topping. \")\n",
    "\n",
    "pizza_order(topping1, topping2)"
   ]
  },
  {
   "cell_type": "code",
   "execution_count": 24,
   "id": "ec014e4c",
   "metadata": {},
   "outputs": [
    {
     "name": "stdout",
     "output_type": "stream",
     "text": [
      "Roll the dice!\n",
      "How many sides is the die? 20\n",
      "19\n",
      "Would you like to roll again? Yes or No? y\n",
      "17\n",
      "Would you like to roll again? Yes or No? y\n",
      "16\n",
      "Would you like to roll again? Yes or No? y\n",
      "18\n",
      "Would you like to roll again? Yes or No? y\n",
      "13\n",
      "Would you like to roll again? Yes or No? y\n",
      "17\n",
      "Would you like to roll again? Yes or No? y\n",
      "15\n",
      "Would you like to roll again? Yes or No? y\n",
      "10\n",
      "Would you like to roll again? Yes or No? y\n",
      "10\n",
      "Would you like to roll again? Yes or No? y\n",
      "16\n",
      "Would you like to roll again? Yes or No? y\n",
      "13\n",
      "Would you like to roll again? Yes or No? y\n",
      "1\n",
      "Would you like to roll again? Yes or No? y\n",
      "9\n",
      "Would you like to roll again? Yes or No? no\n"
     ]
    }
   ],
   "source": [
    "# Daily Challenge\n",
    "def dice_roll(sides):\n",
    "    import random\n",
    "    print(random.randint(1,sides))\n",
    "    \n",
    "print(\"Roll the dice!\")\n",
    "num_sides = int(input(\"How many sides is the die? \"))\n",
    "keep_rolling = True\n",
    "\n",
    "while keep_rolling:\n",
    "    dice_roll(num_sides)\n",
    "    keep_going = input(\"Would you like to roll again? Yes or No? \")\n",
    "    if keep_going.lower() == \"no\":\n",
    "        keep_rolling = False"
   ]
  },
  {
   "cell_type": "markdown",
   "id": "bee5bf79",
   "metadata": {},
   "source": [
    "#### Day 25 Return Command\n",
    "#### 7MAR24"
   ]
  },
  {
   "cell_type": "code",
   "execution_count": 3,
   "id": "c3bd42da",
   "metadata": {},
   "outputs": [
    {
     "name": "stdout",
     "output_type": "stream",
     "text": [
      "7674\n"
     ]
    }
   ],
   "source": [
    "def pinPicker(number):\n",
    "    import random\n",
    "    pin =\"\"\n",
    "    for i in range(number):\n",
    "        pin += str(random.randint(0,9))\n",
    "    return pin\n",
    "\n",
    "print(pinPicker(4))"
   ]
  },
  {
   "cell_type": "code",
   "execution_count": 6,
   "id": "b9a1e8d2",
   "metadata": {},
   "outputs": [
    {
     "data": {
      "text/plain": [
       "55.0"
      ]
     },
     "execution_count": 6,
     "metadata": {},
     "output_type": "execute_result"
    }
   ],
   "source": [
    "def areaOfTriangle(base, height):\n",
    "    area = 0.5 * base * height\n",
    "    return area\n",
    "\n",
    "areaOfTriangle(5,22)"
   ]
  },
  {
   "cell_type": "code",
   "execution_count": 9,
   "id": "b4f05e32",
   "metadata": {},
   "outputs": [
    {
     "name": "stdout",
     "output_type": "stream",
     "text": [
      "48\n"
     ]
    }
   ],
   "source": [
    "def area_square(side1, side2):\n",
    "    area = side1 * side2\n",
    "    return area\n",
    "\n",
    "area = area_square(4, 12)\n",
    "print(area)"
   ]
  },
  {
   "cell_type": "code",
   "execution_count": 24,
   "id": "f894b8a2",
   "metadata": {},
   "outputs": [
    {
     "name": "stdout",
     "output_type": "stream",
     "text": [
      "⚔️ Stat Generator ⚔️\n",
      "What is your character's name? Tony\n",
      "Your character's name is\u001b[32m Tony\u001b[0m. \n",
      "Your HP is \u001b[31m 40\u001b[0m. \n",
      "Your MP is \u001b[34m 8\u001b[0m.\n",
      "Your INT is \u001b[35m 6\u001b[0m.\n"
     ]
    }
   ],
   "source": [
    "# Daily Challenge\n",
    "# Character Stat Generator\n",
    "\"\"\"\n",
    "* create a subroutine that rolls a dice of any size and returns it\n",
    "* create another subroutine that rolls an 8 and a 6 and returns their product as health\n",
    "* Ask for the name of the character\n",
    "* put the stats in different colors\n",
    "\"\"\"\n",
    "def dice_roll(size):\n",
    "    import random\n",
    "    roll = random.randint(1,size)\n",
    "    return roll\n",
    "\n",
    "def generate_character():\n",
    "    print(\"⚔️ Stat Generator ⚔️\")\n",
    "    character_name = input(\"What is your character's name? \")\n",
    "    HP = dice_roll(6) * dice_roll(8)\n",
    "    MP = dice_roll(10) + 5\n",
    "    INT = dice_roll(20) + 5\n",
    "    print(f\"Your character's name is\\033[32m {character_name}\\033[0m. \")\n",
    "    print(f\"Your HP is \\033[31m {HP}\\033[0m. \")\n",
    "    print(f\"Your MP is \\033[34m {MP}\\033[0m.\")\n",
    "    print(f\"Your INT is \\033[35m {INT}\\033[0m.\")\n",
    "\n",
    "generate_character()"
   ]
  },
  {
   "cell_type": "markdown",
   "id": "4a42dcae",
   "metadata": {},
   "source": [
    "#### Day 26 The Power of Libraries in Games\n",
    "#### 8MAR24"
   ]
  },
  {
   "cell_type": "code",
   "execution_count": 7,
   "id": "ef57f653",
   "metadata": {},
   "outputs": [
    {
     "name": "stdout",
     "output_type": "stream",
     "text": [
      "1\n",
      "\u001b[H\u001b[2J2\n",
      "\u001b[H\u001b[2J3\n",
      "\u001b[H\u001b[2J4\n",
      "\u001b[H\u001b[2J5\n",
      "\u001b[H\u001b[2J6\n",
      "\u001b[H\u001b[2J7\n",
      "\u001b[H\u001b[2J8\n",
      "\u001b[H\u001b[2J9\n",
      "\u001b[H\u001b[2J"
     ]
    }
   ],
   "source": [
    "import os\n",
    "\n",
    "for i in range(1,10):\n",
    "    print(i)\n",
    "    os.system(\"clear\")"
   ]
  },
  {
   "cell_type": "code",
   "execution_count": null,
   "id": "8fce14dc",
   "metadata": {},
   "outputs": [],
   "source": [
    "import os, time\n",
    "\n",
    "print(\"Welcome\")\n",
    "print(\"to\")\n",
    "print(\"Replit\")\n",
    "\n",
    "time.sleep(1)\n",
    "os.system(\"clear\")\n",
    "\n",
    "username = input(\"Username: \")\n"
   ]
  },
  {
   "cell_type": "code",
   "execution_count": 11,
   "id": "1dfc23a4",
   "metadata": {},
   "outputs": [
    {
     "name": "stdout",
     "output_type": "stream",
     "text": [
      "\u001b[H\u001b[2JWelcome to the music menu\n",
      "Press 1 to Play\n",
      "Press 2 to Exit\n",
      "Press anything else to refresh the menu\n",
      "hi\n",
      "\u001b[H\u001b[2JWelcome to the music menu\n",
      "Press 1 to Play\n",
      "Press 2 to Exit\n",
      "Press anything else to refresh the menu\n",
      "2\n"
     ]
    }
   ],
   "source": [
    "# challenge notes before creation\n",
    "# Create a music menu\n",
    "# Use a while true loop to pop up the menu for a music player\n",
    "# Look like an old ipd screen\n",
    "\n",
    "# Press 1 to Play -> Run sub-routine play (\"Playing some proper tunes!\")\n",
    "# Press 2 to Exit\n",
    "# Press anything else to see the menu again (\"Completley clear the screen, display the title \")\n",
    "# Press Exit to leave\n",
    "\n",
    "# Title: iPodS4\n",
    "# menu option \n",
    "# allow user\n",
    "\n",
    "from replit import audio\n",
    "import os, time\n",
    "\n",
    "def play():\n",
    "    os.system(\"clear\")\n",
    "    print(\"Jamming along...\")\n",
    "    time.sleep(1)\n",
    "    os.system(\"clear\")\n",
    "    \n",
    "    source = audio.play_file('audio.wav')\n",
    "    source.paused = False # unpause the playback\n",
    "    \n",
    "    while True:\n",
    "        print(\"Press 1 to Pause\")\n",
    "        play_choice = input(\" \")\n",
    "        if play_choice == \"1\":\n",
    "            source.paused = True\n",
    "            break\n",
    "\n",
    "while True:\n",
    "    os.system(\"clear\")\n",
    "    print(\"A Flight and a Crash\")\n",
    "    time.sleep(1)\n",
    "    os.system(\"clear\")\n",
    "\n",
    "    print(\"Press 1 to Play\")\n",
    "    print(\"Press 2 to Exit\")\n",
    "    print(\"Press anything else to refresh the menu\")\n",
    "    user_choice = input(\"\")\n",
    "    if user_choice == \"1\":\n",
    "        play()\n",
    "    elif user_choice == \"2\":\n",
    "        break\n",
    "    else:\n",
    "        continue"
   ]
  },
  {
   "cell_type": "markdown",
   "id": "33ff1b57",
   "metadata": {},
   "source": [
    "#### Day 27 Epic Character Battle Part 1\n",
    "#### 9MAR24"
   ]
  },
  {
   "cell_type": "code",
   "execution_count": 36,
   "id": "db9d00e4",
   "metadata": {},
   "outputs": [
    {
     "name": "stdout",
     "output_type": "stream",
     "text": [
      "D&D Character Creation...\n",
      "What is your character's name? Tony\n",
      "Character type: (human, imp, wizard, elf, etc) ? imp\n",
      "Tony the imp\n",
      "HEALTH: 28\n",
      "STRENGTH: 15\n",
      "\u001b[H\u001b[2JTony the imp\n",
      "HEALTH: 28\n",
      "STRENGTH: 15\n",
      " \n",
      "May your battles be the substance of legend!\n",
      "\u001b[H\u001b[2JCreate another character? (enter yes)no\n"
     ]
    }
   ],
   "source": [
    "# Write a subroutine that generates a character: first name and character type (human, imp, wizard, elf, etc.).\n",
    "# Write a subroutine that multiplies a bunch of random dice rolls together to generate the character's health stats. Use this formula:\n",
    "# HP: (d6 * d12)/2 + 10\n",
    "# STR: (d6 * d12)/2 + 12\n",
    "\n",
    "import os, time\n",
    "\n",
    "def character_builder():\n",
    "    char_name = input(\"What is your character's name? \")\n",
    "    char_class = input(\"Character type: (human, imp, wizard, elf, etc) ? \")\n",
    "    hp = hp_gen()\n",
    "    atk = atk_gen()\n",
    "    print(f\"{char_name} the {char_class}\")\n",
    "    print(f\"HEALTH: {hp}\")\n",
    "    print(f\"STRENGTH: {atk}\")\n",
    "    return(char_name, char_class, hp, atk)\n",
    "\n",
    "def dice_roll(sides):\n",
    "    import random\n",
    "    return(random.randint(1,sides))\n",
    "    \n",
    "def hp_gen():\n",
    "    return(round((dice_roll(6) * dice_roll(12))/2) + 10)\n",
    "\n",
    "def atk_gen():\n",
    "    return(round((dice_roll(6) * dice_roll(8))/2) + 12)\n",
    "\n",
    "create_another_character = True\n",
    "while True:\n",
    "    print(\"D&D Character Creation...\")\n",
    "    \n",
    "    char_name , char_class, hp, atk = character_builder()\n",
    "    os.system(\"clear\")\n",
    "    print(f\"{char_name} the {char_class}\")\n",
    "    print(f\"HEALTH: {hp}\")\n",
    "    print(f\"STRENGTH: {atk}\")\n",
    "    print(\" \")\n",
    "    print(\"May your battles be the substance of legend!\")\n",
    "    time.sleep(2)\n",
    "    os.system(\"clear\")\n",
    "    \n",
    "    \n",
    "    again = input(\"Create another character? (enter yes)\")\n",
    "    if again.lower() != 'yes':\n",
    "        break\n",
    "    else:\n",
    "        os.system(\"clear\")\n",
    "        time.sleep(1)\n",
    "        "
   ]
  },
  {
   "cell_type": "markdown",
   "id": "c418abc7",
   "metadata": {},
   "source": [
    "#### Day 28 Battle Simulator!\n",
    "#### 10MAR24"
   ]
  },
  {
   "cell_type": "code",
   "execution_count": 39,
   "id": "e00291e8",
   "metadata": {},
   "outputs": [
    {
     "name": "stdout",
     "output_type": "stream",
     "text": [
      "Let's have a fight to the death!\n",
      "Who is the first character to enter the ring?\n",
      "What is your character's name? Tony\n",
      "Character type: (human, imp, wizard, elf, etc) ? human\n",
      "Tony the human\n",
      "HEALTH: 14\n",
      "STRENGTH: 14\n",
      "\u001b[H\u001b[2JWho be the second character to enter the ring?\n",
      "What is your character's name? Kaylee\n",
      "Character type: (human, imp, wizard, elf, etc) ? Wizard\n",
      "Kaylee the Wizard\n",
      "HEALTH: 32\n",
      "STRENGTH: 18\n",
      "\u001b[H\u001b[2JThis battle will be epic!\n",
      "Let's see who wins this round!\n",
      " \n",
      "Tony has rolled: 1.\n",
      "Kaylee has rolled: 1.\n",
      " \n",
      "Tie game!\n",
      "No damage delt.\n",
      " \n",
      "Tony has 14 health remaining.\n",
      "Kaylee has 32 health remaining.\n",
      "\u001b[H\u001b[2JLet's see who wins this round!\n",
      " \n",
      "Tony has rolled: 5.\n",
      "Kaylee has rolled: 2.\n",
      " \n",
      "Tony wins this round.\n",
      "Kaylee takes 8 points of damage.\n",
      "Tony has 14 health remaining.\n",
      "Kaylee has 24 health remaining.\n",
      "\u001b[H\u001b[2JLet's see who wins this round!\n",
      " \n",
      "Tony has rolled: 1.\n",
      "Kaylee has rolled: 6.\n",
      " \n",
      "Kaylee wins this round.\n",
      "Tony takes 10 points of damage.\n",
      "Tony has 4 health remaining.\n",
      "Kaylee has 24 health remaining.\n",
      "\u001b[H\u001b[2JLet's see who wins this round!\n",
      " \n",
      "Tony has rolled: 2.\n",
      "Kaylee has rolled: 4.\n",
      " \n",
      "Kaylee wins this round.\n",
      "Tony takes 7 points of damage.\n",
      "Game Over: Kaylee is victorious!\n"
     ]
    }
   ],
   "source": [
    "import os, time\n",
    "\n",
    "\n",
    "def character_builder():\n",
    "    char_name = input(\"What is your character's name? \")\n",
    "    char_class = input(\"Character type: (human, imp, wizard, elf, etc) ? \")\n",
    "    hp = hp_gen()\n",
    "    atk = atk_gen()\n",
    "    print(f\"{char_name} the {char_class}\")\n",
    "    print(f\"HEALTH: {hp}\")\n",
    "    print(f\"STRENGTH: {atk}\")\n",
    "    return (char_name, char_class, hp, atk)\n",
    "\n",
    "\n",
    "def dice_roll(sides):\n",
    "    import random\n",
    "    return (random.randint(1, sides))\n",
    "\n",
    "\n",
    "def hp_gen():\n",
    "    return (round((dice_roll(6) * dice_roll(12)) / 2) + 10)\n",
    "\n",
    "\n",
    "def atk_gen():\n",
    "    return (round((dice_roll(6) * dice_roll(8)) / 2) + 12)\n",
    "\n",
    "\n",
    "print(\"Let's have a fight to the death!\")\n",
    "\n",
    "print(\"Who is the first character to enter the ring?\")\n",
    "char_name1, char_class1, hp1, atk1 = character_builder()\n",
    "time.sleep(2)\n",
    "os.system(\"clear\")\n",
    "print(\"Who be the second character to enter the ring?\")\n",
    "char_name2, char_class2, hp2, atk2 = character_builder()\n",
    "time.sleep(2)\n",
    "os.system(\"clear\")\n",
    "\n",
    "print(\"This battle will be epic!\")\n",
    "while True:\n",
    "    # see who wins\n",
    "    print(\"Let's see who wins this round!\")\n",
    "    print(\" \")\n",
    "    time.sleep(1)\n",
    "    winner = \"no one\"\n",
    "    player1_roll = dice_roll(6)\n",
    "    player2_roll = dice_roll(6)\n",
    "    print(f\"{char_name1} has rolled: {player1_roll}.\")\n",
    "    print(f\"{char_name2} has rolled: {player2_roll}.\")\n",
    "    print(\" \")\n",
    "    time.sleep(4)\n",
    "\n",
    "    if player1_roll > player2_roll:\n",
    "        winner = \"p1\"\n",
    "        print(f\"{char_name1} wins this round.\")\n",
    "        extra_damage = player1_roll - player2_roll\n",
    "    elif player1_roll < player2_roll:\n",
    "        winner = \"p2\"\n",
    "        print(f\"{char_name2} wins this round.\")\n",
    "        extra_damage = player2_roll - player1_roll\n",
    "    else:\n",
    "        print(\"Tie game!\")\n",
    "        extra_damage = 0\n",
    "    time.sleep(4)\n",
    "  # Assess damage\n",
    "    damage = abs(atk1 - atk2) + 1 + extra_damage\n",
    "  \n",
    "    if winner == \"p1\":\n",
    "        hp2 -= damage\n",
    "        print(f\"{char_name2} takes {damage} points of damage.\")\n",
    "    elif winner == \"p2\":\n",
    "        hp1 -= damage\n",
    "        print(f\"{char_name1} takes {damage} points of damage.\")\n",
    "    else:\n",
    "        print(\"No damage delt.\")\n",
    "        print(\" \")\n",
    "    time.sleep(3)\n",
    "\n",
    "  # Check to see if someone died\n",
    "    if hp1 <= 0:\n",
    "        print(f\"Game Over: {char_name2} is victorious!\")\n",
    "        break\n",
    "    if hp2 <= 0:\n",
    "        print(f\"Game Over: {char_name1} has won the day!\")\n",
    "        break\n",
    "    print(f\"{char_name1} has {hp1} health remaining.\")\n",
    "    print(f\"{char_name2} has {hp2} health remaining.\")\n",
    "\n",
    "    time.sleep(5)\n",
    "    os.system(\"clear\")\n"
   ]
  },
  {
   "cell_type": "markdown",
   "id": "8e62e26b",
   "metadata": {},
   "source": [
    "#### Day 29 The secretes of `print`\n",
    "#### 11MAR24"
   ]
  },
  {
   "cell_type": "code",
   "execution_count": 47,
   "id": "3d5d7c15",
   "metadata": {},
   "outputs": [
    {
     "name": "stdout",
     "output_type": "stream",
     "text": [
      "0123456789"
     ]
    }
   ],
   "source": [
    "for i in range(0,10):\n",
    "    print(i, end=\"\")\n",
    "    #\\t\n",
    "    #\\v\n"
   ]
  },
  {
   "cell_type": "code",
   "execution_count": 48,
   "id": "fc6784e0",
   "metadata": {},
   "outputs": [
    {
     "name": "stdout",
     "output_type": "stream",
     "text": [
      "If you put\n",
      "\u001b[33mnothing as the\n",
      "\u001b[35mend character\n",
      "\u001b[32mthen you don't\n",
      "\u001b[0mget odd gaps\n"
     ]
    }
   ],
   "source": [
    "print(\"If you put\")\n",
    "print(\"\\033[33m\", end=\"\") #yellow\n",
    "print(\"nothing as the\")\n",
    "print(\"\\033[35m\", end=\"\") #purple\n",
    "print(\"end character\")\n",
    "print(\"\\033[32m\", end=\"\") #green\n",
    "print(\"then you don't\")\n",
    "print(\"\\033[0m\", end=\"\") #default\n",
    "print(\"get odd gaps\")"
   ]
  },
  {
   "cell_type": "code",
   "execution_count": 66,
   "id": "5770fefb",
   "metadata": {},
   "outputs": [
    {
     "name": "stdout",
     "output_type": "stream",
     "text": [
      "If you put \u001b[33m nothing as the \u001b[35m end character \u001b[32m then you don't \u001b[0m get odd gaps\t"
     ]
    }
   ],
   "source": [
    "print(\"If you put\", \"\\033[33m\", \"nothing as the\", \"\\033[35m\", \"end character\", \"\\033[32m\", \"then you don't\", \"\\033[0m\", \"get odd gaps\", sep=\" \", end=\"\\t\")"
   ]
  },
  {
   "cell_type": "code",
   "execution_count": 62,
   "id": "521cff61",
   "metadata": {},
   "outputs": [
    {
     "name": "stdout",
     "output_type": "stream",
     "text": [
      "\u001b[?25l1 \u001b[H\u001b[2J2 \u001b[H\u001b[2J3 \u001b[H\u001b[2J4 \u001b[H\u001b[2J5 \u001b[H\u001b[2J6 \u001b[H\u001b[2J7 \u001b[H\u001b[2J8 \u001b[H\u001b[2J9 \u001b[H\u001b[2J\u001b[?25h"
     ]
    }
   ],
   "source": [
    "import os, time\n",
    "\n",
    "print('\\033[?25l',end=\"\") # Turn off the cursor\n",
    "\n",
    "for i in range(1,10):\n",
    "    print(i, end=\" \")\n",
    "    time.sleep(0.5)\n",
    "    os.system('clear')\n",
    "    \n",
    "print(\"\\033[?25h\", end=\"\") # Turn it back on"
   ]
  },
  {
   "cell_type": "code",
   "execution_count": 81,
   "id": "3db7ba76",
   "metadata": {},
   "outputs": [
    {
     "name": "stdout",
     "output_type": "stream",
     "text": [
      "Super Subroutine\n",
      "With my \u001b[0;35m new program \u001b[0m I can just\n",
      "call \u001b[0;31m RED butt kiss \u001b[0m and that word will appear in the color I set it to.\n",
      "With no \u001b[0;36m weird gaps.\n"
     ]
    }
   ],
   "source": [
    "# Challenge\n",
    "def color_text(color, text):\n",
    "    if color == \"BLACK\":\n",
    "        code = \"\\033[0;30m\"\n",
    "    elif color == \"RED\":\n",
    "        code = \"\\033[0;31m\"\n",
    "    elif color == \"GREEN\":\n",
    "        code = \"\\033[0;32m\"\n",
    "    elif color == \"BROWN\":\n",
    "        code = \"\\033[0;33m\"\n",
    "    elif color == \"BLUE\":\n",
    "        code = \"\\033[0;34m\"\n",
    "    elif color == \"PURPLE\":\n",
    "        code = \"\\033[0;35m\"\n",
    "    elif color == \"CYAN\":\n",
    "        code = \"\\033[0;36m\"\n",
    "    elif color == \"LIGHT_GRAY\":\n",
    "        code = \"\\033[0;37m\"\n",
    "    elif color == \"DARK_GRAY\":\n",
    "        code = \"\\033[1;30m\"\n",
    "    elif color == \"LIGHT_RED\":\n",
    "        code = \"\\033[1;31m\"\n",
    "    elif color == \"LIGHT_GREEN\":\n",
    "        code = \"\\033[1;32m\"\n",
    "    elif color == \"YELLOW\":\n",
    "        code = \"\\033[1;33m\"\n",
    "    elif color == \"LIGHT_BLUE\": \n",
    "        code = \"\\033[1;34m\"\n",
    "    elif color == \"LIGHT_PURPLE\":\n",
    "        code = \"\\033[1;35m\"\n",
    "    elif color == \"LIGHT_CYAN\":\n",
    "        code = \"\\033[1;36m\"\n",
    "    elif color == \"LIGHT_WHITE\":\n",
    "        code = \"\\033[1;37m\"\n",
    "    \n",
    "    \n",
    "    print(\"Super Subroutine\", end=\"\\n\")\n",
    "    print(\"With my\", \"\\033[0;35m\", \"new program\", \"\\033[0m\", \"I can just\", sep=\" \")\n",
    "    print(\"call\",code, color,text,\"\\033[0m\",\"and that word will appear in the color I set it to.\", sep=\" \")\n",
    "    print(\"With no\", \"\\033[0;36m\", \"weird gaps.\")\n",
    "\n",
    "color_text(\"RED\", \"butt kiss\")"
   ]
  },
  {
   "cell_type": "markdown",
   "id": "4a996519",
   "metadata": {},
   "source": [
    "#### Day 30 f...what?\n",
    "#### 12MAR24"
   ]
  },
  {
   "cell_type": "code",
   "execution_count": 88,
   "id": "8c0ad80b",
   "metadata": {},
   "outputs": [
    {
     "name": "stdout",
     "output_type": "stream",
     "text": [
      "This is Katie, using she/her pronouns and is 28 years old.\n",
      "This is Katie, using she/her pronouns and is 28 years old.\n"
     ]
    }
   ],
   "source": [
    "name = \"Katie\"\n",
    "age = 28\n",
    "pronouns = \"she/her\"\n",
    "\n",
    "print(f\"This is {name}, using {pronouns} pronouns and is {age} years old.\")\n",
    "\n",
    "print(\"This is {}, using {} pronouns and is {} years old.\".format(name, pronouns, age))"
   ]
  },
  {
   "cell_type": "code",
   "execution_count": 94,
   "id": "88763c64",
   "metadata": {},
   "outputs": [
    {
     "name": "stdout",
     "output_type": "stream",
     "text": [
      "This is Katie, using she/her pronouns and is 28 years old.\n",
      "Hello Katie, how are you? \n",
      "Have you been having a great 28 years so far?\n"
     ]
    }
   ],
   "source": [
    "name = \"Katie\"\n",
    "age = 28\n",
    "pronouns = \"she/her\"\n",
    "response = \"This is {name}, using {pronouns} pronouns and is {age} years old.\\nHello {name}, how are you? \\nHave you been having a great {age} years so far?\".format(name=name, pronouns=pronouns, age=age)\n",
    "print(response)"
   ]
  },
  {
   "cell_type": "code",
   "execution_count": 96,
   "id": "494a6aad",
   "metadata": {},
   "outputs": [
    {
     "name": "stdout",
     "output_type": "stream",
     "text": [
      "This is David, using he/him pronouns and is 38 years old.\n",
      "\n",
      "Hello David, how are you? Have you been having a great 38 years so far?\n"
     ]
    }
   ],
   "source": [
    "# Using f\n",
    "name = \"David\"\n",
    "age = 38\n",
    "pronouns = \"he/him\"\n",
    "\n",
    "response = f\"\"\"This is {name}, using {pronouns} pronouns and is {age} years old.\n",
    "\n",
    "Hello {name}, how are you? Have you been having a great {age} years so far?\"\"\"\n",
    "\n",
    "print(response)"
   ]
  },
  {
   "cell_type": "code",
   "execution_count": 99,
   "id": "5afe1ae2",
   "metadata": {},
   "outputs": [
    {
     "name": "stdout",
     "output_type": "stream",
     "text": [
      "Day  1  of 100\n",
      "Day  2  of 100\n",
      "Day  3  of 100\n",
      "Day  4  of 100\n",
      "Day  5  of 100\n",
      "Day  6  of 100\n",
      "Day  7  of 100\n",
      "Day  8  of 100\n",
      "Day  9  of 100\n",
      "Day 10  of 100\n",
      "Day 11  of 100\n",
      "Day 12  of 100\n",
      "Day 13  of 100\n",
      "Day 14  of 100\n",
      "Day 15  of 100\n",
      "Day 16  of 100\n",
      "Day 17  of 100\n",
      "Day 18  of 100\n",
      "Day 19  of 100\n",
      "Day 20  of 100\n",
      "Day 21  of 100\n",
      "Day 22  of 100\n",
      "Day 23  of 100\n",
      "Day 24  of 100\n",
      "Day 25  of 100\n",
      "Day 26  of 100\n",
      "Day 27  of 100\n",
      "Day 28  of 100\n",
      "Day 29  of 100\n",
      "Day 30  of 100\n"
     ]
    }
   ],
   "source": [
    "for i in range(1,31):\n",
    "    print(f\"Day {i: ^3} of 100\")"
   ]
  },
  {
   "cell_type": "code",
   "execution_count": 103,
   "id": "9e4fab92",
   "metadata": {},
   "outputs": [
    {
     "name": "stdout",
     "output_type": "stream",
     "text": [
      "Alejandra ordered pizza to eat at the beach with her friend, Quinn. \n",
      "She got to the beach and looked for a green umbrella where Quinn said they would be waiting. \n",
      "By the time, Sally found Quinn, the pizza was cold and the beach was lame.\n"
     ]
    }
   ],
   "source": [
    "# Fix my code\n",
    "food = \"pizza\"\n",
    "location = \"beach\"\n",
    "color = \"green\"\n",
    "friend = \"Quinn\"\n",
    "\n",
    "response = \"Alejandra ordered {food} to eat at the {location} with her friend, {friend}. \\nShe got to the {location} and looked for a {color} umbrella where {friend} said they would be waiting. \\nBy the time, Sally found {friend}, the {food} was cold and the {location} was lame.\".format(food=food, location=location, color=color,friend=friend)\n",
    "\n",
    "print(response)"
   ]
  },
  {
   "cell_type": "code",
   "execution_count": 123,
   "id": "77bd7881",
   "metadata": {},
   "outputs": [
    {
     "name": "stdout",
     "output_type": "stream",
     "text": [
      "30 Days Down\n",
      "Use 1 word to describe each day.\n",
      "Day: 1\n",
      "Meh\n",
      "                                                You thought Day: 1 was Meh.\n",
      "Day: 2\n",
      "fine\n",
      "                                               You thought Day: 2 was fine.\n",
      "Day: 3\n",
      "good\n",
      "                                               You thought Day: 3 was good.\n",
      "Day: 4\n",
      "great\n",
      "                                              You thought Day: 4 was great.\n"
     ]
    }
   ],
   "source": [
    "# Daily Challenge\n",
    "print(\"30 Days Down\")\n",
    "print(\"Use 1 word to describe each day.\")\n",
    "\n",
    "for i in range(1,5):\n",
    "    day = \"Day: \"+ str(i)\n",
    "    print(day)\n",
    "    one_word = input()\n",
    "    response = f\"You thought {day} was {one_word}.\"\n",
    "    print(f\"{response: >75}\" )"
   ]
  }
 ],
 "metadata": {
  "kernelspec": {
   "display_name": "Python 3 (ipykernel)",
   "language": "python",
   "name": "python3"
  },
  "language_info": {
   "codemirror_mode": {
    "name": "ipython",
    "version": 3
   },
   "file_extension": ".py",
   "mimetype": "text/x-python",
   "name": "python",
   "nbconvert_exporter": "python",
   "pygments_lexer": "ipython3",
   "version": "3.9.18"
  }
 },
 "nbformat": 4,
 "nbformat_minor": 5
}
